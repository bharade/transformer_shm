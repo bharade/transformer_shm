{
 "cells": [
  {
   "cell_type": "code",
   "execution_count": 1,
   "id": "e0a0bb25",
   "metadata": {
    "execution": {
     "iopub.execute_input": "2024-09-18T13:13:02.589817Z",
     "iopub.status.busy": "2024-09-18T13:13:02.589414Z",
     "iopub.status.idle": "2024-09-18T13:13:19.668947Z",
     "shell.execute_reply": "2024-09-18T13:13:19.668162Z"
    },
    "papermill": {
     "duration": 17.094504,
     "end_time": "2024-09-18T13:13:19.671289",
     "exception": false,
     "start_time": "2024-09-18T13:13:02.576785",
     "status": "completed"
    },
    "tags": []
   },
   "outputs": [],
   "source": [
    "from tensorflow import keras\n",
    "from tensorflow.keras import layers\n",
    "from tensorflow.keras.layers import AveragePooling1D, Reshape\n",
    "from tensorflow.keras import layers, models, optimizers\n",
    "from tensorflow.keras.optimizers import Adam\n",
    "import h5py\n",
    "import numpy as np\n",
    "import tensorflow as tf\n",
    "from tensorflow.keras.layers import (\n",
    "    Input, Conv1D, MaxPooling1D, UpSampling1D, Conv1DTranspose,\n",
    "    UpSampling1D, SpatialDropout1D, Dense, Flatten, BatchNormalization, AveragePooling1D\n",
    ")\n",
    "from tensorflow.keras.models import Model\n",
    "from tensorflow.keras.optimizers import Adam\n",
    "from tensorflow.keras.losses import BinaryCrossentropy\n",
    "from tensorflow.keras.regularizers import l2\n",
    "from tensorflow.keras.callbacks import LearningRateScheduler, EarlyStopping\n",
    "from tensorflow.keras.initializers import HeUniform\n",
    "import csv\n",
    "import os\n",
    "import pandas as pd\n",
    "from transformers import BertTokenizer\n",
    "from datasets import Dataset\n",
    "from tensorflow.keras.models import Sequential\n",
    "from tensorflow.keras.layers import SimpleRNN, Dense, Dropout\n",
    "from tensorflow.keras.optimizers import Adam"
   ]
  },
  {
   "cell_type": "code",
   "execution_count": 2,
   "id": "1694923a",
   "metadata": {
    "execution": {
     "iopub.execute_input": "2024-09-18T13:13:19.691645Z",
     "iopub.status.busy": "2024-09-18T13:13:19.691047Z",
     "iopub.status.idle": "2024-09-18T13:13:19.695342Z",
     "shell.execute_reply": "2024-09-18T13:13:19.694612Z"
    },
    "papermill": {
     "duration": 0.01648,
     "end_time": "2024-09-18T13:13:19.697412",
     "exception": false,
     "start_time": "2024-09-18T13:13:19.680932",
     "status": "completed"
    },
    "tags": []
   },
   "outputs": [],
   "source": [
    "# Specify the parent directory containing the folders with CSV files\n",
    "folder_path_baseline = '/kaggle/input/ogw2-processed/OGW2_processed/Baseline'\n",
    "folder_path_damage='/kaggle/input/ogw2-processed/OGW2_processed/Damage'\n",
    "\n",
    "# # Initialize lists to store data and labels\n",
    "# data_list = []\n",
    "# labels_list = []"
   ]
  },
  {
   "cell_type": "code",
   "execution_count": 3,
   "id": "45cc0d74",
   "metadata": {
    "execution": {
     "iopub.execute_input": "2024-09-18T13:13:19.717396Z",
     "iopub.status.busy": "2024-09-18T13:13:19.717064Z",
     "iopub.status.idle": "2024-09-18T13:13:19.727501Z",
     "shell.execute_reply": "2024-09-18T13:13:19.726613Z"
    },
    "papermill": {
     "duration": 0.022935,
     "end_time": "2024-09-18T13:13:19.729623",
     "exception": false,
     "start_time": "2024-09-18T13:13:19.706688",
     "status": "completed"
    },
    "tags": []
   },
   "outputs": [],
   "source": [
    "# Function to process pristine (undamaged) samples\n",
    "def process_csv_files_udam(parent_directory_target_udam, target_database):\n",
    "    sample_id_counter = 1\n",
    "\n",
    "    # Define the allowed frequency range (40kHz to 160kHz)\n",
    "    allowed_frequencies = set(range(40, 161, 20))  # [40, 60, 80, ..., 160]\n",
    "\n",
    "    # Iterate over each file in the parent directory\n",
    "    for filename in os.listdir(parent_directory_target_udam):\n",
    "        filepath = os.path.join(parent_directory_target_udam, filename)\n",
    "\n",
    "        # Check if the file is a CSV and contains a valid frequency in the name\n",
    "        if filename.endswith('.csv'):\n",
    "            try:\n",
    "                # Extract the frequency from the filename (e.g., 20181222T030033_data_260kHz.csv)\n",
    "                frequency_str = filename.split('_data_')[1].replace('kHz.csv', '')\n",
    "                frequency = int(frequency_str)\n",
    "\n",
    "                # Check if the frequency is within the allowed range\n",
    "                if frequency in allowed_frequencies:\n",
    "                    # Read data from CSV file and select columns 3 and 4 (index 2 and 3)\n",
    "                    with open(filepath, 'r') as file:\n",
    "                        reader = csv.reader(file)\n",
    "                        data = np.array([[row[2], row[3]] for row in reader], dtype=float)  # Select columns 3 and 4\n",
    "\n",
    "                    # Split the (4370, 2) matrix into two separate 1D sequences\n",
    "                    sequence1 = data[:, 0]  # Column 3 as 1D sequence\n",
    "                    sequence2 = data[:, 1]  # Column 4 as 1D sequence\n",
    "\n",
    "                    # Create two separate samples with the same label (0 for undamaged)\n",
    "                    sample1 = {'Sample ID': sample_id_counter, 'Condition': 0, 'Data': sequence1.tolist()}\n",
    "                    sample2 = {'Sample ID': sample_id_counter + 1, 'Condition': 0, 'Data': sequence2.tolist()}\n",
    "\n",
    "                    # Add samples to the database\n",
    "                    target_database.append(sample1)\n",
    "                    target_database.append(sample2)\n",
    "\n",
    "                    # Increment the sample ID counter\n",
    "                    sample_id_counter += 2\n",
    "\n",
    "            except (IndexError, ValueError):\n",
    "                # Skip the file if frequency extraction fails\n",
    "                continue\n",
    "\n",
    "\n"
   ]
  },
  {
   "cell_type": "code",
   "execution_count": 4,
   "id": "0edc68e2",
   "metadata": {
    "execution": {
     "iopub.execute_input": "2024-09-18T13:13:19.751644Z",
     "iopub.status.busy": "2024-09-18T13:13:19.751300Z",
     "iopub.status.idle": "2024-09-18T13:13:19.762523Z",
     "shell.execute_reply": "2024-09-18T13:13:19.761584Z"
    },
    "papermill": {
     "duration": 0.024814,
     "end_time": "2024-09-18T13:13:19.764707",
     "exception": false,
     "start_time": "2024-09-18T13:13:19.739893",
     "status": "completed"
    },
    "tags": []
   },
   "outputs": [],
   "source": [
    "# Function to process damaged samples\n",
    "def process_csv_files_dam(folder_path, database):\n",
    "    sample_id_counter = 1\n",
    "\n",
    "    # Define the allowed frequency range (40kHz to 160kHz)\n",
    "    allowed_frequencies = set(range(40, 161, 20))  # [40, 60, 80, ..., 160]\n",
    "\n",
    "    if os.path.isdir(folder_path):\n",
    "        # Iterate over each CSV file in the folder\n",
    "        for filename in os.listdir(folder_path):\n",
    "            if filename.endswith('.csv'):\n",
    "                try:\n",
    "                    # Extract the frequency from the filename (e.g., 20181222T030033_data_260kHz.csv)\n",
    "                    frequency_str = filename.split('_data_')[1].replace('kHz.csv', '')\n",
    "                    frequency = int(frequency_str)\n",
    "\n",
    "                    # Check if the frequency is within the allowed range\n",
    "                    if frequency in allowed_frequencies:\n",
    "                        # Read data from CSV file and select columns 3 and 4 (index 2 and 3)\n",
    "                        with open(os.path.join(folder_path, filename), 'r') as file:\n",
    "                            reader = csv.reader(file)\n",
    "                            data = np.array([[row[2], row[3]] for row in reader], dtype=float)  # Select columns 3 and 4\n",
    "\n",
    "                        # Split the (4370, 2) matrix into two separate 1D sequences\n",
    "                        sequence1 = data[:, 0]  # Column 3 as 1D sequence\n",
    "                        sequence2 = data[:, 1]  # Column 4 as 1D sequence\n",
    "\n",
    "                        # Create two separate samples with the same label (1 for damaged)\n",
    "                        sample1 = {'Sample ID': sample_id_counter, 'Condition': 1, 'Data': sequence1.tolist()}\n",
    "                        sample2 = {'Sample ID': sample_id_counter + 1, 'Condition': 1, 'Data': sequence2.tolist()}\n",
    "\n",
    "                        # Add samples to the database\n",
    "                        database.append(sample1)\n",
    "                        database.append(sample2)\n",
    "\n",
    "                        # Increment the sample ID counter\n",
    "                        sample_id_counter += 2\n",
    "\n",
    "                except (IndexError, ValueError):\n",
    "                    # Skip the file if frequency extraction fails\n",
    "                    continue"
   ]
  },
  {
   "cell_type": "code",
   "execution_count": 5,
   "id": "1950c22c",
   "metadata": {
    "execution": {
     "iopub.execute_input": "2024-09-18T13:13:19.787363Z",
     "iopub.status.busy": "2024-09-18T13:13:19.787019Z",
     "iopub.status.idle": "2024-09-18T13:14:16.615311Z",
     "shell.execute_reply": "2024-09-18T13:14:16.614372Z"
    },
    "papermill": {
     "duration": 56.85125,
     "end_time": "2024-09-18T13:14:16.626684",
     "exception": false,
     "start_time": "2024-09-18T13:13:19.775434",
     "status": "completed"
    },
    "tags": []
   },
   "outputs": [
    {
     "name": "stdout",
     "output_type": "stream",
     "text": [
      "4508\n"
     ]
    }
   ],
   "source": [
    "# Process the samples\n",
    "udam = []\n",
    "process_csv_files_udam(folder_path_baseline, udam)\n",
    "print(len(udam))"
   ]
  },
  {
   "cell_type": "code",
   "execution_count": 6,
   "id": "4fca700d",
   "metadata": {
    "execution": {
     "iopub.execute_input": "2024-09-18T13:14:16.646992Z",
     "iopub.status.busy": "2024-09-18T13:14:16.646616Z",
     "iopub.status.idle": "2024-09-18T13:14:45.961421Z",
     "shell.execute_reply": "2024-09-18T13:14:45.960406Z"
    },
    "papermill": {
     "duration": 29.327319,
     "end_time": "2024-09-18T13:14:45.963801",
     "exception": false,
     "start_time": "2024-09-18T13:14:16.636482",
     "status": "completed"
    },
    "tags": []
   },
   "outputs": [
    {
     "name": "stdout",
     "output_type": "stream",
     "text": [
      "2254\n"
     ]
    }
   ],
   "source": [
    "dam = []\n",
    "process_csv_files_dam(folder_path_damage, dam)\n",
    "print(len(dam))"
   ]
  },
  {
   "cell_type": "code",
   "execution_count": 7,
   "id": "bd05288c",
   "metadata": {
    "execution": {
     "iopub.execute_input": "2024-09-18T13:14:45.984417Z",
     "iopub.status.busy": "2024-09-18T13:14:45.983642Z",
     "iopub.status.idle": "2024-09-18T13:14:49.116686Z",
     "shell.execute_reply": "2024-09-18T13:14:49.115663Z"
    },
    "papermill": {
     "duration": 3.145656,
     "end_time": "2024-09-18T13:14:49.119042",
     "exception": false,
     "start_time": "2024-09-18T13:14:45.973386",
     "status": "completed"
    },
    "tags": []
   },
   "outputs": [
    {
     "name": "stdout",
     "output_type": "stream",
     "text": [
      "Data normalization complete.\n"
     ]
    }
   ],
   "source": [
    "# Function to normalize a list of samples (either udam or dam) to the range [0, 1]\n",
    "def normalize_samples(samples):\n",
    "    for sample in samples:\n",
    "        data = np.array(sample['Data'])\n",
    "        \n",
    "        # Calculate the min and max values\n",
    "        min_val = np.min(data)\n",
    "        max_val = np.max(data)\n",
    "        \n",
    "        # Apply min-max scaling\n",
    "        if max_val > min_val:  # To avoid division by zero\n",
    "            scaled_data = (data - min_val) / (max_val - min_val)\n",
    "        else:\n",
    "            scaled_data = data  # If min and max are the same, keep the data unchanged\n",
    "            \n",
    "        # Update the sample with the scaled data\n",
    "        sample['Data'] = scaled_data.tolist()\n",
    "\n",
    "# Example usage: Normalize both udam and dam\n",
    "normalize_samples(udam)\n",
    "normalize_samples(dam)\n",
    "\n",
    "print(\"Data normalization complete.\")"
   ]
  },
  {
   "cell_type": "code",
   "execution_count": 8,
   "id": "9999bdc8",
   "metadata": {
    "execution": {
     "iopub.execute_input": "2024-09-18T13:14:49.140365Z",
     "iopub.status.busy": "2024-09-18T13:14:49.140022Z",
     "iopub.status.idle": "2024-09-18T13:14:49.146768Z",
     "shell.execute_reply": "2024-09-18T13:14:49.145898Z"
    },
    "papermill": {
     "duration": 0.019076,
     "end_time": "2024-09-18T13:14:49.148751",
     "exception": false,
     "start_time": "2024-09-18T13:14:49.129675",
     "status": "completed"
    },
    "tags": []
   },
   "outputs": [],
   "source": [
    "import numpy as np\n",
    "\n",
    "# Function to augment damaged data samples\n",
    "def augment_damaged_data(damaged_samples, augment_factor=1, noise_level=0.01):\n",
    "    augmented_samples = []\n",
    "    \n",
    "    for sample in damaged_samples:\n",
    "        original_data = np.array(sample['Data'])\n",
    "        \n",
    "        for _ in range(augment_factor):\n",
    "            # Create noise and apply to the original data\n",
    "            noise = np.random.normal(0, noise_level, original_data.shape)\n",
    "            augmented_data = original_data + noise\n",
    "            \n",
    "            # Create an augmented sample with the same metadata\n",
    "            augmented_sample = {\n",
    "                'Sample ID': f\"{sample['Sample ID']}_aug\",\n",
    "                'Condition': sample['Condition'],  # Keep the same condition\n",
    "                'Data': augmented_data.tolist()\n",
    "            }\n",
    "            \n",
    "            # Append the augmented sample to the augmented_samples list\n",
    "            augmented_samples.append(augmented_sample)\n",
    "    \n",
    "    return augmented_samples\n",
    "\n"
   ]
  },
  {
   "cell_type": "code",
   "execution_count": 9,
   "id": "1c2574c5",
   "metadata": {
    "execution": {
     "iopub.execute_input": "2024-09-18T13:14:49.168865Z",
     "iopub.status.busy": "2024-09-18T13:14:49.168554Z",
     "iopub.status.idle": "2024-09-18T13:14:50.815293Z",
     "shell.execute_reply": "2024-09-18T13:14:50.814462Z"
    },
    "papermill": {
     "duration": 1.659245,
     "end_time": "2024-09-18T13:14:50.817507",
     "exception": false,
     "start_time": "2024-09-18T13:14:49.158262",
     "status": "completed"
    },
    "tags": []
   },
   "outputs": [],
   "source": [
    "# Example usage\n",
    "dam_augmented = augment_damaged_data(dam, augment_factor=1, noise_level=0.01)\n",
    "dam.extend(dam_augmented)"
   ]
  },
  {
   "cell_type": "code",
   "execution_count": 10,
   "id": "20357f72",
   "metadata": {
    "execution": {
     "iopub.execute_input": "2024-09-18T13:14:50.837510Z",
     "iopub.status.busy": "2024-09-18T13:14:50.837183Z",
     "iopub.status.idle": "2024-09-18T13:14:50.842016Z",
     "shell.execute_reply": "2024-09-18T13:14:50.841107Z"
    },
    "papermill": {
     "duration": 0.017042,
     "end_time": "2024-09-18T13:14:50.844008",
     "exception": false,
     "start_time": "2024-09-18T13:14:50.826966",
     "status": "completed"
    },
    "tags": []
   },
   "outputs": [
    {
     "name": "stdout",
     "output_type": "stream",
     "text": [
      "Total damaged samples after augmentation: 4508\n"
     ]
    }
   ],
   "source": [
    "print(f\"Total damaged samples after augmentation: {len(dam)}\")"
   ]
  },
  {
   "cell_type": "code",
   "execution_count": 11,
   "id": "7c4c5076",
   "metadata": {
    "execution": {
     "iopub.execute_input": "2024-09-18T13:14:50.863898Z",
     "iopub.status.busy": "2024-09-18T13:14:50.863580Z",
     "iopub.status.idle": "2024-09-18T13:14:50.867565Z",
     "shell.execute_reply": "2024-09-18T13:14:50.866808Z"
    },
    "papermill": {
     "duration": 0.01623,
     "end_time": "2024-09-18T13:14:50.869479",
     "exception": false,
     "start_time": "2024-09-18T13:14:50.853249",
     "status": "completed"
    },
    "tags": []
   },
   "outputs": [],
   "source": [
    "combined_database=udam + dam"
   ]
  },
  {
   "cell_type": "code",
   "execution_count": 12,
   "id": "c58ba46d",
   "metadata": {
    "execution": {
     "iopub.execute_input": "2024-09-18T13:14:50.889678Z",
     "iopub.status.busy": "2024-09-18T13:14:50.889393Z",
     "iopub.status.idle": "2024-09-18T13:14:50.893669Z",
     "shell.execute_reply": "2024-09-18T13:14:50.892758Z"
    },
    "papermill": {
     "duration": 0.016675,
     "end_time": "2024-09-18T13:14:50.895807",
     "exception": false,
     "start_time": "2024-09-18T13:14:50.879132",
     "status": "completed"
    },
    "tags": []
   },
   "outputs": [
    {
     "name": "stdout",
     "output_type": "stream",
     "text": [
      "Total undamaged samples after augmentation: 4508\n"
     ]
    }
   ],
   "source": [
    "print(f\"Total undamaged samples after augmentation: {len(udam)}\")"
   ]
  },
  {
   "cell_type": "code",
   "execution_count": null,
   "id": "77dfadcb",
   "metadata": {
    "papermill": {
     "duration": 0.009252,
     "end_time": "2024-09-18T13:14:50.914344",
     "exception": false,
     "start_time": "2024-09-18T13:14:50.905092",
     "status": "completed"
    },
    "tags": []
   },
   "outputs": [],
   "source": []
  },
  {
   "cell_type": "code",
   "execution_count": 13,
   "id": "a3a5b9c5",
   "metadata": {
    "execution": {
     "iopub.execute_input": "2024-09-18T13:14:50.934011Z",
     "iopub.status.busy": "2024-09-18T13:14:50.933709Z",
     "iopub.status.idle": "2024-09-18T13:14:54.752592Z",
     "shell.execute_reply": "2024-09-18T13:14:54.751677Z"
    },
    "papermill": {
     "duration": 3.831044,
     "end_time": "2024-09-18T13:14:54.754691",
     "exception": false,
     "start_time": "2024-09-18T13:14:50.923647",
     "status": "completed"
    },
    "tags": []
   },
   "outputs": [
    {
     "name": "stdout",
     "output_type": "stream",
     "text": [
      "x_train shape: (7212, 4370)\n",
      "y_train shape: (7212,)\n",
      "x_test shape: (1804, 4370)\n",
      "y_test shape: (1804,)\n"
     ]
    }
   ],
   "source": [
    "import random\n",
    "from sklearn.model_selection import train_test_split\n",
    "# Combine undamaged and damaged samples into one dataset\n",
    "full_database = udam + dam\n",
    "\n",
    "# Shuffle the combined database\n",
    "random.shuffle(full_database)\n",
    "\n",
    "# Extract data (features) and labels (targets) from the full_database\n",
    "data = [sample['Data'] for sample in full_database]  # This will be your X\n",
    "labels = [sample['Condition'] for sample in full_database]  # This will be your y\n",
    "\n",
    "# Perform an 80/20 split for training and testing\n",
    "x_train, x_test, y_train, y_test = train_test_split(data, labels, test_size=0.2, random_state=42)\n",
    "\n",
    "# Convert lists to NumPy arrays for compatibility with machine learning models\n",
    "x_train = np.array(x_train)\n",
    "y_train = np.array(y_train)\n",
    "x_test = np.array(x_test)\n",
    "y_test = np.array(y_test)\n",
    "\n",
    "# Print the shapes of the resulting arrays for verification\n",
    "print(f\"x_train shape: {x_train.shape}\")\n",
    "print(f\"y_train shape: {y_train.shape}\")\n",
    "print(f\"x_test shape: {x_test.shape}\")\n",
    "print(f\"y_test shape: {y_test.shape}\")"
   ]
  },
  {
   "cell_type": "code",
   "execution_count": 14,
   "id": "e55e6568",
   "metadata": {
    "execution": {
     "iopub.execute_input": "2024-09-18T13:14:54.775693Z",
     "iopub.status.busy": "2024-09-18T13:14:54.775088Z",
     "iopub.status.idle": "2024-09-18T13:14:55.199276Z",
     "shell.execute_reply": "2024-09-18T13:14:55.198221Z"
    },
    "papermill": {
     "duration": 0.436913,
     "end_time": "2024-09-18T13:14:55.201504",
     "exception": false,
     "start_time": "2024-09-18T13:14:54.764591",
     "status": "completed"
    },
    "tags": []
   },
   "outputs": [
    {
     "name": "stdout",
     "output_type": "stream",
     "text": [
      "x_train_max shape: (7212, 874)\n",
      "x_test_max shape: (1804, 874)\n"
     ]
    }
   ],
   "source": [
    "# Downsample by taking the maximum of every 5 consecutive points\n",
    "x_train_max = np.max(x_train.reshape(x_train.shape[0], -1, 5), axis=2)\n",
    "x_test_max = np.max(x_test.reshape(x_test.shape[0], -1, 5), axis=2)\n",
    "\n",
    "# Check the new shape\n",
    "print(f\"x_train_max shape: {x_train_max.shape}\")\n",
    "print(f\"x_test_max shape: {x_test_max.shape}\")\n"
   ]
  },
  {
   "cell_type": "code",
   "execution_count": 15,
   "id": "dd8cdfba",
   "metadata": {
    "execution": {
     "iopub.execute_input": "2024-09-18T13:14:55.222108Z",
     "iopub.status.busy": "2024-09-18T13:14:55.221481Z",
     "iopub.status.idle": "2024-09-18T13:14:56.175906Z",
     "shell.execute_reply": "2024-09-18T13:14:56.174745Z"
    },
    "papermill": {
     "duration": 0.966877,
     "end_time": "2024-09-18T13:14:56.177995",
     "exception": false,
     "start_time": "2024-09-18T13:14:55.211118",
     "status": "completed"
    },
    "tags": []
   },
   "outputs": [
    {
     "name": "stdout",
     "output_type": "stream",
     "text": [
      "Number of devices: 2\n"
     ]
    }
   ],
   "source": [
    "# Define your callbacks\n",
    "callbacks = [keras.callbacks.EarlyStopping(patience=10, restore_best_weights=True)]\n",
    "# Define a MirroredStrategy for multi-GPU training\n",
    "strategy = tf.distribute.MirroredStrategy()\n",
    "\n",
    "print(f'Number of devices: {strategy.num_replicas_in_sync}')"
   ]
  },
  {
   "cell_type": "code",
   "execution_count": 16,
   "id": "98bf3052",
   "metadata": {
    "execution": {
     "iopub.execute_input": "2024-09-18T13:14:56.199194Z",
     "iopub.status.busy": "2024-09-18T13:14:56.198627Z",
     "iopub.status.idle": "2024-09-18T13:15:10.042221Z",
     "shell.execute_reply": "2024-09-18T13:15:10.041275Z"
    },
    "papermill": {
     "duration": 13.856764,
     "end_time": "2024-09-18T13:15:10.044498",
     "exception": false,
     "start_time": "2024-09-18T13:14:56.187734",
     "status": "completed"
    },
    "tags": []
   },
   "outputs": [
    {
     "name": "stderr",
     "output_type": "stream",
     "text": [
      "/opt/conda/lib/python3.10/pty.py:89: RuntimeWarning: os.fork() was called. os.fork() is incompatible with multithreaded code, and JAX is multithreaded, so this will likely lead to a deadlock.\n",
      "  pid, fd = os.forkpty()\n"
     ]
    },
    {
     "name": "stdout",
     "output_type": "stream",
     "text": [
      "Requirement already satisfied: transformers in /opt/conda/lib/python3.10/site-packages (4.44.0)\r\n",
      "Requirement already satisfied: filelock in /opt/conda/lib/python3.10/site-packages (from transformers) (3.15.1)\r\n",
      "Requirement already satisfied: huggingface-hub<1.0,>=0.23.2 in /opt/conda/lib/python3.10/site-packages (from transformers) (0.24.6)\r\n",
      "Requirement already satisfied: numpy>=1.17 in /opt/conda/lib/python3.10/site-packages (from transformers) (1.26.4)\r\n",
      "Requirement already satisfied: packaging>=20.0 in /opt/conda/lib/python3.10/site-packages (from transformers) (21.3)\r\n",
      "Requirement already satisfied: pyyaml>=5.1 in /opt/conda/lib/python3.10/site-packages (from transformers) (6.0.2)\r\n",
      "Requirement already satisfied: regex!=2019.12.17 in /opt/conda/lib/python3.10/site-packages (from transformers) (2024.5.15)\r\n",
      "Requirement already satisfied: requests in /opt/conda/lib/python3.10/site-packages (from transformers) (2.32.3)\r\n",
      "Requirement already satisfied: safetensors>=0.4.1 in /opt/conda/lib/python3.10/site-packages (from transformers) (0.4.4)\r\n",
      "Requirement already satisfied: tokenizers<0.20,>=0.19 in /opt/conda/lib/python3.10/site-packages (from transformers) (0.19.1)\r\n",
      "Requirement already satisfied: tqdm>=4.27 in /opt/conda/lib/python3.10/site-packages (from transformers) (4.66.4)\r\n",
      "Requirement already satisfied: fsspec>=2023.5.0 in /opt/conda/lib/python3.10/site-packages (from huggingface-hub<1.0,>=0.23.2->transformers) (2024.6.1)\r\n",
      "Requirement already satisfied: typing-extensions>=3.7.4.3 in /opt/conda/lib/python3.10/site-packages (from huggingface-hub<1.0,>=0.23.2->transformers) (4.12.2)\r\n",
      "Requirement already satisfied: pyparsing!=3.0.5,>=2.0.2 in /opt/conda/lib/python3.10/site-packages (from packaging>=20.0->transformers) (3.1.2)\r\n",
      "Requirement already satisfied: charset-normalizer<4,>=2 in /opt/conda/lib/python3.10/site-packages (from requests->transformers) (3.3.2)\r\n",
      "Requirement already satisfied: idna<4,>=2.5 in /opt/conda/lib/python3.10/site-packages (from requests->transformers) (3.7)\r\n",
      "Requirement already satisfied: urllib3<3,>=1.21.1 in /opt/conda/lib/python3.10/site-packages (from requests->transformers) (1.26.18)\r\n",
      "Requirement already satisfied: certifi>=2017.4.17 in /opt/conda/lib/python3.10/site-packages (from requests->transformers) (2024.7.4)\r\n"
     ]
    }
   ],
   "source": [
    "!pip install transformers\n",
    "\n",
    "import torch\n",
    "from transformers import AutoTokenizer, AutoModelForSequenceClassification\n",
    "from torch.utils.data import DataLoader, TensorDataset\n",
    "import torch.optim as optim\n",
    "import tensorflow as tf\n",
    "from tensorflow import keras\n",
    "from tensorflow.keras import layers"
   ]
  },
  {
   "cell_type": "code",
   "execution_count": 17,
   "id": "7f30a10c",
   "metadata": {
    "execution": {
     "iopub.execute_input": "2024-09-18T13:15:10.066359Z",
     "iopub.status.busy": "2024-09-18T13:15:10.066000Z",
     "iopub.status.idle": "2024-09-18T13:15:10.072983Z",
     "shell.execute_reply": "2024-09-18T13:15:10.072253Z"
    },
    "papermill": {
     "duration": 0.020092,
     "end_time": "2024-09-18T13:15:10.074957",
     "exception": false,
     "start_time": "2024-09-18T13:15:10.054865",
     "status": "completed"
    },
    "tags": []
   },
   "outputs": [],
   "source": [
    "# Multi-GPU setup\n",
    "strategy = tf.distribute.MirroredStrategy()"
   ]
  },
  {
   "cell_type": "code",
   "execution_count": 18,
   "id": "a2334c06",
   "metadata": {
    "execution": {
     "iopub.execute_input": "2024-09-18T13:15:10.096196Z",
     "iopub.status.busy": "2024-09-18T13:15:10.095900Z",
     "iopub.status.idle": "2024-09-18T13:15:10.102413Z",
     "shell.execute_reply": "2024-09-18T13:15:10.101588Z"
    },
    "papermill": {
     "duration": 0.019349,
     "end_time": "2024-09-18T13:15:10.104326",
     "exception": false,
     "start_time": "2024-09-18T13:15:10.084977",
     "status": "completed"
    },
    "tags": []
   },
   "outputs": [],
   "source": [
    "\n",
    "# Transformer Encoder block definition\n",
    "def transformer_encoder(inputs, head_size, num_heads, ff_dim, dropout=0):\n",
    "    # Attention and Normalization\n",
    "    x = layers.MultiHeadAttention(\n",
    "        key_dim=head_size, num_heads=num_heads, dropout=dropout\n",
    "    )(inputs, inputs)\n",
    "    x = layers.Dropout(dropout)(x)\n",
    "    x = layers.LayerNormalization(epsilon=1e-6)(x)\n",
    "    res = x + inputs\n",
    "\n",
    "    # Feed Forward part\n",
    "    x = layers.Conv1D(filters=ff_dim, kernel_size=1, activation=\"relu\")(res)\n",
    "    x = layers.Dropout(dropout)(x)\n",
    "    x = layers.Conv1D(filters=inputs.shape[-1], kernel_size=1)(x)\n",
    "    x = layers.LayerNormalization(epsilon=1e-6)(x)\n",
    "    return x + res\n"
   ]
  },
  {
   "cell_type": "code",
   "execution_count": 19,
   "id": "71aaa334",
   "metadata": {
    "execution": {
     "iopub.execute_input": "2024-09-18T13:15:10.126420Z",
     "iopub.status.busy": "2024-09-18T13:15:10.125617Z",
     "iopub.status.idle": "2024-09-18T13:15:10.132960Z",
     "shell.execute_reply": "2024-09-18T13:15:10.132037Z"
    },
    "papermill": {
     "duration": 0.020447,
     "end_time": "2024-09-18T13:15:10.134868",
     "exception": false,
     "start_time": "2024-09-18T13:15:10.114421",
     "status": "completed"
    },
    "tags": []
   },
   "outputs": [],
   "source": [
    "# Model building function\n",
    "def build_model(\n",
    "    input_shape,\n",
    "    head_size,\n",
    "    num_heads,\n",
    "    ff_dim,\n",
    "    num_transformer_blocks,\n",
    "    mlp_units,\n",
    "    dropout=0,\n",
    "    mlp_dropout=0,\n",
    "):\n",
    "    inputs = keras.Input(shape=input_shape)\n",
    "    # Reshape the input to 3D (batch_size, 4370, 1)\n",
    "    x = layers.Reshape((input_shape[0], 1))(inputs)\n",
    "    #x = inputs\n",
    "    for _ in range(num_transformer_blocks):\n",
    "        x = transformer_encoder(x, head_size, num_heads, ff_dim, dropout)\n",
    "\n",
    "    # Flatten the tensor instead of reshaping\n",
    "    x = layers.Flatten()(x)\n",
    "    \n",
    "    for dim in mlp_units:\n",
    "        x = layers.Dense(dim, activation=\"relu\")(x)\n",
    "        x = layers.Dropout(mlp_dropout)(x)\n",
    "    \n",
    "    # Output layer for binary classification\n",
    "    outputs = layers.Dense(1, activation=\"sigmoid\")(x)\n",
    "    return keras.Model(inputs, outputs)\n"
   ]
  },
  {
   "cell_type": "code",
   "execution_count": 20,
   "id": "c8b11987",
   "metadata": {
    "execution": {
     "iopub.execute_input": "2024-09-18T13:15:10.155968Z",
     "iopub.status.busy": "2024-09-18T13:15:10.155650Z",
     "iopub.status.idle": "2024-09-18T13:15:10.678087Z",
     "shell.execute_reply": "2024-09-18T13:15:10.677140Z"
    },
    "papermill": {
     "duration": 0.536078,
     "end_time": "2024-09-18T13:15:10.680963",
     "exception": false,
     "start_time": "2024-09-18T13:15:10.144885",
     "status": "completed"
    },
    "tags": []
   },
   "outputs": [
    {
     "data": {
      "text/html": [
       "<pre style=\"white-space:pre;overflow-x:auto;line-height:normal;font-family:Menlo,'DejaVu Sans Mono',consolas,'Courier New',monospace\"><span style=\"font-weight: bold\">Model: \"functional_1\"</span>\n",
       "</pre>\n"
      ],
      "text/plain": [
       "\u001b[1mModel: \"functional_1\"\u001b[0m\n"
      ]
     },
     "metadata": {},
     "output_type": "display_data"
    },
    {
     "data": {
      "text/html": [
       "<pre style=\"white-space:pre;overflow-x:auto;line-height:normal;font-family:Menlo,'DejaVu Sans Mono',consolas,'Courier New',monospace\">┏━━━━━━━━━━━━━━━━━━━━━┳━━━━━━━━━━━━━━━━━━━┳━━━━━━━━━━━━┳━━━━━━━━━━━━━━━━━━━┓\n",
       "┃<span style=\"font-weight: bold\"> Layer (type)        </span>┃<span style=\"font-weight: bold\"> Output Shape      </span>┃<span style=\"font-weight: bold\">    Param # </span>┃<span style=\"font-weight: bold\"> Connected to      </span>┃\n",
       "┡━━━━━━━━━━━━━━━━━━━━━╇━━━━━━━━━━━━━━━━━━━╇━━━━━━━━━━━━╇━━━━━━━━━━━━━━━━━━━┩\n",
       "│ input_layer         │ (<span style=\"color: #00d7ff; text-decoration-color: #00d7ff\">None</span>, <span style=\"color: #00af00; text-decoration-color: #00af00\">874</span>)       │          <span style=\"color: #00af00; text-decoration-color: #00af00\">0</span> │ -                 │\n",
       "│ (<span style=\"color: #0087ff; text-decoration-color: #0087ff\">InputLayer</span>)        │                   │            │                   │\n",
       "├─────────────────────┼───────────────────┼────────────┼───────────────────┤\n",
       "│ reshape (<span style=\"color: #0087ff; text-decoration-color: #0087ff\">Reshape</span>)   │ (<span style=\"color: #00d7ff; text-decoration-color: #00d7ff\">None</span>, <span style=\"color: #00af00; text-decoration-color: #00af00\">874</span>, <span style=\"color: #00af00; text-decoration-color: #00af00\">1</span>)    │          <span style=\"color: #00af00; text-decoration-color: #00af00\">0</span> │ input_layer[<span style=\"color: #00af00; text-decoration-color: #00af00\">0</span>][<span style=\"color: #00af00; text-decoration-color: #00af00\">0</span>] │\n",
       "├─────────────────────┼───────────────────┼────────────┼───────────────────┤\n",
       "│ multi_head_attenti… │ (<span style=\"color: #00d7ff; text-decoration-color: #00d7ff\">None</span>, <span style=\"color: #00af00; text-decoration-color: #00af00\">874</span>, <span style=\"color: #00af00; text-decoration-color: #00af00\">1</span>)    │     <span style=\"color: #00af00; text-decoration-color: #00af00\">28,673</span> │ reshape[<span style=\"color: #00af00; text-decoration-color: #00af00\">0</span>][<span style=\"color: #00af00; text-decoration-color: #00af00\">0</span>],    │\n",
       "│ (<span style=\"color: #0087ff; text-decoration-color: #0087ff\">MultiHeadAttentio…</span> │                   │            │ reshape[<span style=\"color: #00af00; text-decoration-color: #00af00\">0</span>][<span style=\"color: #00af00; text-decoration-color: #00af00\">0</span>]     │\n",
       "├─────────────────────┼───────────────────┼────────────┼───────────────────┤\n",
       "│ dropout_1 (<span style=\"color: #0087ff; text-decoration-color: #0087ff\">Dropout</span>) │ (<span style=\"color: #00d7ff; text-decoration-color: #00d7ff\">None</span>, <span style=\"color: #00af00; text-decoration-color: #00af00\">874</span>, <span style=\"color: #00af00; text-decoration-color: #00af00\">1</span>)    │          <span style=\"color: #00af00; text-decoration-color: #00af00\">0</span> │ multi_head_atten… │\n",
       "├─────────────────────┼───────────────────┼────────────┼───────────────────┤\n",
       "│ layer_normalization │ (<span style=\"color: #00d7ff; text-decoration-color: #00d7ff\">None</span>, <span style=\"color: #00af00; text-decoration-color: #00af00\">874</span>, <span style=\"color: #00af00; text-decoration-color: #00af00\">1</span>)    │          <span style=\"color: #00af00; text-decoration-color: #00af00\">2</span> │ dropout_1[<span style=\"color: #00af00; text-decoration-color: #00af00\">0</span>][<span style=\"color: #00af00; text-decoration-color: #00af00\">0</span>]   │\n",
       "│ (<span style=\"color: #0087ff; text-decoration-color: #0087ff\">LayerNormalizatio…</span> │                   │            │                   │\n",
       "├─────────────────────┼───────────────────┼────────────┼───────────────────┤\n",
       "│ add (<span style=\"color: #0087ff; text-decoration-color: #0087ff\">Add</span>)           │ (<span style=\"color: #00d7ff; text-decoration-color: #00d7ff\">None</span>, <span style=\"color: #00af00; text-decoration-color: #00af00\">874</span>, <span style=\"color: #00af00; text-decoration-color: #00af00\">1</span>)    │          <span style=\"color: #00af00; text-decoration-color: #00af00\">0</span> │ layer_normalizat… │\n",
       "│                     │                   │            │ reshape[<span style=\"color: #00af00; text-decoration-color: #00af00\">0</span>][<span style=\"color: #00af00; text-decoration-color: #00af00\">0</span>]     │\n",
       "├─────────────────────┼───────────────────┼────────────┼───────────────────┤\n",
       "│ conv1d (<span style=\"color: #0087ff; text-decoration-color: #0087ff\">Conv1D</span>)     │ (<span style=\"color: #00d7ff; text-decoration-color: #00d7ff\">None</span>, <span style=\"color: #00af00; text-decoration-color: #00af00\">874</span>, <span style=\"color: #00af00; text-decoration-color: #00af00\">128</span>)  │        <span style=\"color: #00af00; text-decoration-color: #00af00\">256</span> │ add[<span style=\"color: #00af00; text-decoration-color: #00af00\">0</span>][<span style=\"color: #00af00; text-decoration-color: #00af00\">0</span>]         │\n",
       "├─────────────────────┼───────────────────┼────────────┼───────────────────┤\n",
       "│ dropout_2 (<span style=\"color: #0087ff; text-decoration-color: #0087ff\">Dropout</span>) │ (<span style=\"color: #00d7ff; text-decoration-color: #00d7ff\">None</span>, <span style=\"color: #00af00; text-decoration-color: #00af00\">874</span>, <span style=\"color: #00af00; text-decoration-color: #00af00\">128</span>)  │          <span style=\"color: #00af00; text-decoration-color: #00af00\">0</span> │ conv1d[<span style=\"color: #00af00; text-decoration-color: #00af00\">0</span>][<span style=\"color: #00af00; text-decoration-color: #00af00\">0</span>]      │\n",
       "├─────────────────────┼───────────────────┼────────────┼───────────────────┤\n",
       "│ conv1d_1 (<span style=\"color: #0087ff; text-decoration-color: #0087ff\">Conv1D</span>)   │ (<span style=\"color: #00d7ff; text-decoration-color: #00d7ff\">None</span>, <span style=\"color: #00af00; text-decoration-color: #00af00\">874</span>, <span style=\"color: #00af00; text-decoration-color: #00af00\">1</span>)    │        <span style=\"color: #00af00; text-decoration-color: #00af00\">129</span> │ dropout_2[<span style=\"color: #00af00; text-decoration-color: #00af00\">0</span>][<span style=\"color: #00af00; text-decoration-color: #00af00\">0</span>]   │\n",
       "├─────────────────────┼───────────────────┼────────────┼───────────────────┤\n",
       "│ layer_normalizatio… │ (<span style=\"color: #00d7ff; text-decoration-color: #00d7ff\">None</span>, <span style=\"color: #00af00; text-decoration-color: #00af00\">874</span>, <span style=\"color: #00af00; text-decoration-color: #00af00\">1</span>)    │          <span style=\"color: #00af00; text-decoration-color: #00af00\">2</span> │ conv1d_1[<span style=\"color: #00af00; text-decoration-color: #00af00\">0</span>][<span style=\"color: #00af00; text-decoration-color: #00af00\">0</span>]    │\n",
       "│ (<span style=\"color: #0087ff; text-decoration-color: #0087ff\">LayerNormalizatio…</span> │                   │            │                   │\n",
       "├─────────────────────┼───────────────────┼────────────┼───────────────────┤\n",
       "│ add_1 (<span style=\"color: #0087ff; text-decoration-color: #0087ff\">Add</span>)         │ (<span style=\"color: #00d7ff; text-decoration-color: #00d7ff\">None</span>, <span style=\"color: #00af00; text-decoration-color: #00af00\">874</span>, <span style=\"color: #00af00; text-decoration-color: #00af00\">1</span>)    │          <span style=\"color: #00af00; text-decoration-color: #00af00\">0</span> │ layer_normalizat… │\n",
       "│                     │                   │            │ add[<span style=\"color: #00af00; text-decoration-color: #00af00\">0</span>][<span style=\"color: #00af00; text-decoration-color: #00af00\">0</span>]         │\n",
       "├─────────────────────┼───────────────────┼────────────┼───────────────────┤\n",
       "│ multi_head_attenti… │ (<span style=\"color: #00d7ff; text-decoration-color: #00d7ff\">None</span>, <span style=\"color: #00af00; text-decoration-color: #00af00\">874</span>, <span style=\"color: #00af00; text-decoration-color: #00af00\">1</span>)    │     <span style=\"color: #00af00; text-decoration-color: #00af00\">28,673</span> │ add_1[<span style=\"color: #00af00; text-decoration-color: #00af00\">0</span>][<span style=\"color: #00af00; text-decoration-color: #00af00\">0</span>],      │\n",
       "│ (<span style=\"color: #0087ff; text-decoration-color: #0087ff\">MultiHeadAttentio…</span> │                   │            │ add_1[<span style=\"color: #00af00; text-decoration-color: #00af00\">0</span>][<span style=\"color: #00af00; text-decoration-color: #00af00\">0</span>]       │\n",
       "├─────────────────────┼───────────────────┼────────────┼───────────────────┤\n",
       "│ dropout_4 (<span style=\"color: #0087ff; text-decoration-color: #0087ff\">Dropout</span>) │ (<span style=\"color: #00d7ff; text-decoration-color: #00d7ff\">None</span>, <span style=\"color: #00af00; text-decoration-color: #00af00\">874</span>, <span style=\"color: #00af00; text-decoration-color: #00af00\">1</span>)    │          <span style=\"color: #00af00; text-decoration-color: #00af00\">0</span> │ multi_head_atten… │\n",
       "├─────────────────────┼───────────────────┼────────────┼───────────────────┤\n",
       "│ layer_normalizatio… │ (<span style=\"color: #00d7ff; text-decoration-color: #00d7ff\">None</span>, <span style=\"color: #00af00; text-decoration-color: #00af00\">874</span>, <span style=\"color: #00af00; text-decoration-color: #00af00\">1</span>)    │          <span style=\"color: #00af00; text-decoration-color: #00af00\">2</span> │ dropout_4[<span style=\"color: #00af00; text-decoration-color: #00af00\">0</span>][<span style=\"color: #00af00; text-decoration-color: #00af00\">0</span>]   │\n",
       "│ (<span style=\"color: #0087ff; text-decoration-color: #0087ff\">LayerNormalizatio…</span> │                   │            │                   │\n",
       "├─────────────────────┼───────────────────┼────────────┼───────────────────┤\n",
       "│ add_2 (<span style=\"color: #0087ff; text-decoration-color: #0087ff\">Add</span>)         │ (<span style=\"color: #00d7ff; text-decoration-color: #00d7ff\">None</span>, <span style=\"color: #00af00; text-decoration-color: #00af00\">874</span>, <span style=\"color: #00af00; text-decoration-color: #00af00\">1</span>)    │          <span style=\"color: #00af00; text-decoration-color: #00af00\">0</span> │ layer_normalizat… │\n",
       "│                     │                   │            │ add_1[<span style=\"color: #00af00; text-decoration-color: #00af00\">0</span>][<span style=\"color: #00af00; text-decoration-color: #00af00\">0</span>]       │\n",
       "├─────────────────────┼───────────────────┼────────────┼───────────────────┤\n",
       "│ conv1d_2 (<span style=\"color: #0087ff; text-decoration-color: #0087ff\">Conv1D</span>)   │ (<span style=\"color: #00d7ff; text-decoration-color: #00d7ff\">None</span>, <span style=\"color: #00af00; text-decoration-color: #00af00\">874</span>, <span style=\"color: #00af00; text-decoration-color: #00af00\">128</span>)  │        <span style=\"color: #00af00; text-decoration-color: #00af00\">256</span> │ add_2[<span style=\"color: #00af00; text-decoration-color: #00af00\">0</span>][<span style=\"color: #00af00; text-decoration-color: #00af00\">0</span>]       │\n",
       "├─────────────────────┼───────────────────┼────────────┼───────────────────┤\n",
       "│ dropout_5 (<span style=\"color: #0087ff; text-decoration-color: #0087ff\">Dropout</span>) │ (<span style=\"color: #00d7ff; text-decoration-color: #00d7ff\">None</span>, <span style=\"color: #00af00; text-decoration-color: #00af00\">874</span>, <span style=\"color: #00af00; text-decoration-color: #00af00\">128</span>)  │          <span style=\"color: #00af00; text-decoration-color: #00af00\">0</span> │ conv1d_2[<span style=\"color: #00af00; text-decoration-color: #00af00\">0</span>][<span style=\"color: #00af00; text-decoration-color: #00af00\">0</span>]    │\n",
       "├─────────────────────┼───────────────────┼────────────┼───────────────────┤\n",
       "│ conv1d_3 (<span style=\"color: #0087ff; text-decoration-color: #0087ff\">Conv1D</span>)   │ (<span style=\"color: #00d7ff; text-decoration-color: #00d7ff\">None</span>, <span style=\"color: #00af00; text-decoration-color: #00af00\">874</span>, <span style=\"color: #00af00; text-decoration-color: #00af00\">1</span>)    │        <span style=\"color: #00af00; text-decoration-color: #00af00\">129</span> │ dropout_5[<span style=\"color: #00af00; text-decoration-color: #00af00\">0</span>][<span style=\"color: #00af00; text-decoration-color: #00af00\">0</span>]   │\n",
       "├─────────────────────┼───────────────────┼────────────┼───────────────────┤\n",
       "│ layer_normalizatio… │ (<span style=\"color: #00d7ff; text-decoration-color: #00d7ff\">None</span>, <span style=\"color: #00af00; text-decoration-color: #00af00\">874</span>, <span style=\"color: #00af00; text-decoration-color: #00af00\">1</span>)    │          <span style=\"color: #00af00; text-decoration-color: #00af00\">2</span> │ conv1d_3[<span style=\"color: #00af00; text-decoration-color: #00af00\">0</span>][<span style=\"color: #00af00; text-decoration-color: #00af00\">0</span>]    │\n",
       "│ (<span style=\"color: #0087ff; text-decoration-color: #0087ff\">LayerNormalizatio…</span> │                   │            │                   │\n",
       "├─────────────────────┼───────────────────┼────────────┼───────────────────┤\n",
       "│ add_3 (<span style=\"color: #0087ff; text-decoration-color: #0087ff\">Add</span>)         │ (<span style=\"color: #00d7ff; text-decoration-color: #00d7ff\">None</span>, <span style=\"color: #00af00; text-decoration-color: #00af00\">874</span>, <span style=\"color: #00af00; text-decoration-color: #00af00\">1</span>)    │          <span style=\"color: #00af00; text-decoration-color: #00af00\">0</span> │ layer_normalizat… │\n",
       "│                     │                   │            │ add_2[<span style=\"color: #00af00; text-decoration-color: #00af00\">0</span>][<span style=\"color: #00af00; text-decoration-color: #00af00\">0</span>]       │\n",
       "├─────────────────────┼───────────────────┼────────────┼───────────────────┤\n",
       "│ multi_head_attenti… │ (<span style=\"color: #00d7ff; text-decoration-color: #00d7ff\">None</span>, <span style=\"color: #00af00; text-decoration-color: #00af00\">874</span>, <span style=\"color: #00af00; text-decoration-color: #00af00\">1</span>)    │     <span style=\"color: #00af00; text-decoration-color: #00af00\">28,673</span> │ add_3[<span style=\"color: #00af00; text-decoration-color: #00af00\">0</span>][<span style=\"color: #00af00; text-decoration-color: #00af00\">0</span>],      │\n",
       "│ (<span style=\"color: #0087ff; text-decoration-color: #0087ff\">MultiHeadAttentio…</span> │                   │            │ add_3[<span style=\"color: #00af00; text-decoration-color: #00af00\">0</span>][<span style=\"color: #00af00; text-decoration-color: #00af00\">0</span>]       │\n",
       "├─────────────────────┼───────────────────┼────────────┼───────────────────┤\n",
       "│ dropout_7 (<span style=\"color: #0087ff; text-decoration-color: #0087ff\">Dropout</span>) │ (<span style=\"color: #00d7ff; text-decoration-color: #00d7ff\">None</span>, <span style=\"color: #00af00; text-decoration-color: #00af00\">874</span>, <span style=\"color: #00af00; text-decoration-color: #00af00\">1</span>)    │          <span style=\"color: #00af00; text-decoration-color: #00af00\">0</span> │ multi_head_atten… │\n",
       "├─────────────────────┼───────────────────┼────────────┼───────────────────┤\n",
       "│ layer_normalizatio… │ (<span style=\"color: #00d7ff; text-decoration-color: #00d7ff\">None</span>, <span style=\"color: #00af00; text-decoration-color: #00af00\">874</span>, <span style=\"color: #00af00; text-decoration-color: #00af00\">1</span>)    │          <span style=\"color: #00af00; text-decoration-color: #00af00\">2</span> │ dropout_7[<span style=\"color: #00af00; text-decoration-color: #00af00\">0</span>][<span style=\"color: #00af00; text-decoration-color: #00af00\">0</span>]   │\n",
       "│ (<span style=\"color: #0087ff; text-decoration-color: #0087ff\">LayerNormalizatio…</span> │                   │            │                   │\n",
       "├─────────────────────┼───────────────────┼────────────┼───────────────────┤\n",
       "│ add_4 (<span style=\"color: #0087ff; text-decoration-color: #0087ff\">Add</span>)         │ (<span style=\"color: #00d7ff; text-decoration-color: #00d7ff\">None</span>, <span style=\"color: #00af00; text-decoration-color: #00af00\">874</span>, <span style=\"color: #00af00; text-decoration-color: #00af00\">1</span>)    │          <span style=\"color: #00af00; text-decoration-color: #00af00\">0</span> │ layer_normalizat… │\n",
       "│                     │                   │            │ add_3[<span style=\"color: #00af00; text-decoration-color: #00af00\">0</span>][<span style=\"color: #00af00; text-decoration-color: #00af00\">0</span>]       │\n",
       "├─────────────────────┼───────────────────┼────────────┼───────────────────┤\n",
       "│ conv1d_4 (<span style=\"color: #0087ff; text-decoration-color: #0087ff\">Conv1D</span>)   │ (<span style=\"color: #00d7ff; text-decoration-color: #00d7ff\">None</span>, <span style=\"color: #00af00; text-decoration-color: #00af00\">874</span>, <span style=\"color: #00af00; text-decoration-color: #00af00\">128</span>)  │        <span style=\"color: #00af00; text-decoration-color: #00af00\">256</span> │ add_4[<span style=\"color: #00af00; text-decoration-color: #00af00\">0</span>][<span style=\"color: #00af00; text-decoration-color: #00af00\">0</span>]       │\n",
       "├─────────────────────┼───────────────────┼────────────┼───────────────────┤\n",
       "│ dropout_8 (<span style=\"color: #0087ff; text-decoration-color: #0087ff\">Dropout</span>) │ (<span style=\"color: #00d7ff; text-decoration-color: #00d7ff\">None</span>, <span style=\"color: #00af00; text-decoration-color: #00af00\">874</span>, <span style=\"color: #00af00; text-decoration-color: #00af00\">128</span>)  │          <span style=\"color: #00af00; text-decoration-color: #00af00\">0</span> │ conv1d_4[<span style=\"color: #00af00; text-decoration-color: #00af00\">0</span>][<span style=\"color: #00af00; text-decoration-color: #00af00\">0</span>]    │\n",
       "├─────────────────────┼───────────────────┼────────────┼───────────────────┤\n",
       "│ conv1d_5 (<span style=\"color: #0087ff; text-decoration-color: #0087ff\">Conv1D</span>)   │ (<span style=\"color: #00d7ff; text-decoration-color: #00d7ff\">None</span>, <span style=\"color: #00af00; text-decoration-color: #00af00\">874</span>, <span style=\"color: #00af00; text-decoration-color: #00af00\">1</span>)    │        <span style=\"color: #00af00; text-decoration-color: #00af00\">129</span> │ dropout_8[<span style=\"color: #00af00; text-decoration-color: #00af00\">0</span>][<span style=\"color: #00af00; text-decoration-color: #00af00\">0</span>]   │\n",
       "├─────────────────────┼───────────────────┼────────────┼───────────────────┤\n",
       "│ layer_normalizatio… │ (<span style=\"color: #00d7ff; text-decoration-color: #00d7ff\">None</span>, <span style=\"color: #00af00; text-decoration-color: #00af00\">874</span>, <span style=\"color: #00af00; text-decoration-color: #00af00\">1</span>)    │          <span style=\"color: #00af00; text-decoration-color: #00af00\">2</span> │ conv1d_5[<span style=\"color: #00af00; text-decoration-color: #00af00\">0</span>][<span style=\"color: #00af00; text-decoration-color: #00af00\">0</span>]    │\n",
       "│ (<span style=\"color: #0087ff; text-decoration-color: #0087ff\">LayerNormalizatio…</span> │                   │            │                   │\n",
       "├─────────────────────┼───────────────────┼────────────┼───────────────────┤\n",
       "│ add_5 (<span style=\"color: #0087ff; text-decoration-color: #0087ff\">Add</span>)         │ (<span style=\"color: #00d7ff; text-decoration-color: #00d7ff\">None</span>, <span style=\"color: #00af00; text-decoration-color: #00af00\">874</span>, <span style=\"color: #00af00; text-decoration-color: #00af00\">1</span>)    │          <span style=\"color: #00af00; text-decoration-color: #00af00\">0</span> │ layer_normalizat… │\n",
       "│                     │                   │            │ add_4[<span style=\"color: #00af00; text-decoration-color: #00af00\">0</span>][<span style=\"color: #00af00; text-decoration-color: #00af00\">0</span>]       │\n",
       "├─────────────────────┼───────────────────┼────────────┼───────────────────┤\n",
       "│ multi_head_attenti… │ (<span style=\"color: #00d7ff; text-decoration-color: #00d7ff\">None</span>, <span style=\"color: #00af00; text-decoration-color: #00af00\">874</span>, <span style=\"color: #00af00; text-decoration-color: #00af00\">1</span>)    │     <span style=\"color: #00af00; text-decoration-color: #00af00\">28,673</span> │ add_5[<span style=\"color: #00af00; text-decoration-color: #00af00\">0</span>][<span style=\"color: #00af00; text-decoration-color: #00af00\">0</span>],      │\n",
       "│ (<span style=\"color: #0087ff; text-decoration-color: #0087ff\">MultiHeadAttentio…</span> │                   │            │ add_5[<span style=\"color: #00af00; text-decoration-color: #00af00\">0</span>][<span style=\"color: #00af00; text-decoration-color: #00af00\">0</span>]       │\n",
       "├─────────────────────┼───────────────────┼────────────┼───────────────────┤\n",
       "│ dropout_10          │ (<span style=\"color: #00d7ff; text-decoration-color: #00d7ff\">None</span>, <span style=\"color: #00af00; text-decoration-color: #00af00\">874</span>, <span style=\"color: #00af00; text-decoration-color: #00af00\">1</span>)    │          <span style=\"color: #00af00; text-decoration-color: #00af00\">0</span> │ multi_head_atten… │\n",
       "│ (<span style=\"color: #0087ff; text-decoration-color: #0087ff\">Dropout</span>)           │                   │            │                   │\n",
       "├─────────────────────┼───────────────────┼────────────┼───────────────────┤\n",
       "│ layer_normalizatio… │ (<span style=\"color: #00d7ff; text-decoration-color: #00d7ff\">None</span>, <span style=\"color: #00af00; text-decoration-color: #00af00\">874</span>, <span style=\"color: #00af00; text-decoration-color: #00af00\">1</span>)    │          <span style=\"color: #00af00; text-decoration-color: #00af00\">2</span> │ dropout_10[<span style=\"color: #00af00; text-decoration-color: #00af00\">0</span>][<span style=\"color: #00af00; text-decoration-color: #00af00\">0</span>]  │\n",
       "│ (<span style=\"color: #0087ff; text-decoration-color: #0087ff\">LayerNormalizatio…</span> │                   │            │                   │\n",
       "├─────────────────────┼───────────────────┼────────────┼───────────────────┤\n",
       "│ add_6 (<span style=\"color: #0087ff; text-decoration-color: #0087ff\">Add</span>)         │ (<span style=\"color: #00d7ff; text-decoration-color: #00d7ff\">None</span>, <span style=\"color: #00af00; text-decoration-color: #00af00\">874</span>, <span style=\"color: #00af00; text-decoration-color: #00af00\">1</span>)    │          <span style=\"color: #00af00; text-decoration-color: #00af00\">0</span> │ layer_normalizat… │\n",
       "│                     │                   │            │ add_5[<span style=\"color: #00af00; text-decoration-color: #00af00\">0</span>][<span style=\"color: #00af00; text-decoration-color: #00af00\">0</span>]       │\n",
       "├─────────────────────┼───────────────────┼────────────┼───────────────────┤\n",
       "│ conv1d_6 (<span style=\"color: #0087ff; text-decoration-color: #0087ff\">Conv1D</span>)   │ (<span style=\"color: #00d7ff; text-decoration-color: #00d7ff\">None</span>, <span style=\"color: #00af00; text-decoration-color: #00af00\">874</span>, <span style=\"color: #00af00; text-decoration-color: #00af00\">128</span>)  │        <span style=\"color: #00af00; text-decoration-color: #00af00\">256</span> │ add_6[<span style=\"color: #00af00; text-decoration-color: #00af00\">0</span>][<span style=\"color: #00af00; text-decoration-color: #00af00\">0</span>]       │\n",
       "├─────────────────────┼───────────────────┼────────────┼───────────────────┤\n",
       "│ dropout_11          │ (<span style=\"color: #00d7ff; text-decoration-color: #00d7ff\">None</span>, <span style=\"color: #00af00; text-decoration-color: #00af00\">874</span>, <span style=\"color: #00af00; text-decoration-color: #00af00\">128</span>)  │          <span style=\"color: #00af00; text-decoration-color: #00af00\">0</span> │ conv1d_6[<span style=\"color: #00af00; text-decoration-color: #00af00\">0</span>][<span style=\"color: #00af00; text-decoration-color: #00af00\">0</span>]    │\n",
       "│ (<span style=\"color: #0087ff; text-decoration-color: #0087ff\">Dropout</span>)           │                   │            │                   │\n",
       "├─────────────────────┼───────────────────┼────────────┼───────────────────┤\n",
       "│ conv1d_7 (<span style=\"color: #0087ff; text-decoration-color: #0087ff\">Conv1D</span>)   │ (<span style=\"color: #00d7ff; text-decoration-color: #00d7ff\">None</span>, <span style=\"color: #00af00; text-decoration-color: #00af00\">874</span>, <span style=\"color: #00af00; text-decoration-color: #00af00\">1</span>)    │        <span style=\"color: #00af00; text-decoration-color: #00af00\">129</span> │ dropout_11[<span style=\"color: #00af00; text-decoration-color: #00af00\">0</span>][<span style=\"color: #00af00; text-decoration-color: #00af00\">0</span>]  │\n",
       "├─────────────────────┼───────────────────┼────────────┼───────────────────┤\n",
       "│ layer_normalizatio… │ (<span style=\"color: #00d7ff; text-decoration-color: #00d7ff\">None</span>, <span style=\"color: #00af00; text-decoration-color: #00af00\">874</span>, <span style=\"color: #00af00; text-decoration-color: #00af00\">1</span>)    │          <span style=\"color: #00af00; text-decoration-color: #00af00\">2</span> │ conv1d_7[<span style=\"color: #00af00; text-decoration-color: #00af00\">0</span>][<span style=\"color: #00af00; text-decoration-color: #00af00\">0</span>]    │\n",
       "│ (<span style=\"color: #0087ff; text-decoration-color: #0087ff\">LayerNormalizatio…</span> │                   │            │                   │\n",
       "├─────────────────────┼───────────────────┼────────────┼───────────────────┤\n",
       "│ add_7 (<span style=\"color: #0087ff; text-decoration-color: #0087ff\">Add</span>)         │ (<span style=\"color: #00d7ff; text-decoration-color: #00d7ff\">None</span>, <span style=\"color: #00af00; text-decoration-color: #00af00\">874</span>, <span style=\"color: #00af00; text-decoration-color: #00af00\">1</span>)    │          <span style=\"color: #00af00; text-decoration-color: #00af00\">0</span> │ layer_normalizat… │\n",
       "│                     │                   │            │ add_6[<span style=\"color: #00af00; text-decoration-color: #00af00\">0</span>][<span style=\"color: #00af00; text-decoration-color: #00af00\">0</span>]       │\n",
       "├─────────────────────┼───────────────────┼────────────┼───────────────────┤\n",
       "│ flatten (<span style=\"color: #0087ff; text-decoration-color: #0087ff\">Flatten</span>)   │ (<span style=\"color: #00d7ff; text-decoration-color: #00d7ff\">None</span>, <span style=\"color: #00af00; text-decoration-color: #00af00\">874</span>)       │          <span style=\"color: #00af00; text-decoration-color: #00af00\">0</span> │ add_7[<span style=\"color: #00af00; text-decoration-color: #00af00\">0</span>][<span style=\"color: #00af00; text-decoration-color: #00af00\">0</span>]       │\n",
       "├─────────────────────┼───────────────────┼────────────┼───────────────────┤\n",
       "│ dense (<span style=\"color: #0087ff; text-decoration-color: #0087ff\">Dense</span>)       │ (<span style=\"color: #00d7ff; text-decoration-color: #00d7ff\">None</span>, <span style=\"color: #00af00; text-decoration-color: #00af00\">256</span>)       │    <span style=\"color: #00af00; text-decoration-color: #00af00\">224,000</span> │ flatten[<span style=\"color: #00af00; text-decoration-color: #00af00\">0</span>][<span style=\"color: #00af00; text-decoration-color: #00af00\">0</span>]     │\n",
       "├─────────────────────┼───────────────────┼────────────┼───────────────────┤\n",
       "│ dropout_12          │ (<span style=\"color: #00d7ff; text-decoration-color: #00d7ff\">None</span>, <span style=\"color: #00af00; text-decoration-color: #00af00\">256</span>)       │          <span style=\"color: #00af00; text-decoration-color: #00af00\">0</span> │ dense[<span style=\"color: #00af00; text-decoration-color: #00af00\">0</span>][<span style=\"color: #00af00; text-decoration-color: #00af00\">0</span>]       │\n",
       "│ (<span style=\"color: #0087ff; text-decoration-color: #0087ff\">Dropout</span>)           │                   │            │                   │\n",
       "├─────────────────────┼───────────────────┼────────────┼───────────────────┤\n",
       "│ dense_1 (<span style=\"color: #0087ff; text-decoration-color: #0087ff\">Dense</span>)     │ (<span style=\"color: #00d7ff; text-decoration-color: #00d7ff\">None</span>, <span style=\"color: #00af00; text-decoration-color: #00af00\">1</span>)         │        <span style=\"color: #00af00; text-decoration-color: #00af00\">257</span> │ dropout_12[<span style=\"color: #00af00; text-decoration-color: #00af00\">0</span>][<span style=\"color: #00af00; text-decoration-color: #00af00\">0</span>]  │\n",
       "└─────────────────────┴───────────────────┴────────────┴───────────────────┘\n",
       "</pre>\n"
      ],
      "text/plain": [
       "┏━━━━━━━━━━━━━━━━━━━━━┳━━━━━━━━━━━━━━━━━━━┳━━━━━━━━━━━━┳━━━━━━━━━━━━━━━━━━━┓\n",
       "┃\u001b[1m \u001b[0m\u001b[1mLayer (type)       \u001b[0m\u001b[1m \u001b[0m┃\u001b[1m \u001b[0m\u001b[1mOutput Shape     \u001b[0m\u001b[1m \u001b[0m┃\u001b[1m \u001b[0m\u001b[1m   Param #\u001b[0m\u001b[1m \u001b[0m┃\u001b[1m \u001b[0m\u001b[1mConnected to     \u001b[0m\u001b[1m \u001b[0m┃\n",
       "┡━━━━━━━━━━━━━━━━━━━━━╇━━━━━━━━━━━━━━━━━━━╇━━━━━━━━━━━━╇━━━━━━━━━━━━━━━━━━━┩\n",
       "│ input_layer         │ (\u001b[38;5;45mNone\u001b[0m, \u001b[38;5;34m874\u001b[0m)       │          \u001b[38;5;34m0\u001b[0m │ -                 │\n",
       "│ (\u001b[38;5;33mInputLayer\u001b[0m)        │                   │            │                   │\n",
       "├─────────────────────┼───────────────────┼────────────┼───────────────────┤\n",
       "│ reshape (\u001b[38;5;33mReshape\u001b[0m)   │ (\u001b[38;5;45mNone\u001b[0m, \u001b[38;5;34m874\u001b[0m, \u001b[38;5;34m1\u001b[0m)    │          \u001b[38;5;34m0\u001b[0m │ input_layer[\u001b[38;5;34m0\u001b[0m][\u001b[38;5;34m0\u001b[0m] │\n",
       "├─────────────────────┼───────────────────┼────────────┼───────────────────┤\n",
       "│ multi_head_attenti… │ (\u001b[38;5;45mNone\u001b[0m, \u001b[38;5;34m874\u001b[0m, \u001b[38;5;34m1\u001b[0m)    │     \u001b[38;5;34m28,673\u001b[0m │ reshape[\u001b[38;5;34m0\u001b[0m][\u001b[38;5;34m0\u001b[0m],    │\n",
       "│ (\u001b[38;5;33mMultiHeadAttentio…\u001b[0m │                   │            │ reshape[\u001b[38;5;34m0\u001b[0m][\u001b[38;5;34m0\u001b[0m]     │\n",
       "├─────────────────────┼───────────────────┼────────────┼───────────────────┤\n",
       "│ dropout_1 (\u001b[38;5;33mDropout\u001b[0m) │ (\u001b[38;5;45mNone\u001b[0m, \u001b[38;5;34m874\u001b[0m, \u001b[38;5;34m1\u001b[0m)    │          \u001b[38;5;34m0\u001b[0m │ multi_head_atten… │\n",
       "├─────────────────────┼───────────────────┼────────────┼───────────────────┤\n",
       "│ layer_normalization │ (\u001b[38;5;45mNone\u001b[0m, \u001b[38;5;34m874\u001b[0m, \u001b[38;5;34m1\u001b[0m)    │          \u001b[38;5;34m2\u001b[0m │ dropout_1[\u001b[38;5;34m0\u001b[0m][\u001b[38;5;34m0\u001b[0m]   │\n",
       "│ (\u001b[38;5;33mLayerNormalizatio…\u001b[0m │                   │            │                   │\n",
       "├─────────────────────┼───────────────────┼────────────┼───────────────────┤\n",
       "│ add (\u001b[38;5;33mAdd\u001b[0m)           │ (\u001b[38;5;45mNone\u001b[0m, \u001b[38;5;34m874\u001b[0m, \u001b[38;5;34m1\u001b[0m)    │          \u001b[38;5;34m0\u001b[0m │ layer_normalizat… │\n",
       "│                     │                   │            │ reshape[\u001b[38;5;34m0\u001b[0m][\u001b[38;5;34m0\u001b[0m]     │\n",
       "├─────────────────────┼───────────────────┼────────────┼───────────────────┤\n",
       "│ conv1d (\u001b[38;5;33mConv1D\u001b[0m)     │ (\u001b[38;5;45mNone\u001b[0m, \u001b[38;5;34m874\u001b[0m, \u001b[38;5;34m128\u001b[0m)  │        \u001b[38;5;34m256\u001b[0m │ add[\u001b[38;5;34m0\u001b[0m][\u001b[38;5;34m0\u001b[0m]         │\n",
       "├─────────────────────┼───────────────────┼────────────┼───────────────────┤\n",
       "│ dropout_2 (\u001b[38;5;33mDropout\u001b[0m) │ (\u001b[38;5;45mNone\u001b[0m, \u001b[38;5;34m874\u001b[0m, \u001b[38;5;34m128\u001b[0m)  │          \u001b[38;5;34m0\u001b[0m │ conv1d[\u001b[38;5;34m0\u001b[0m][\u001b[38;5;34m0\u001b[0m]      │\n",
       "├─────────────────────┼───────────────────┼────────────┼───────────────────┤\n",
       "│ conv1d_1 (\u001b[38;5;33mConv1D\u001b[0m)   │ (\u001b[38;5;45mNone\u001b[0m, \u001b[38;5;34m874\u001b[0m, \u001b[38;5;34m1\u001b[0m)    │        \u001b[38;5;34m129\u001b[0m │ dropout_2[\u001b[38;5;34m0\u001b[0m][\u001b[38;5;34m0\u001b[0m]   │\n",
       "├─────────────────────┼───────────────────┼────────────┼───────────────────┤\n",
       "│ layer_normalizatio… │ (\u001b[38;5;45mNone\u001b[0m, \u001b[38;5;34m874\u001b[0m, \u001b[38;5;34m1\u001b[0m)    │          \u001b[38;5;34m2\u001b[0m │ conv1d_1[\u001b[38;5;34m0\u001b[0m][\u001b[38;5;34m0\u001b[0m]    │\n",
       "│ (\u001b[38;5;33mLayerNormalizatio…\u001b[0m │                   │            │                   │\n",
       "├─────────────────────┼───────────────────┼────────────┼───────────────────┤\n",
       "│ add_1 (\u001b[38;5;33mAdd\u001b[0m)         │ (\u001b[38;5;45mNone\u001b[0m, \u001b[38;5;34m874\u001b[0m, \u001b[38;5;34m1\u001b[0m)    │          \u001b[38;5;34m0\u001b[0m │ layer_normalizat… │\n",
       "│                     │                   │            │ add[\u001b[38;5;34m0\u001b[0m][\u001b[38;5;34m0\u001b[0m]         │\n",
       "├─────────────────────┼───────────────────┼────────────┼───────────────────┤\n",
       "│ multi_head_attenti… │ (\u001b[38;5;45mNone\u001b[0m, \u001b[38;5;34m874\u001b[0m, \u001b[38;5;34m1\u001b[0m)    │     \u001b[38;5;34m28,673\u001b[0m │ add_1[\u001b[38;5;34m0\u001b[0m][\u001b[38;5;34m0\u001b[0m],      │\n",
       "│ (\u001b[38;5;33mMultiHeadAttentio…\u001b[0m │                   │            │ add_1[\u001b[38;5;34m0\u001b[0m][\u001b[38;5;34m0\u001b[0m]       │\n",
       "├─────────────────────┼───────────────────┼────────────┼───────────────────┤\n",
       "│ dropout_4 (\u001b[38;5;33mDropout\u001b[0m) │ (\u001b[38;5;45mNone\u001b[0m, \u001b[38;5;34m874\u001b[0m, \u001b[38;5;34m1\u001b[0m)    │          \u001b[38;5;34m0\u001b[0m │ multi_head_atten… │\n",
       "├─────────────────────┼───────────────────┼────────────┼───────────────────┤\n",
       "│ layer_normalizatio… │ (\u001b[38;5;45mNone\u001b[0m, \u001b[38;5;34m874\u001b[0m, \u001b[38;5;34m1\u001b[0m)    │          \u001b[38;5;34m2\u001b[0m │ dropout_4[\u001b[38;5;34m0\u001b[0m][\u001b[38;5;34m0\u001b[0m]   │\n",
       "│ (\u001b[38;5;33mLayerNormalizatio…\u001b[0m │                   │            │                   │\n",
       "├─────────────────────┼───────────────────┼────────────┼───────────────────┤\n",
       "│ add_2 (\u001b[38;5;33mAdd\u001b[0m)         │ (\u001b[38;5;45mNone\u001b[0m, \u001b[38;5;34m874\u001b[0m, \u001b[38;5;34m1\u001b[0m)    │          \u001b[38;5;34m0\u001b[0m │ layer_normalizat… │\n",
       "│                     │                   │            │ add_1[\u001b[38;5;34m0\u001b[0m][\u001b[38;5;34m0\u001b[0m]       │\n",
       "├─────────────────────┼───────────────────┼────────────┼───────────────────┤\n",
       "│ conv1d_2 (\u001b[38;5;33mConv1D\u001b[0m)   │ (\u001b[38;5;45mNone\u001b[0m, \u001b[38;5;34m874\u001b[0m, \u001b[38;5;34m128\u001b[0m)  │        \u001b[38;5;34m256\u001b[0m │ add_2[\u001b[38;5;34m0\u001b[0m][\u001b[38;5;34m0\u001b[0m]       │\n",
       "├─────────────────────┼───────────────────┼────────────┼───────────────────┤\n",
       "│ dropout_5 (\u001b[38;5;33mDropout\u001b[0m) │ (\u001b[38;5;45mNone\u001b[0m, \u001b[38;5;34m874\u001b[0m, \u001b[38;5;34m128\u001b[0m)  │          \u001b[38;5;34m0\u001b[0m │ conv1d_2[\u001b[38;5;34m0\u001b[0m][\u001b[38;5;34m0\u001b[0m]    │\n",
       "├─────────────────────┼───────────────────┼────────────┼───────────────────┤\n",
       "│ conv1d_3 (\u001b[38;5;33mConv1D\u001b[0m)   │ (\u001b[38;5;45mNone\u001b[0m, \u001b[38;5;34m874\u001b[0m, \u001b[38;5;34m1\u001b[0m)    │        \u001b[38;5;34m129\u001b[0m │ dropout_5[\u001b[38;5;34m0\u001b[0m][\u001b[38;5;34m0\u001b[0m]   │\n",
       "├─────────────────────┼───────────────────┼────────────┼───────────────────┤\n",
       "│ layer_normalizatio… │ (\u001b[38;5;45mNone\u001b[0m, \u001b[38;5;34m874\u001b[0m, \u001b[38;5;34m1\u001b[0m)    │          \u001b[38;5;34m2\u001b[0m │ conv1d_3[\u001b[38;5;34m0\u001b[0m][\u001b[38;5;34m0\u001b[0m]    │\n",
       "│ (\u001b[38;5;33mLayerNormalizatio…\u001b[0m │                   │            │                   │\n",
       "├─────────────────────┼───────────────────┼────────────┼───────────────────┤\n",
       "│ add_3 (\u001b[38;5;33mAdd\u001b[0m)         │ (\u001b[38;5;45mNone\u001b[0m, \u001b[38;5;34m874\u001b[0m, \u001b[38;5;34m1\u001b[0m)    │          \u001b[38;5;34m0\u001b[0m │ layer_normalizat… │\n",
       "│                     │                   │            │ add_2[\u001b[38;5;34m0\u001b[0m][\u001b[38;5;34m0\u001b[0m]       │\n",
       "├─────────────────────┼───────────────────┼────────────┼───────────────────┤\n",
       "│ multi_head_attenti… │ (\u001b[38;5;45mNone\u001b[0m, \u001b[38;5;34m874\u001b[0m, \u001b[38;5;34m1\u001b[0m)    │     \u001b[38;5;34m28,673\u001b[0m │ add_3[\u001b[38;5;34m0\u001b[0m][\u001b[38;5;34m0\u001b[0m],      │\n",
       "│ (\u001b[38;5;33mMultiHeadAttentio…\u001b[0m │                   │            │ add_3[\u001b[38;5;34m0\u001b[0m][\u001b[38;5;34m0\u001b[0m]       │\n",
       "├─────────────────────┼───────────────────┼────────────┼───────────────────┤\n",
       "│ dropout_7 (\u001b[38;5;33mDropout\u001b[0m) │ (\u001b[38;5;45mNone\u001b[0m, \u001b[38;5;34m874\u001b[0m, \u001b[38;5;34m1\u001b[0m)    │          \u001b[38;5;34m0\u001b[0m │ multi_head_atten… │\n",
       "├─────────────────────┼───────────────────┼────────────┼───────────────────┤\n",
       "│ layer_normalizatio… │ (\u001b[38;5;45mNone\u001b[0m, \u001b[38;5;34m874\u001b[0m, \u001b[38;5;34m1\u001b[0m)    │          \u001b[38;5;34m2\u001b[0m │ dropout_7[\u001b[38;5;34m0\u001b[0m][\u001b[38;5;34m0\u001b[0m]   │\n",
       "│ (\u001b[38;5;33mLayerNormalizatio…\u001b[0m │                   │            │                   │\n",
       "├─────────────────────┼───────────────────┼────────────┼───────────────────┤\n",
       "│ add_4 (\u001b[38;5;33mAdd\u001b[0m)         │ (\u001b[38;5;45mNone\u001b[0m, \u001b[38;5;34m874\u001b[0m, \u001b[38;5;34m1\u001b[0m)    │          \u001b[38;5;34m0\u001b[0m │ layer_normalizat… │\n",
       "│                     │                   │            │ add_3[\u001b[38;5;34m0\u001b[0m][\u001b[38;5;34m0\u001b[0m]       │\n",
       "├─────────────────────┼───────────────────┼────────────┼───────────────────┤\n",
       "│ conv1d_4 (\u001b[38;5;33mConv1D\u001b[0m)   │ (\u001b[38;5;45mNone\u001b[0m, \u001b[38;5;34m874\u001b[0m, \u001b[38;5;34m128\u001b[0m)  │        \u001b[38;5;34m256\u001b[0m │ add_4[\u001b[38;5;34m0\u001b[0m][\u001b[38;5;34m0\u001b[0m]       │\n",
       "├─────────────────────┼───────────────────┼────────────┼───────────────────┤\n",
       "│ dropout_8 (\u001b[38;5;33mDropout\u001b[0m) │ (\u001b[38;5;45mNone\u001b[0m, \u001b[38;5;34m874\u001b[0m, \u001b[38;5;34m128\u001b[0m)  │          \u001b[38;5;34m0\u001b[0m │ conv1d_4[\u001b[38;5;34m0\u001b[0m][\u001b[38;5;34m0\u001b[0m]    │\n",
       "├─────────────────────┼───────────────────┼────────────┼───────────────────┤\n",
       "│ conv1d_5 (\u001b[38;5;33mConv1D\u001b[0m)   │ (\u001b[38;5;45mNone\u001b[0m, \u001b[38;5;34m874\u001b[0m, \u001b[38;5;34m1\u001b[0m)    │        \u001b[38;5;34m129\u001b[0m │ dropout_8[\u001b[38;5;34m0\u001b[0m][\u001b[38;5;34m0\u001b[0m]   │\n",
       "├─────────────────────┼───────────────────┼────────────┼───────────────────┤\n",
       "│ layer_normalizatio… │ (\u001b[38;5;45mNone\u001b[0m, \u001b[38;5;34m874\u001b[0m, \u001b[38;5;34m1\u001b[0m)    │          \u001b[38;5;34m2\u001b[0m │ conv1d_5[\u001b[38;5;34m0\u001b[0m][\u001b[38;5;34m0\u001b[0m]    │\n",
       "│ (\u001b[38;5;33mLayerNormalizatio…\u001b[0m │                   │            │                   │\n",
       "├─────────────────────┼───────────────────┼────────────┼───────────────────┤\n",
       "│ add_5 (\u001b[38;5;33mAdd\u001b[0m)         │ (\u001b[38;5;45mNone\u001b[0m, \u001b[38;5;34m874\u001b[0m, \u001b[38;5;34m1\u001b[0m)    │          \u001b[38;5;34m0\u001b[0m │ layer_normalizat… │\n",
       "│                     │                   │            │ add_4[\u001b[38;5;34m0\u001b[0m][\u001b[38;5;34m0\u001b[0m]       │\n",
       "├─────────────────────┼───────────────────┼────────────┼───────────────────┤\n",
       "│ multi_head_attenti… │ (\u001b[38;5;45mNone\u001b[0m, \u001b[38;5;34m874\u001b[0m, \u001b[38;5;34m1\u001b[0m)    │     \u001b[38;5;34m28,673\u001b[0m │ add_5[\u001b[38;5;34m0\u001b[0m][\u001b[38;5;34m0\u001b[0m],      │\n",
       "│ (\u001b[38;5;33mMultiHeadAttentio…\u001b[0m │                   │            │ add_5[\u001b[38;5;34m0\u001b[0m][\u001b[38;5;34m0\u001b[0m]       │\n",
       "├─────────────────────┼───────────────────┼────────────┼───────────────────┤\n",
       "│ dropout_10          │ (\u001b[38;5;45mNone\u001b[0m, \u001b[38;5;34m874\u001b[0m, \u001b[38;5;34m1\u001b[0m)    │          \u001b[38;5;34m0\u001b[0m │ multi_head_atten… │\n",
       "│ (\u001b[38;5;33mDropout\u001b[0m)           │                   │            │                   │\n",
       "├─────────────────────┼───────────────────┼────────────┼───────────────────┤\n",
       "│ layer_normalizatio… │ (\u001b[38;5;45mNone\u001b[0m, \u001b[38;5;34m874\u001b[0m, \u001b[38;5;34m1\u001b[0m)    │          \u001b[38;5;34m2\u001b[0m │ dropout_10[\u001b[38;5;34m0\u001b[0m][\u001b[38;5;34m0\u001b[0m]  │\n",
       "│ (\u001b[38;5;33mLayerNormalizatio…\u001b[0m │                   │            │                   │\n",
       "├─────────────────────┼───────────────────┼────────────┼───────────────────┤\n",
       "│ add_6 (\u001b[38;5;33mAdd\u001b[0m)         │ (\u001b[38;5;45mNone\u001b[0m, \u001b[38;5;34m874\u001b[0m, \u001b[38;5;34m1\u001b[0m)    │          \u001b[38;5;34m0\u001b[0m │ layer_normalizat… │\n",
       "│                     │                   │            │ add_5[\u001b[38;5;34m0\u001b[0m][\u001b[38;5;34m0\u001b[0m]       │\n",
       "├─────────────────────┼───────────────────┼────────────┼───────────────────┤\n",
       "│ conv1d_6 (\u001b[38;5;33mConv1D\u001b[0m)   │ (\u001b[38;5;45mNone\u001b[0m, \u001b[38;5;34m874\u001b[0m, \u001b[38;5;34m128\u001b[0m)  │        \u001b[38;5;34m256\u001b[0m │ add_6[\u001b[38;5;34m0\u001b[0m][\u001b[38;5;34m0\u001b[0m]       │\n",
       "├─────────────────────┼───────────────────┼────────────┼───────────────────┤\n",
       "│ dropout_11          │ (\u001b[38;5;45mNone\u001b[0m, \u001b[38;5;34m874\u001b[0m, \u001b[38;5;34m128\u001b[0m)  │          \u001b[38;5;34m0\u001b[0m │ conv1d_6[\u001b[38;5;34m0\u001b[0m][\u001b[38;5;34m0\u001b[0m]    │\n",
       "│ (\u001b[38;5;33mDropout\u001b[0m)           │                   │            │                   │\n",
       "├─────────────────────┼───────────────────┼────────────┼───────────────────┤\n",
       "│ conv1d_7 (\u001b[38;5;33mConv1D\u001b[0m)   │ (\u001b[38;5;45mNone\u001b[0m, \u001b[38;5;34m874\u001b[0m, \u001b[38;5;34m1\u001b[0m)    │        \u001b[38;5;34m129\u001b[0m │ dropout_11[\u001b[38;5;34m0\u001b[0m][\u001b[38;5;34m0\u001b[0m]  │\n",
       "├─────────────────────┼───────────────────┼────────────┼───────────────────┤\n",
       "│ layer_normalizatio… │ (\u001b[38;5;45mNone\u001b[0m, \u001b[38;5;34m874\u001b[0m, \u001b[38;5;34m1\u001b[0m)    │          \u001b[38;5;34m2\u001b[0m │ conv1d_7[\u001b[38;5;34m0\u001b[0m][\u001b[38;5;34m0\u001b[0m]    │\n",
       "│ (\u001b[38;5;33mLayerNormalizatio…\u001b[0m │                   │            │                   │\n",
       "├─────────────────────┼───────────────────┼────────────┼───────────────────┤\n",
       "│ add_7 (\u001b[38;5;33mAdd\u001b[0m)         │ (\u001b[38;5;45mNone\u001b[0m, \u001b[38;5;34m874\u001b[0m, \u001b[38;5;34m1\u001b[0m)    │          \u001b[38;5;34m0\u001b[0m │ layer_normalizat… │\n",
       "│                     │                   │            │ add_6[\u001b[38;5;34m0\u001b[0m][\u001b[38;5;34m0\u001b[0m]       │\n",
       "├─────────────────────┼───────────────────┼────────────┼───────────────────┤\n",
       "│ flatten (\u001b[38;5;33mFlatten\u001b[0m)   │ (\u001b[38;5;45mNone\u001b[0m, \u001b[38;5;34m874\u001b[0m)       │          \u001b[38;5;34m0\u001b[0m │ add_7[\u001b[38;5;34m0\u001b[0m][\u001b[38;5;34m0\u001b[0m]       │\n",
       "├─────────────────────┼───────────────────┼────────────┼───────────────────┤\n",
       "│ dense (\u001b[38;5;33mDense\u001b[0m)       │ (\u001b[38;5;45mNone\u001b[0m, \u001b[38;5;34m256\u001b[0m)       │    \u001b[38;5;34m224,000\u001b[0m │ flatten[\u001b[38;5;34m0\u001b[0m][\u001b[38;5;34m0\u001b[0m]     │\n",
       "├─────────────────────┼───────────────────┼────────────┼───────────────────┤\n",
       "│ dropout_12          │ (\u001b[38;5;45mNone\u001b[0m, \u001b[38;5;34m256\u001b[0m)       │          \u001b[38;5;34m0\u001b[0m │ dense[\u001b[38;5;34m0\u001b[0m][\u001b[38;5;34m0\u001b[0m]       │\n",
       "│ (\u001b[38;5;33mDropout\u001b[0m)           │                   │            │                   │\n",
       "├─────────────────────┼───────────────────┼────────────┼───────────────────┤\n",
       "│ dense_1 (\u001b[38;5;33mDense\u001b[0m)     │ (\u001b[38;5;45mNone\u001b[0m, \u001b[38;5;34m1\u001b[0m)         │        \u001b[38;5;34m257\u001b[0m │ dropout_12[\u001b[38;5;34m0\u001b[0m][\u001b[38;5;34m0\u001b[0m]  │\n",
       "└─────────────────────┴───────────────────┴────────────┴───────────────────┘\n"
      ]
     },
     "metadata": {},
     "output_type": "display_data"
    },
    {
     "data": {
      "text/html": [
       "<pre style=\"white-space:pre;overflow-x:auto;line-height:normal;font-family:Menlo,'DejaVu Sans Mono',consolas,'Courier New',monospace\"><span style=\"font-weight: bold\"> Total params: </span><span style=\"color: #00af00; text-decoration-color: #00af00\">340,505</span> (1.30 MB)\n",
       "</pre>\n"
      ],
      "text/plain": [
       "\u001b[1m Total params: \u001b[0m\u001b[38;5;34m340,505\u001b[0m (1.30 MB)\n"
      ]
     },
     "metadata": {},
     "output_type": "display_data"
    },
    {
     "data": {
      "text/html": [
       "<pre style=\"white-space:pre;overflow-x:auto;line-height:normal;font-family:Menlo,'DejaVu Sans Mono',consolas,'Courier New',monospace\"><span style=\"font-weight: bold\"> Trainable params: </span><span style=\"color: #00af00; text-decoration-color: #00af00\">340,505</span> (1.30 MB)\n",
       "</pre>\n"
      ],
      "text/plain": [
       "\u001b[1m Trainable params: \u001b[0m\u001b[38;5;34m340,505\u001b[0m (1.30 MB)\n"
      ]
     },
     "metadata": {},
     "output_type": "display_data"
    },
    {
     "data": {
      "text/html": [
       "<pre style=\"white-space:pre;overflow-x:auto;line-height:normal;font-family:Menlo,'DejaVu Sans Mono',consolas,'Courier New',monospace\"><span style=\"font-weight: bold\"> Non-trainable params: </span><span style=\"color: #00af00; text-decoration-color: #00af00\">0</span> (0.00 B)\n",
       "</pre>\n"
      ],
      "text/plain": [
       "\u001b[1m Non-trainable params: \u001b[0m\u001b[38;5;34m0\u001b[0m (0.00 B)\n"
      ]
     },
     "metadata": {},
     "output_type": "display_data"
    }
   ],
   "source": [
    "# Multi-GPU strategy scope\n",
    "with strategy.scope():\n",
    "    input_shape = (874,)  # Adjusted input shape\n",
    "\n",
    "    model = build_model(\n",
    "        input_shape,\n",
    "        head_size=512,\n",
    "        num_heads=8,\n",
    "        ff_dim=128,\n",
    "        num_transformer_blocks=4,\n",
    "        mlp_units=[256],\n",
    "        mlp_dropout=0.4,\n",
    "        dropout=0.3,\n",
    "    )\n",
    "\n",
    "    # Compilation with binary classification loss\n",
    "    model.compile(\n",
    "        loss=\"binary_crossentropy\",\n",
    "        optimizer=keras.optimizers.Adam(learning_rate=1e-4),\n",
    "        metrics=[\"accuracy\"],\n",
    "    )\n",
    "\n",
    "model.summary()"
   ]
  },
  {
   "cell_type": "code",
   "execution_count": 21,
   "id": "c9e15c47",
   "metadata": {
    "execution": {
     "iopub.execute_input": "2024-09-18T13:15:10.706114Z",
     "iopub.status.busy": "2024-09-18T13:15:10.705770Z",
     "iopub.status.idle": "2024-09-18T13:15:10.710492Z",
     "shell.execute_reply": "2024-09-18T13:15:10.709661Z"
    },
    "papermill": {
     "duration": 0.019278,
     "end_time": "2024-09-18T13:15:10.712425",
     "exception": false,
     "start_time": "2024-09-18T13:15:10.693147",
     "status": "completed"
    },
    "tags": []
   },
   "outputs": [],
   "source": [
    "from tensorflow.keras.callbacks import ModelCheckpoint\n",
    "\n",
    "# Define the checkpoint callback to save every 50 epochs\n",
    "checkpoint_callback = ModelCheckpoint(\n",
    "    filepath='model_checkpoint.keras',  # Save file with epoch number and .keras extension\n",
    "    save_weights_only=False,  # Save the full model\n",
    "    save_freq='epoch',  # Save at the end of each epoch\n",
    "    verbose=1  # To print a message when the model is saved\n",
    ")\n"
   ]
  },
  {
   "cell_type": "code",
   "execution_count": 22,
   "id": "0a02129d",
   "metadata": {
    "execution": {
     "iopub.execute_input": "2024-09-18T13:15:10.736165Z",
     "iopub.status.busy": "2024-09-18T13:15:10.735865Z",
     "iopub.status.idle": "2024-09-18T13:15:10.740166Z",
     "shell.execute_reply": "2024-09-18T13:15:10.739309Z"
    },
    "papermill": {
     "duration": 0.018375,
     "end_time": "2024-09-18T13:15:10.742101",
     "exception": false,
     "start_time": "2024-09-18T13:15:10.723726",
     "status": "completed"
    },
    "tags": []
   },
   "outputs": [],
   "source": [
    "# Modify the callbacks list to include the checkpoint callback\n",
    "callbacks = [\n",
    "    keras.callbacks.EarlyStopping(patience=100, restore_best_weights=True),\n",
    "    checkpoint_callback\n",
    "]"
   ]
  },
  {
   "cell_type": "code",
   "execution_count": 23,
   "id": "940e899c",
   "metadata": {
    "execution": {
     "iopub.execute_input": "2024-09-18T13:15:10.765981Z",
     "iopub.status.busy": "2024-09-18T13:15:10.765670Z",
     "iopub.status.idle": "2024-09-18T23:47:59.725341Z",
     "shell.execute_reply": "2024-09-18T23:47:59.724344Z"
    },
    "papermill": {
     "duration": 37971.726552,
     "end_time": "2024-09-18T23:48:02.480048",
     "exception": false,
     "start_time": "2024-09-18T13:15:10.753496",
     "status": "completed"
    },
    "tags": []
   },
   "outputs": [
    {
     "name": "stdout",
     "output_type": "stream",
     "text": [
      "Epoch 1/200\n",
      "\u001b[1m181/181\u001b[0m \u001b[32m━━━━━━━━━━━━━━━━━━━━\u001b[0m\u001b[37m\u001b[0m \u001b[1m0s\u001b[0m 898ms/step - accuracy: 0.4941 - loss: 0.7378\n",
      "Epoch 1: saving model to model_checkpoint.keras\n",
      "\u001b[1m181/181\u001b[0m \u001b[32m━━━━━━━━━━━━━━━━━━━━\u001b[0m\u001b[37m\u001b[0m \u001b[1m223s\u001b[0m 1s/step - accuracy: 0.4941 - loss: 0.7378 - val_accuracy: 0.5000 - val_loss: 0.7007\n",
      "Epoch 2/200\n",
      "\u001b[1m181/181\u001b[0m \u001b[32m━━━━━━━━━━━━━━━━━━━━\u001b[0m\u001b[37m\u001b[0m \u001b[1m0s\u001b[0m 939ms/step - accuracy: 0.5119 - loss: 0.7045\n",
      "Epoch 2: saving model to model_checkpoint.keras\n",
      "\u001b[1m181/181\u001b[0m \u001b[32m━━━━━━━━━━━━━━━━━━━━\u001b[0m\u001b[37m\u001b[0m \u001b[1m190s\u001b[0m 1s/step - accuracy: 0.5119 - loss: 0.7045 - val_accuracy: 0.5014 - val_loss: 0.6949\n",
      "Epoch 3/200\n",
      "\u001b[1m181/181\u001b[0m \u001b[32m━━━━━━━━━━━━━━━━━━━━\u001b[0m\u001b[37m\u001b[0m \u001b[1m0s\u001b[0m 939ms/step - accuracy: 0.4990 - loss: 0.6992\n",
      "Epoch 3: saving model to model_checkpoint.keras\n",
      "\u001b[1m181/181\u001b[0m \u001b[32m━━━━━━━━━━━━━━━━━━━━\u001b[0m\u001b[37m\u001b[0m \u001b[1m192s\u001b[0m 1s/step - accuracy: 0.4990 - loss: 0.6991 - val_accuracy: 0.5000 - val_loss: 0.6961\n",
      "Epoch 4/200\n",
      "\u001b[1m181/181\u001b[0m \u001b[32m━━━━━━━━━━━━━━━━━━━━\u001b[0m\u001b[37m\u001b[0m \u001b[1m0s\u001b[0m 939ms/step - accuracy: 0.5014 - loss: 0.6970\n",
      "Epoch 4: saving model to model_checkpoint.keras\n",
      "\u001b[1m181/181\u001b[0m \u001b[32m━━━━━━━━━━━━━━━━━━━━\u001b[0m\u001b[37m\u001b[0m \u001b[1m190s\u001b[0m 1s/step - accuracy: 0.5014 - loss: 0.6970 - val_accuracy: 0.4986 - val_loss: 0.6950\n",
      "Epoch 5/200\n",
      "\u001b[1m181/181\u001b[0m \u001b[32m━━━━━━━━━━━━━━━━━━━━\u001b[0m\u001b[37m\u001b[0m \u001b[1m0s\u001b[0m 940ms/step - accuracy: 0.4983 - loss: 0.6977\n",
      "Epoch 5: saving model to model_checkpoint.keras\n",
      "\u001b[1m181/181\u001b[0m \u001b[32m━━━━━━━━━━━━━━━━━━━━\u001b[0m\u001b[37m\u001b[0m \u001b[1m191s\u001b[0m 1s/step - accuracy: 0.4983 - loss: 0.6977 - val_accuracy: 0.4848 - val_loss: 0.6935\n",
      "Epoch 6/200\n",
      "\u001b[1m181/181\u001b[0m \u001b[32m━━━━━━━━━━━━━━━━━━━━\u001b[0m\u001b[37m\u001b[0m \u001b[1m0s\u001b[0m 938ms/step - accuracy: 0.5032 - loss: 0.6951\n",
      "Epoch 6: saving model to model_checkpoint.keras\n",
      "\u001b[1m181/181\u001b[0m \u001b[32m━━━━━━━━━━━━━━━━━━━━\u001b[0m\u001b[37m\u001b[0m \u001b[1m190s\u001b[0m 1s/step - accuracy: 0.5033 - loss: 0.6951 - val_accuracy: 0.4917 - val_loss: 0.6932\n",
      "Epoch 7/200\n",
      "\u001b[1m181/181\u001b[0m \u001b[32m━━━━━━━━━━━━━━━━━━━━\u001b[0m\u001b[37m\u001b[0m \u001b[1m0s\u001b[0m 939ms/step - accuracy: 0.5040 - loss: 0.6952\n",
      "Epoch 7: saving model to model_checkpoint.keras\n",
      "\u001b[1m181/181\u001b[0m \u001b[32m━━━━━━━━━━━━━━━━━━━━\u001b[0m\u001b[37m\u001b[0m \u001b[1m189s\u001b[0m 1s/step - accuracy: 0.5039 - loss: 0.6952 - val_accuracy: 0.4945 - val_loss: 0.6936\n",
      "Epoch 8/200\n",
      "\u001b[1m181/181\u001b[0m \u001b[32m━━━━━━━━━━━━━━━━━━━━\u001b[0m\u001b[37m\u001b[0m \u001b[1m0s\u001b[0m 940ms/step - accuracy: 0.5132 - loss: 0.6938\n",
      "Epoch 8: saving model to model_checkpoint.keras\n",
      "\u001b[1m181/181\u001b[0m \u001b[32m━━━━━━━━━━━━━━━━━━━━\u001b[0m\u001b[37m\u001b[0m \u001b[1m190s\u001b[0m 1s/step - accuracy: 0.5132 - loss: 0.6938 - val_accuracy: 0.5028 - val_loss: 0.6937\n",
      "Epoch 9/200\n",
      "\u001b[1m181/181\u001b[0m \u001b[32m━━━━━━━━━━━━━━━━━━━━\u001b[0m\u001b[37m\u001b[0m \u001b[1m0s\u001b[0m 938ms/step - accuracy: 0.5083 - loss: 0.6928\n",
      "Epoch 9: saving model to model_checkpoint.keras\n",
      "\u001b[1m181/181\u001b[0m \u001b[32m━━━━━━━━━━━━━━━━━━━━\u001b[0m\u001b[37m\u001b[0m \u001b[1m189s\u001b[0m 1s/step - accuracy: 0.5083 - loss: 0.6928 - val_accuracy: 0.4778 - val_loss: 0.6944\n",
      "Epoch 10/200\n",
      "\u001b[1m181/181\u001b[0m \u001b[32m━━━━━━━━━━━━━━━━━━━━\u001b[0m\u001b[37m\u001b[0m \u001b[1m0s\u001b[0m 939ms/step - accuracy: 0.5014 - loss: 0.6936\n",
      "Epoch 10: saving model to model_checkpoint.keras\n",
      "\u001b[1m181/181\u001b[0m \u001b[32m━━━━━━━━━━━━━━━━━━━━\u001b[0m\u001b[37m\u001b[0m \u001b[1m192s\u001b[0m 1s/step - accuracy: 0.5014 - loss: 0.6936 - val_accuracy: 0.5028 - val_loss: 0.6951\n",
      "Epoch 11/200\n",
      "\u001b[1m181/181\u001b[0m \u001b[32m━━━━━━━━━━━━━━━━━━━━\u001b[0m\u001b[37m\u001b[0m \u001b[1m0s\u001b[0m 939ms/step - accuracy: 0.5051 - loss: 0.6943\n",
      "Epoch 11: saving model to model_checkpoint.keras\n",
      "\u001b[1m181/181\u001b[0m \u001b[32m━━━━━━━━━━━━━━━━━━━━\u001b[0m\u001b[37m\u001b[0m \u001b[1m190s\u001b[0m 1s/step - accuracy: 0.5051 - loss: 0.6943 - val_accuracy: 0.5194 - val_loss: 0.6929\n",
      "Epoch 12/200\n",
      "\u001b[1m181/181\u001b[0m \u001b[32m━━━━━━━━━━━━━━━━━━━━\u001b[0m\u001b[37m\u001b[0m \u001b[1m0s\u001b[0m 939ms/step - accuracy: 0.5074 - loss: 0.6930\n",
      "Epoch 12: saving model to model_checkpoint.keras\n",
      "\u001b[1m181/181\u001b[0m \u001b[32m━━━━━━━━━━━━━━━━━━━━\u001b[0m\u001b[37m\u001b[0m \u001b[1m191s\u001b[0m 1s/step - accuracy: 0.5073 - loss: 0.6930 - val_accuracy: 0.5055 - val_loss: 0.6926\n",
      "Epoch 13/200\n",
      "\u001b[1m181/181\u001b[0m \u001b[32m━━━━━━━━━━━━━━━━━━━━\u001b[0m\u001b[37m\u001b[0m \u001b[1m0s\u001b[0m 939ms/step - accuracy: 0.4980 - loss: 0.6926\n",
      "Epoch 13: saving model to model_checkpoint.keras\n",
      "\u001b[1m181/181\u001b[0m \u001b[32m━━━━━━━━━━━━━━━━━━━━\u001b[0m\u001b[37m\u001b[0m \u001b[1m189s\u001b[0m 1s/step - accuracy: 0.4981 - loss: 0.6926 - val_accuracy: 0.5111 - val_loss: 0.6927\n",
      "Epoch 14/200\n",
      "\u001b[1m181/181\u001b[0m \u001b[32m━━━━━━━━━━━━━━━━━━━━\u001b[0m\u001b[37m\u001b[0m \u001b[1m0s\u001b[0m 940ms/step - accuracy: 0.5188 - loss: 0.6915\n",
      "Epoch 14: saving model to model_checkpoint.keras\n",
      "\u001b[1m181/181\u001b[0m \u001b[32m━━━━━━━━━━━━━━━━━━━━\u001b[0m\u001b[37m\u001b[0m \u001b[1m191s\u001b[0m 1s/step - accuracy: 0.5189 - loss: 0.6915 - val_accuracy: 0.4945 - val_loss: 0.6949\n",
      "Epoch 15/200\n",
      "\u001b[1m181/181\u001b[0m \u001b[32m━━━━━━━━━━━━━━━━━━━━\u001b[0m\u001b[37m\u001b[0m \u001b[1m0s\u001b[0m 939ms/step - accuracy: 0.5282 - loss: 0.6910\n",
      "Epoch 15: saving model to model_checkpoint.keras\n",
      "\u001b[1m181/181\u001b[0m \u001b[32m━━━━━━━━━━━━━━━━━━━━\u001b[0m\u001b[37m\u001b[0m \u001b[1m190s\u001b[0m 1s/step - accuracy: 0.5282 - loss: 0.6910 - val_accuracy: 0.4861 - val_loss: 0.6937\n",
      "Epoch 16/200\n",
      "\u001b[1m181/181\u001b[0m \u001b[32m━━━━━━━━━━━━━━━━━━━━\u001b[0m\u001b[37m\u001b[0m \u001b[1m0s\u001b[0m 940ms/step - accuracy: 0.5296 - loss: 0.6890\n",
      "Epoch 16: saving model to model_checkpoint.keras\n",
      "\u001b[1m181/181\u001b[0m \u001b[32m━━━━━━━━━━━━━━━━━━━━\u001b[0m\u001b[37m\u001b[0m \u001b[1m189s\u001b[0m 1s/step - accuracy: 0.5296 - loss: 0.6890 - val_accuracy: 0.5249 - val_loss: 0.6906\n",
      "Epoch 17/200\n",
      "\u001b[1m181/181\u001b[0m \u001b[32m━━━━━━━━━━━━━━━━━━━━\u001b[0m\u001b[37m\u001b[0m \u001b[1m0s\u001b[0m 941ms/step - accuracy: 0.5635 - loss: 0.6859\n",
      "Epoch 17: saving model to model_checkpoint.keras\n",
      "\u001b[1m181/181\u001b[0m \u001b[32m━━━━━━━━━━━━━━━━━━━━\u001b[0m\u001b[37m\u001b[0m \u001b[1m191s\u001b[0m 1s/step - accuracy: 0.5633 - loss: 0.6859 - val_accuracy: 0.5388 - val_loss: 0.6886\n",
      "Epoch 18/200\n",
      "\u001b[1m181/181\u001b[0m \u001b[32m━━━━━━━━━━━━━━━━━━━━\u001b[0m\u001b[37m\u001b[0m \u001b[1m0s\u001b[0m 938ms/step - accuracy: 0.5302 - loss: 0.6886\n",
      "Epoch 18: saving model to model_checkpoint.keras\n",
      "\u001b[1m181/181\u001b[0m \u001b[32m━━━━━━━━━━━━━━━━━━━━\u001b[0m\u001b[37m\u001b[0m \u001b[1m190s\u001b[0m 1s/step - accuracy: 0.5302 - loss: 0.6886 - val_accuracy: 0.5512 - val_loss: 0.6868\n",
      "Epoch 19/200\n",
      "\u001b[1m181/181\u001b[0m \u001b[32m━━━━━━━━━━━━━━━━━━━━\u001b[0m\u001b[37m\u001b[0m \u001b[1m0s\u001b[0m 939ms/step - accuracy: 0.5663 - loss: 0.6846\n",
      "Epoch 19: saving model to model_checkpoint.keras\n",
      "\u001b[1m181/181\u001b[0m \u001b[32m━━━━━━━━━━━━━━━━━━━━\u001b[0m\u001b[37m\u001b[0m \u001b[1m193s\u001b[0m 1s/step - accuracy: 0.5662 - loss: 0.6846 - val_accuracy: 0.5720 - val_loss: 0.6845\n",
      "Epoch 20/200\n",
      "\u001b[1m181/181\u001b[0m \u001b[32m━━━━━━━━━━━━━━━━━━━━\u001b[0m\u001b[37m\u001b[0m \u001b[1m0s\u001b[0m 936ms/step - accuracy: 0.5794 - loss: 0.6811\n",
      "Epoch 20: saving model to model_checkpoint.keras\n",
      "\u001b[1m181/181\u001b[0m \u001b[32m━━━━━━━━━━━━━━━━━━━━\u001b[0m\u001b[37m\u001b[0m \u001b[1m190s\u001b[0m 1s/step - accuracy: 0.5793 - loss: 0.6811 - val_accuracy: 0.6039 - val_loss: 0.6836\n",
      "Epoch 21/200\n",
      "\u001b[1m181/181\u001b[0m \u001b[32m━━━━━━━━━━━━━━━━━━━━\u001b[0m\u001b[37m\u001b[0m \u001b[1m0s\u001b[0m 929ms/step - accuracy: 0.5962 - loss: 0.6776\n",
      "Epoch 21: saving model to model_checkpoint.keras\n",
      "\u001b[1m181/181\u001b[0m \u001b[32m━━━━━━━━━━━━━━━━━━━━\u001b[0m\u001b[37m\u001b[0m \u001b[1m188s\u001b[0m 1s/step - accuracy: 0.5962 - loss: 0.6776 - val_accuracy: 0.6066 - val_loss: 0.6812\n",
      "Epoch 22/200\n",
      "\u001b[1m181/181\u001b[0m \u001b[32m━━━━━━━━━━━━━━━━━━━━\u001b[0m\u001b[37m\u001b[0m \u001b[1m0s\u001b[0m 925ms/step - accuracy: 0.5936 - loss: 0.6767\n",
      "Epoch 22: saving model to model_checkpoint.keras\n",
      "\u001b[1m181/181\u001b[0m \u001b[32m━━━━━━━━━━━━━━━━━━━━\u001b[0m\u001b[37m\u001b[0m \u001b[1m188s\u001b[0m 1s/step - accuracy: 0.5935 - loss: 0.6767 - val_accuracy: 0.6094 - val_loss: 0.6762\n",
      "Epoch 23/200\n",
      "\u001b[1m181/181\u001b[0m \u001b[32m━━━━━━━━━━━━━━━━━━━━\u001b[0m\u001b[37m\u001b[0m \u001b[1m0s\u001b[0m 926ms/step - accuracy: 0.6034 - loss: 0.6743\n",
      "Epoch 23: saving model to model_checkpoint.keras\n",
      "\u001b[1m181/181\u001b[0m \u001b[32m━━━━━━━━━━━━━━━━━━━━\u001b[0m\u001b[37m\u001b[0m \u001b[1m193s\u001b[0m 1s/step - accuracy: 0.6034 - loss: 0.6743 - val_accuracy: 0.6150 - val_loss: 0.6745\n",
      "Epoch 24/200\n",
      "\u001b[1m181/181\u001b[0m \u001b[32m━━━━━━━━━━━━━━━━━━━━\u001b[0m\u001b[37m\u001b[0m \u001b[1m0s\u001b[0m 929ms/step - accuracy: 0.6128 - loss: 0.6713\n",
      "Epoch 24: saving model to model_checkpoint.keras\n",
      "\u001b[1m181/181\u001b[0m \u001b[32m━━━━━━━━━━━━━━━━━━━━\u001b[0m\u001b[37m\u001b[0m \u001b[1m190s\u001b[0m 1s/step - accuracy: 0.6128 - loss: 0.6713 - val_accuracy: 0.6108 - val_loss: 0.6716\n",
      "Epoch 25/200\n",
      "\u001b[1m181/181\u001b[0m \u001b[32m━━━━━━━━━━━━━━━━━━━━\u001b[0m\u001b[37m\u001b[0m \u001b[1m0s\u001b[0m 927ms/step - accuracy: 0.6042 - loss: 0.6681\n",
      "Epoch 25: saving model to model_checkpoint.keras\n",
      "\u001b[1m181/181\u001b[0m \u001b[32m━━━━━━━━━━━━━━━━━━━━\u001b[0m\u001b[37m\u001b[0m \u001b[1m191s\u001b[0m 1s/step - accuracy: 0.6042 - loss: 0.6681 - val_accuracy: 0.6233 - val_loss: 0.6676\n",
      "Epoch 26/200\n",
      "\u001b[1m181/181\u001b[0m \u001b[32m━━━━━━━━━━━━━━━━━━━━\u001b[0m\u001b[37m\u001b[0m \u001b[1m0s\u001b[0m 927ms/step - accuracy: 0.6277 - loss: 0.6610\n",
      "Epoch 26: saving model to model_checkpoint.keras\n",
      "\u001b[1m181/181\u001b[0m \u001b[32m━━━━━━━━━━━━━━━━━━━━\u001b[0m\u001b[37m\u001b[0m \u001b[1m189s\u001b[0m 1s/step - accuracy: 0.6276 - loss: 0.6610 - val_accuracy: 0.6274 - val_loss: 0.6633\n",
      "Epoch 27/200\n",
      "\u001b[1m181/181\u001b[0m \u001b[32m━━━━━━━━━━━━━━━━━━━━\u001b[0m\u001b[37m\u001b[0m \u001b[1m0s\u001b[0m 926ms/step - accuracy: 0.6192 - loss: 0.6625\n",
      "Epoch 27: saving model to model_checkpoint.keras\n",
      "\u001b[1m181/181\u001b[0m \u001b[32m━━━━━━━━━━━━━━━━━━━━\u001b[0m\u001b[37m\u001b[0m \u001b[1m189s\u001b[0m 1s/step - accuracy: 0.6192 - loss: 0.6625 - val_accuracy: 0.6177 - val_loss: 0.6648\n",
      "Epoch 28/200\n",
      "\u001b[1m181/181\u001b[0m \u001b[32m━━━━━━━━━━━━━━━━━━━━\u001b[0m\u001b[37m\u001b[0m \u001b[1m0s\u001b[0m 925ms/step - accuracy: 0.6235 - loss: 0.6601\n",
      "Epoch 28: saving model to model_checkpoint.keras\n",
      "\u001b[1m181/181\u001b[0m \u001b[32m━━━━━━━━━━━━━━━━━━━━\u001b[0m\u001b[37m\u001b[0m \u001b[1m189s\u001b[0m 1s/step - accuracy: 0.6234 - loss: 0.6601 - val_accuracy: 0.6524 - val_loss: 0.6596\n",
      "Epoch 29/200\n",
      "\u001b[1m181/181\u001b[0m \u001b[32m━━━━━━━━━━━━━━━━━━━━\u001b[0m\u001b[37m\u001b[0m \u001b[1m0s\u001b[0m 925ms/step - accuracy: 0.6188 - loss: 0.6568\n",
      "Epoch 29: saving model to model_checkpoint.keras\n",
      "\u001b[1m181/181\u001b[0m \u001b[32m━━━━━━━━━━━━━━━━━━━━\u001b[0m\u001b[37m\u001b[0m \u001b[1m189s\u001b[0m 1s/step - accuracy: 0.6189 - loss: 0.6568 - val_accuracy: 0.6136 - val_loss: 0.6608\n",
      "Epoch 30/200\n",
      "\u001b[1m181/181\u001b[0m \u001b[32m━━━━━━━━━━━━━━━━━━━━\u001b[0m\u001b[37m\u001b[0m \u001b[1m0s\u001b[0m 926ms/step - accuracy: 0.6196 - loss: 0.6547\n",
      "Epoch 30: saving model to model_checkpoint.keras\n",
      "\u001b[1m181/181\u001b[0m \u001b[32m━━━━━━━━━━━━━━━━━━━━\u001b[0m\u001b[37m\u001b[0m \u001b[1m189s\u001b[0m 1s/step - accuracy: 0.6196 - loss: 0.6547 - val_accuracy: 0.6357 - val_loss: 0.6557\n",
      "Epoch 31/200\n",
      "\u001b[1m181/181\u001b[0m \u001b[32m━━━━━━━━━━━━━━━━━━━━\u001b[0m\u001b[37m\u001b[0m \u001b[1m0s\u001b[0m 925ms/step - accuracy: 0.6352 - loss: 0.6496\n",
      "Epoch 31: saving model to model_checkpoint.keras\n",
      "\u001b[1m181/181\u001b[0m \u001b[32m━━━━━━━━━━━━━━━━━━━━\u001b[0m\u001b[37m\u001b[0m \u001b[1m186s\u001b[0m 1s/step - accuracy: 0.6352 - loss: 0.6496 - val_accuracy: 0.6482 - val_loss: 0.6524\n",
      "Epoch 32/200\n",
      "\u001b[1m181/181\u001b[0m \u001b[32m━━━━━━━━━━━━━━━━━━━━\u001b[0m\u001b[37m\u001b[0m \u001b[1m0s\u001b[0m 937ms/step - accuracy: 0.6420 - loss: 0.6476\n",
      "Epoch 32: saving model to model_checkpoint.keras\n",
      "\u001b[1m181/181\u001b[0m \u001b[32m━━━━━━━━━━━━━━━━━━━━\u001b[0m\u001b[37m\u001b[0m \u001b[1m189s\u001b[0m 1s/step - accuracy: 0.6420 - loss: 0.6476 - val_accuracy: 0.6634 - val_loss: 0.6473\n",
      "Epoch 33/200\n",
      "\u001b[1m181/181\u001b[0m \u001b[32m━━━━━━━━━━━━━━━━━━━━\u001b[0m\u001b[37m\u001b[0m \u001b[1m0s\u001b[0m 940ms/step - accuracy: 0.6521 - loss: 0.6413\n",
      "Epoch 33: saving model to model_checkpoint.keras\n",
      "\u001b[1m181/181\u001b[0m \u001b[32m━━━━━━━━━━━━━━━━━━━━\u001b[0m\u001b[37m\u001b[0m \u001b[1m190s\u001b[0m 1s/step - accuracy: 0.6520 - loss: 0.6413 - val_accuracy: 0.6496 - val_loss: 0.6524\n",
      "Epoch 34/200\n",
      "\u001b[1m181/181\u001b[0m \u001b[32m━━━━━━━━━━━━━━━━━━━━\u001b[0m\u001b[37m\u001b[0m \u001b[1m0s\u001b[0m 939ms/step - accuracy: 0.6327 - loss: 0.6489\n",
      "Epoch 34: saving model to model_checkpoint.keras\n",
      "\u001b[1m181/181\u001b[0m \u001b[32m━━━━━━━━━━━━━━━━━━━━\u001b[0m\u001b[37m\u001b[0m \u001b[1m189s\u001b[0m 1s/step - accuracy: 0.6327 - loss: 0.6488 - val_accuracy: 0.6551 - val_loss: 0.6419\n",
      "Epoch 35/200\n",
      "\u001b[1m181/181\u001b[0m \u001b[32m━━━━━━━━━━━━━━━━━━━━\u001b[0m\u001b[37m\u001b[0m \u001b[1m0s\u001b[0m 938ms/step - accuracy: 0.6511 - loss: 0.6361\n",
      "Epoch 35: saving model to model_checkpoint.keras\n",
      "\u001b[1m181/181\u001b[0m \u001b[32m━━━━━━━━━━━━━━━━━━━━\u001b[0m\u001b[37m\u001b[0m \u001b[1m191s\u001b[0m 1s/step - accuracy: 0.6511 - loss: 0.6361 - val_accuracy: 0.6607 - val_loss: 0.6398\n",
      "Epoch 36/200\n",
      "\u001b[1m181/181\u001b[0m \u001b[32m━━━━━━━━━━━━━━━━━━━━\u001b[0m\u001b[37m\u001b[0m \u001b[1m0s\u001b[0m 939ms/step - accuracy: 0.6629 - loss: 0.6357\n",
      "Epoch 36: saving model to model_checkpoint.keras\n",
      "\u001b[1m181/181\u001b[0m \u001b[32m━━━━━━━━━━━━━━━━━━━━\u001b[0m\u001b[37m\u001b[0m \u001b[1m190s\u001b[0m 1s/step - accuracy: 0.6629 - loss: 0.6357 - val_accuracy: 0.6634 - val_loss: 0.6363\n",
      "Epoch 37/200\n",
      "\u001b[1m181/181\u001b[0m \u001b[32m━━━━━━━━━━━━━━━━━━━━\u001b[0m\u001b[37m\u001b[0m \u001b[1m0s\u001b[0m 939ms/step - accuracy: 0.6511 - loss: 0.6359\n",
      "Epoch 37: saving model to model_checkpoint.keras\n",
      "\u001b[1m181/181\u001b[0m \u001b[32m━━━━━━━━━━━━━━━━━━━━\u001b[0m\u001b[37m\u001b[0m \u001b[1m190s\u001b[0m 1s/step - accuracy: 0.6511 - loss: 0.6359 - val_accuracy: 0.6620 - val_loss: 0.6376\n",
      "Epoch 38/200\n",
      "\u001b[1m181/181\u001b[0m \u001b[32m━━━━━━━━━━━━━━━━━━━━\u001b[0m\u001b[37m\u001b[0m \u001b[1m0s\u001b[0m 941ms/step - accuracy: 0.6581 - loss: 0.6311\n",
      "Epoch 38: saving model to model_checkpoint.keras\n",
      "\u001b[1m181/181\u001b[0m \u001b[32m━━━━━━━━━━━━━━━━━━━━\u001b[0m\u001b[37m\u001b[0m \u001b[1m203s\u001b[0m 1s/step - accuracy: 0.6582 - loss: 0.6311 - val_accuracy: 0.6634 - val_loss: 0.6319\n",
      "Epoch 39/200\n",
      "\u001b[1m181/181\u001b[0m \u001b[32m━━━━━━━━━━━━━━━━━━━━\u001b[0m\u001b[37m\u001b[0m \u001b[1m0s\u001b[0m 941ms/step - accuracy: 0.6605 - loss: 0.6333\n",
      "Epoch 39: saving model to model_checkpoint.keras\n",
      "\u001b[1m181/181\u001b[0m \u001b[32m━━━━━━━━━━━━━━━━━━━━\u001b[0m\u001b[37m\u001b[0m \u001b[1m201s\u001b[0m 1s/step - accuracy: 0.6605 - loss: 0.6333 - val_accuracy: 0.6620 - val_loss: 0.6271\n",
      "Epoch 40/200\n",
      "\u001b[1m181/181\u001b[0m \u001b[32m━━━━━━━━━━━━━━━━━━━━\u001b[0m\u001b[37m\u001b[0m \u001b[1m0s\u001b[0m 938ms/step - accuracy: 0.6489 - loss: 0.6264\n",
      "Epoch 40: saving model to model_checkpoint.keras\n",
      "\u001b[1m181/181\u001b[0m \u001b[32m━━━━━━━━━━━━━━━━━━━━\u001b[0m\u001b[37m\u001b[0m \u001b[1m191s\u001b[0m 1s/step - accuracy: 0.6489 - loss: 0.6264 - val_accuracy: 0.6399 - val_loss: 0.6272\n",
      "Epoch 41/200\n",
      "\u001b[1m181/181\u001b[0m \u001b[32m━━━━━━━━━━━━━━━━━━━━\u001b[0m\u001b[37m\u001b[0m \u001b[1m0s\u001b[0m 939ms/step - accuracy: 0.6742 - loss: 0.6204\n",
      "Epoch 41: saving model to model_checkpoint.keras\n",
      "\u001b[1m181/181\u001b[0m \u001b[32m━━━━━━━━━━━━━━━━━━━━\u001b[0m\u001b[37m\u001b[0m \u001b[1m192s\u001b[0m 1s/step - accuracy: 0.6742 - loss: 0.6204 - val_accuracy: 0.6634 - val_loss: 0.6217\n",
      "Epoch 42/200\n",
      "\u001b[1m181/181\u001b[0m \u001b[32m━━━━━━━━━━━━━━━━━━━━\u001b[0m\u001b[37m\u001b[0m \u001b[1m0s\u001b[0m 939ms/step - accuracy: 0.6792 - loss: 0.6180\n",
      "Epoch 42: saving model to model_checkpoint.keras\n",
      "\u001b[1m181/181\u001b[0m \u001b[32m━━━━━━━━━━━━━━━━━━━━\u001b[0m\u001b[37m\u001b[0m \u001b[1m191s\u001b[0m 1s/step - accuracy: 0.6792 - loss: 0.6180 - val_accuracy: 0.6717 - val_loss: 0.6199\n",
      "Epoch 43/200\n",
      "\u001b[1m181/181\u001b[0m \u001b[32m━━━━━━━━━━━━━━━━━━━━\u001b[0m\u001b[37m\u001b[0m \u001b[1m0s\u001b[0m 939ms/step - accuracy: 0.6746 - loss: 0.6171\n",
      "Epoch 43: saving model to model_checkpoint.keras\n",
      "\u001b[1m181/181\u001b[0m \u001b[32m━━━━━━━━━━━━━━━━━━━━\u001b[0m\u001b[37m\u001b[0m \u001b[1m189s\u001b[0m 1s/step - accuracy: 0.6745 - loss: 0.6172 - val_accuracy: 0.6648 - val_loss: 0.6177\n",
      "Epoch 44/200\n",
      "\u001b[1m181/181\u001b[0m \u001b[32m━━━━━━━━━━━━━━━━━━━━\u001b[0m\u001b[37m\u001b[0m \u001b[1m0s\u001b[0m 939ms/step - accuracy: 0.6673 - loss: 0.6173\n",
      "Epoch 44: saving model to model_checkpoint.keras\n",
      "\u001b[1m181/181\u001b[0m \u001b[32m━━━━━━━━━━━━━━━━━━━━\u001b[0m\u001b[37m\u001b[0m \u001b[1m190s\u001b[0m 1s/step - accuracy: 0.6673 - loss: 0.6173 - val_accuracy: 0.6773 - val_loss: 0.6158\n",
      "Epoch 45/200\n",
      "\u001b[1m181/181\u001b[0m \u001b[32m━━━━━━━━━━━━━━━━━━━━\u001b[0m\u001b[37m\u001b[0m \u001b[1m0s\u001b[0m 939ms/step - accuracy: 0.6883 - loss: 0.6070\n",
      "Epoch 45: saving model to model_checkpoint.keras\n",
      "\u001b[1m181/181\u001b[0m \u001b[32m━━━━━━━━━━━━━━━━━━━━\u001b[0m\u001b[37m\u001b[0m \u001b[1m189s\u001b[0m 1s/step - accuracy: 0.6881 - loss: 0.6070 - val_accuracy: 0.6731 - val_loss: 0.6194\n",
      "Epoch 46/200\n",
      "\u001b[1m181/181\u001b[0m \u001b[32m━━━━━━━━━━━━━━━━━━━━\u001b[0m\u001b[37m\u001b[0m \u001b[1m0s\u001b[0m 939ms/step - accuracy: 0.6716 - loss: 0.6142\n",
      "Epoch 46: saving model to model_checkpoint.keras\n",
      "\u001b[1m181/181\u001b[0m \u001b[32m━━━━━━━━━━━━━━━━━━━━\u001b[0m\u001b[37m\u001b[0m \u001b[1m190s\u001b[0m 1s/step - accuracy: 0.6717 - loss: 0.6142 - val_accuracy: 0.6330 - val_loss: 0.6177\n",
      "Epoch 47/200\n",
      "\u001b[1m181/181\u001b[0m \u001b[32m━━━━━━━━━━━━━━━━━━━━\u001b[0m\u001b[37m\u001b[0m \u001b[1m0s\u001b[0m 939ms/step - accuracy: 0.6801 - loss: 0.6048\n",
      "Epoch 47: saving model to model_checkpoint.keras\n",
      "\u001b[1m181/181\u001b[0m \u001b[32m━━━━━━━━━━━━━━━━━━━━\u001b[0m\u001b[37m\u001b[0m \u001b[1m191s\u001b[0m 1s/step - accuracy: 0.6801 - loss: 0.6048 - val_accuracy: 0.6745 - val_loss: 0.6085\n",
      "Epoch 48/200\n",
      "\u001b[1m181/181\u001b[0m \u001b[32m━━━━━━━━━━━━━━━━━━━━\u001b[0m\u001b[37m\u001b[0m \u001b[1m0s\u001b[0m 940ms/step - accuracy: 0.6917 - loss: 0.6033\n",
      "Epoch 48: saving model to model_checkpoint.keras\n",
      "\u001b[1m181/181\u001b[0m \u001b[32m━━━━━━━━━━━━━━━━━━━━\u001b[0m\u001b[37m\u001b[0m \u001b[1m191s\u001b[0m 1s/step - accuracy: 0.6917 - loss: 0.6033 - val_accuracy: 0.6814 - val_loss: 0.6065\n",
      "Epoch 49/200\n",
      "\u001b[1m181/181\u001b[0m \u001b[32m━━━━━━━━━━━━━━━━━━━━\u001b[0m\u001b[37m\u001b[0m \u001b[1m0s\u001b[0m 939ms/step - accuracy: 0.6825 - loss: 0.6035\n",
      "Epoch 49: saving model to model_checkpoint.keras\n",
      "\u001b[1m181/181\u001b[0m \u001b[32m━━━━━━━━━━━━━━━━━━━━\u001b[0m\u001b[37m\u001b[0m \u001b[1m191s\u001b[0m 1s/step - accuracy: 0.6824 - loss: 0.6035 - val_accuracy: 0.6717 - val_loss: 0.6072\n",
      "Epoch 50/200\n",
      "\u001b[1m181/181\u001b[0m \u001b[32m━━━━━━━━━━━━━━━━━━━━\u001b[0m\u001b[37m\u001b[0m \u001b[1m0s\u001b[0m 938ms/step - accuracy: 0.6805 - loss: 0.6036\n",
      "Epoch 50: saving model to model_checkpoint.keras\n",
      "\u001b[1m181/181\u001b[0m \u001b[32m━━━━━━━━━━━━━━━━━━━━\u001b[0m\u001b[37m\u001b[0m \u001b[1m192s\u001b[0m 1s/step - accuracy: 0.6805 - loss: 0.6036 - val_accuracy: 0.6731 - val_loss: 0.6038\n",
      "Epoch 51/200\n",
      "\u001b[1m181/181\u001b[0m \u001b[32m━━━━━━━━━━━━━━━━━━━━\u001b[0m\u001b[37m\u001b[0m \u001b[1m0s\u001b[0m 938ms/step - accuracy: 0.6804 - loss: 0.6053\n",
      "Epoch 51: saving model to model_checkpoint.keras\n",
      "\u001b[1m181/181\u001b[0m \u001b[32m━━━━━━━━━━━━━━━━━━━━\u001b[0m\u001b[37m\u001b[0m \u001b[1m192s\u001b[0m 1s/step - accuracy: 0.6805 - loss: 0.6053 - val_accuracy: 0.6731 - val_loss: 0.6023\n",
      "Epoch 52/200\n",
      "\u001b[1m181/181\u001b[0m \u001b[32m━━━━━━━━━━━━━━━━━━━━\u001b[0m\u001b[37m\u001b[0m \u001b[1m0s\u001b[0m 932ms/step - accuracy: 0.6857 - loss: 0.5952\n",
      "Epoch 52: saving model to model_checkpoint.keras\n",
      "\u001b[1m181/181\u001b[0m \u001b[32m━━━━━━━━━━━━━━━━━━━━\u001b[0m\u001b[37m\u001b[0m \u001b[1m191s\u001b[0m 1s/step - accuracy: 0.6858 - loss: 0.5952 - val_accuracy: 0.6787 - val_loss: 0.6005\n",
      "Epoch 53/200\n",
      "\u001b[1m181/181\u001b[0m \u001b[32m━━━━━━━━━━━━━━━━━━━━\u001b[0m\u001b[37m\u001b[0m \u001b[1m0s\u001b[0m 928ms/step - accuracy: 0.6856 - loss: 0.5994\n",
      "Epoch 53: saving model to model_checkpoint.keras\n",
      "\u001b[1m181/181\u001b[0m \u001b[32m━━━━━━━━━━━━━━━━━━━━\u001b[0m\u001b[37m\u001b[0m \u001b[1m190s\u001b[0m 1s/step - accuracy: 0.6855 - loss: 0.5994 - val_accuracy: 0.6801 - val_loss: 0.5971\n",
      "Epoch 54/200\n",
      "\u001b[1m181/181\u001b[0m \u001b[32m━━━━━━━━━━━━━━━━━━━━\u001b[0m\u001b[37m\u001b[0m \u001b[1m0s\u001b[0m 927ms/step - accuracy: 0.6936 - loss: 0.5979\n",
      "Epoch 54: saving model to model_checkpoint.keras\n",
      "\u001b[1m181/181\u001b[0m \u001b[32m━━━━━━━━━━━━━━━━━━━━\u001b[0m\u001b[37m\u001b[0m \u001b[1m189s\u001b[0m 1s/step - accuracy: 0.6936 - loss: 0.5979 - val_accuracy: 0.6842 - val_loss: 0.5952\n",
      "Epoch 55/200\n",
      "\u001b[1m181/181\u001b[0m \u001b[32m━━━━━━━━━━━━━━━━━━━━\u001b[0m\u001b[37m\u001b[0m \u001b[1m0s\u001b[0m 925ms/step - accuracy: 0.6903 - loss: 0.5951\n",
      "Epoch 55: saving model to model_checkpoint.keras\n",
      "\u001b[1m181/181\u001b[0m \u001b[32m━━━━━━━━━━━━━━━━━━━━\u001b[0m\u001b[37m\u001b[0m \u001b[1m189s\u001b[0m 1s/step - accuracy: 0.6903 - loss: 0.5951 - val_accuracy: 0.6814 - val_loss: 0.5929\n",
      "Epoch 56/200\n",
      "\u001b[1m181/181\u001b[0m \u001b[32m━━━━━━━━━━━━━━━━━━━━\u001b[0m\u001b[37m\u001b[0m \u001b[1m0s\u001b[0m 926ms/step - accuracy: 0.6886 - loss: 0.5914\n",
      "Epoch 56: saving model to model_checkpoint.keras\n",
      "\u001b[1m181/181\u001b[0m \u001b[32m━━━━━━━━━━━━━━━━━━━━\u001b[0m\u001b[37m\u001b[0m \u001b[1m187s\u001b[0m 1s/step - accuracy: 0.6886 - loss: 0.5914 - val_accuracy: 0.6981 - val_loss: 0.5973\n",
      "Epoch 57/200\n",
      "\u001b[1m181/181\u001b[0m \u001b[32m━━━━━━━━━━━━━━━━━━━━\u001b[0m\u001b[37m\u001b[0m \u001b[1m0s\u001b[0m 925ms/step - accuracy: 0.6872 - loss: 0.5921\n",
      "Epoch 57: saving model to model_checkpoint.keras\n",
      "\u001b[1m181/181\u001b[0m \u001b[32m━━━━━━━━━━━━━━━━━━━━\u001b[0m\u001b[37m\u001b[0m \u001b[1m189s\u001b[0m 1s/step - accuracy: 0.6872 - loss: 0.5921 - val_accuracy: 0.6343 - val_loss: 0.6074\n",
      "Epoch 58/200\n",
      "\u001b[1m181/181\u001b[0m \u001b[32m━━━━━━━━━━━━━━━━━━━━\u001b[0m\u001b[37m\u001b[0m \u001b[1m0s\u001b[0m 925ms/step - accuracy: 0.6951 - loss: 0.5846\n",
      "Epoch 58: saving model to model_checkpoint.keras\n",
      "\u001b[1m181/181\u001b[0m \u001b[32m━━━━━━━━━━━━━━━━━━━━\u001b[0m\u001b[37m\u001b[0m \u001b[1m191s\u001b[0m 1s/step - accuracy: 0.6950 - loss: 0.5847 - val_accuracy: 0.6870 - val_loss: 0.5924\n",
      "Epoch 59/200\n",
      "\u001b[1m181/181\u001b[0m \u001b[32m━━━━━━━━━━━━━━━━━━━━\u001b[0m\u001b[37m\u001b[0m \u001b[1m0s\u001b[0m 927ms/step - accuracy: 0.7112 - loss: 0.5761\n",
      "Epoch 59: saving model to model_checkpoint.keras\n",
      "\u001b[1m181/181\u001b[0m \u001b[32m━━━━━━━━━━━━━━━━━━━━\u001b[0m\u001b[37m\u001b[0m \u001b[1m190s\u001b[0m 1s/step - accuracy: 0.7111 - loss: 0.5762 - val_accuracy: 0.6731 - val_loss: 0.5879\n",
      "Epoch 60/200\n",
      "\u001b[1m181/181\u001b[0m \u001b[32m━━━━━━━━━━━━━━━━━━━━\u001b[0m\u001b[37m\u001b[0m \u001b[1m0s\u001b[0m 926ms/step - accuracy: 0.7063 - loss: 0.5829\n",
      "Epoch 60: saving model to model_checkpoint.keras\n",
      "\u001b[1m181/181\u001b[0m \u001b[32m━━━━━━━━━━━━━━━━━━━━\u001b[0m\u001b[37m\u001b[0m \u001b[1m188s\u001b[0m 1s/step - accuracy: 0.7064 - loss: 0.5829 - val_accuracy: 0.6898 - val_loss: 0.5856\n",
      "Epoch 61/200\n",
      "\u001b[1m181/181\u001b[0m \u001b[32m━━━━━━━━━━━━━━━━━━━━\u001b[0m\u001b[37m\u001b[0m \u001b[1m0s\u001b[0m 925ms/step - accuracy: 0.7078 - loss: 0.5787\n",
      "Epoch 61: saving model to model_checkpoint.keras\n",
      "\u001b[1m181/181\u001b[0m \u001b[32m━━━━━━━━━━━━━━━━━━━━\u001b[0m\u001b[37m\u001b[0m \u001b[1m190s\u001b[0m 1s/step - accuracy: 0.7077 - loss: 0.5788 - val_accuracy: 0.6814 - val_loss: 0.5850\n",
      "Epoch 62/200\n",
      "\u001b[1m181/181\u001b[0m \u001b[32m━━━━━━━━━━━━━━━━━━━━\u001b[0m\u001b[37m\u001b[0m \u001b[1m0s\u001b[0m 929ms/step - accuracy: 0.7017 - loss: 0.5804\n",
      "Epoch 62: saving model to model_checkpoint.keras\n",
      "\u001b[1m181/181\u001b[0m \u001b[32m━━━━━━━━━━━━━━━━━━━━\u001b[0m\u001b[37m\u001b[0m \u001b[1m189s\u001b[0m 1s/step - accuracy: 0.7017 - loss: 0.5804 - val_accuracy: 0.7022 - val_loss: 0.5839\n",
      "Epoch 63/200\n",
      "\u001b[1m181/181\u001b[0m \u001b[32m━━━━━━━━━━━━━━━━━━━━\u001b[0m\u001b[37m\u001b[0m \u001b[1m0s\u001b[0m 926ms/step - accuracy: 0.7047 - loss: 0.5758\n",
      "Epoch 63: saving model to model_checkpoint.keras\n",
      "\u001b[1m181/181\u001b[0m \u001b[32m━━━━━━━━━━━━━━━━━━━━\u001b[0m\u001b[37m\u001b[0m \u001b[1m189s\u001b[0m 1s/step - accuracy: 0.7047 - loss: 0.5758 - val_accuracy: 0.6745 - val_loss: 0.5828\n",
      "Epoch 64/200\n",
      "\u001b[1m181/181\u001b[0m \u001b[32m━━━━━━━━━━━━━━━━━━━━\u001b[0m\u001b[37m\u001b[0m \u001b[1m0s\u001b[0m 927ms/step - accuracy: 0.7046 - loss: 0.5736\n",
      "Epoch 64: saving model to model_checkpoint.keras\n",
      "\u001b[1m181/181\u001b[0m \u001b[32m━━━━━━━━━━━━━━━━━━━━\u001b[0m\u001b[37m\u001b[0m \u001b[1m190s\u001b[0m 1s/step - accuracy: 0.7046 - loss: 0.5736 - val_accuracy: 0.6898 - val_loss: 0.5770\n",
      "Epoch 65/200\n",
      "\u001b[1m181/181\u001b[0m \u001b[32m━━━━━━━━━━━━━━━━━━━━\u001b[0m\u001b[37m\u001b[0m \u001b[1m0s\u001b[0m 927ms/step - accuracy: 0.7159 - loss: 0.5686\n",
      "Epoch 65: saving model to model_checkpoint.keras\n",
      "\u001b[1m181/181\u001b[0m \u001b[32m━━━━━━━━━━━━━━━━━━━━\u001b[0m\u001b[37m\u001b[0m \u001b[1m189s\u001b[0m 1s/step - accuracy: 0.7159 - loss: 0.5686 - val_accuracy: 0.6981 - val_loss: 0.5820\n",
      "Epoch 66/200\n",
      "\u001b[1m181/181\u001b[0m \u001b[32m━━━━━━━━━━━━━━━━━━━━\u001b[0m\u001b[37m\u001b[0m \u001b[1m0s\u001b[0m 923ms/step - accuracy: 0.7119 - loss: 0.5747\n",
      "Epoch 66: saving model to model_checkpoint.keras\n",
      "\u001b[1m181/181\u001b[0m \u001b[32m━━━━━━━━━━━━━━━━━━━━\u001b[0m\u001b[37m\u001b[0m \u001b[1m188s\u001b[0m 1s/step - accuracy: 0.7119 - loss: 0.5747 - val_accuracy: 0.6911 - val_loss: 0.5782\n",
      "Epoch 67/200\n",
      "\u001b[1m181/181\u001b[0m \u001b[32m━━━━━━━━━━━━━━━━━━━━\u001b[0m\u001b[37m\u001b[0m \u001b[1m0s\u001b[0m 922ms/step - accuracy: 0.7009 - loss: 0.5761\n",
      "Epoch 67: saving model to model_checkpoint.keras\n",
      "\u001b[1m181/181\u001b[0m \u001b[32m━━━━━━━━━━━━━━━━━━━━\u001b[0m\u001b[37m\u001b[0m \u001b[1m190s\u001b[0m 1s/step - accuracy: 0.7009 - loss: 0.5761 - val_accuracy: 0.6828 - val_loss: 0.5831\n",
      "Epoch 68/200\n",
      "\u001b[1m181/181\u001b[0m \u001b[32m━━━━━━━━━━━━━━━━━━━━\u001b[0m\u001b[37m\u001b[0m \u001b[1m0s\u001b[0m 925ms/step - accuracy: 0.7085 - loss: 0.5698\n",
      "Epoch 68: saving model to model_checkpoint.keras\n",
      "\u001b[1m181/181\u001b[0m \u001b[32m━━━━━━━━━━━━━━━━━━━━\u001b[0m\u001b[37m\u001b[0m \u001b[1m188s\u001b[0m 1s/step - accuracy: 0.7085 - loss: 0.5698 - val_accuracy: 0.6939 - val_loss: 0.5718\n",
      "Epoch 69/200\n",
      "\u001b[1m181/181\u001b[0m \u001b[32m━━━━━━━━━━━━━━━━━━━━\u001b[0m\u001b[37m\u001b[0m \u001b[1m0s\u001b[0m 925ms/step - accuracy: 0.7273 - loss: 0.5634\n",
      "Epoch 69: saving model to model_checkpoint.keras\n",
      "\u001b[1m181/181\u001b[0m \u001b[32m━━━━━━━━━━━━━━━━━━━━\u001b[0m\u001b[37m\u001b[0m \u001b[1m188s\u001b[0m 1s/step - accuracy: 0.7271 - loss: 0.5634 - val_accuracy: 0.6911 - val_loss: 0.5782\n",
      "Epoch 70/200\n",
      "\u001b[1m181/181\u001b[0m \u001b[32m━━━━━━━━━━━━━━━━━━━━\u001b[0m\u001b[37m\u001b[0m \u001b[1m0s\u001b[0m 927ms/step - accuracy: 0.7237 - loss: 0.5573\n",
      "Epoch 70: saving model to model_checkpoint.keras\n",
      "\u001b[1m181/181\u001b[0m \u001b[32m━━━━━━━━━━━━━━━━━━━━\u001b[0m\u001b[37m\u001b[0m \u001b[1m190s\u001b[0m 1s/step - accuracy: 0.7237 - loss: 0.5573 - val_accuracy: 0.6814 - val_loss: 0.5746\n",
      "Epoch 71/200\n",
      "\u001b[1m181/181\u001b[0m \u001b[32m━━━━━━━━━━━━━━━━━━━━\u001b[0m\u001b[37m\u001b[0m \u001b[1m0s\u001b[0m 927ms/step - accuracy: 0.7155 - loss: 0.5652\n",
      "Epoch 71: saving model to model_checkpoint.keras\n",
      "\u001b[1m181/181\u001b[0m \u001b[32m━━━━━━━━━━━━━━━━━━━━\u001b[0m\u001b[37m\u001b[0m \u001b[1m188s\u001b[0m 1s/step - accuracy: 0.7155 - loss: 0.5652 - val_accuracy: 0.6524 - val_loss: 0.5876\n",
      "Epoch 72/200\n",
      "\u001b[1m181/181\u001b[0m \u001b[32m━━━━━━━━━━━━━━━━━━━━\u001b[0m\u001b[37m\u001b[0m \u001b[1m0s\u001b[0m 926ms/step - accuracy: 0.7158 - loss: 0.5652\n",
      "Epoch 72: saving model to model_checkpoint.keras\n",
      "\u001b[1m181/181\u001b[0m \u001b[32m━━━━━━━━━━━━━━━━━━━━\u001b[0m\u001b[37m\u001b[0m \u001b[1m189s\u001b[0m 1s/step - accuracy: 0.7158 - loss: 0.5652 - val_accuracy: 0.7050 - val_loss: 0.5639\n",
      "Epoch 73/200\n",
      "\u001b[1m181/181\u001b[0m \u001b[32m━━━━━━━━━━━━━━━━━━━━\u001b[0m\u001b[37m\u001b[0m \u001b[1m0s\u001b[0m 926ms/step - accuracy: 0.7327 - loss: 0.5550\n",
      "Epoch 73: saving model to model_checkpoint.keras\n",
      "\u001b[1m181/181\u001b[0m \u001b[32m━━━━━━━━━━━━━━━━━━━━\u001b[0m\u001b[37m\u001b[0m \u001b[1m189s\u001b[0m 1s/step - accuracy: 0.7327 - loss: 0.5551 - val_accuracy: 0.6925 - val_loss: 0.5673\n",
      "Epoch 74/200\n",
      "\u001b[1m181/181\u001b[0m \u001b[32m━━━━━━━━━━━━━━━━━━━━\u001b[0m\u001b[37m\u001b[0m \u001b[1m0s\u001b[0m 926ms/step - accuracy: 0.7297 - loss: 0.5522\n",
      "Epoch 74: saving model to model_checkpoint.keras\n",
      "\u001b[1m181/181\u001b[0m \u001b[32m━━━━━━━━━━━━━━━━━━━━\u001b[0m\u001b[37m\u001b[0m \u001b[1m186s\u001b[0m 1s/step - accuracy: 0.7297 - loss: 0.5522 - val_accuracy: 0.6856 - val_loss: 0.5638\n",
      "Epoch 75/200\n",
      "\u001b[1m181/181\u001b[0m \u001b[32m━━━━━━━━━━━━━━━━━━━━\u001b[0m\u001b[37m\u001b[0m \u001b[1m0s\u001b[0m 927ms/step - accuracy: 0.7223 - loss: 0.5542\n",
      "Epoch 75: saving model to model_checkpoint.keras\n",
      "\u001b[1m181/181\u001b[0m \u001b[32m━━━━━━━━━━━━━━━━━━━━\u001b[0m\u001b[37m\u001b[0m \u001b[1m189s\u001b[0m 1s/step - accuracy: 0.7224 - loss: 0.5541 - val_accuracy: 0.6828 - val_loss: 0.5655\n",
      "Epoch 76/200\n",
      "\u001b[1m181/181\u001b[0m \u001b[32m━━━━━━━━━━━━━━━━━━━━\u001b[0m\u001b[37m\u001b[0m \u001b[1m0s\u001b[0m 927ms/step - accuracy: 0.7256 - loss: 0.5501\n",
      "Epoch 76: saving model to model_checkpoint.keras\n",
      "\u001b[1m181/181\u001b[0m \u001b[32m━━━━━━━━━━━━━━━━━━━━\u001b[0m\u001b[37m\u001b[0m \u001b[1m189s\u001b[0m 1s/step - accuracy: 0.7255 - loss: 0.5501 - val_accuracy: 0.6939 - val_loss: 0.5651\n",
      "Epoch 77/200\n",
      "\u001b[1m181/181\u001b[0m \u001b[32m━━━━━━━━━━━━━━━━━━━━\u001b[0m\u001b[37m\u001b[0m \u001b[1m0s\u001b[0m 928ms/step - accuracy: 0.7304 - loss: 0.5461\n",
      "Epoch 77: saving model to model_checkpoint.keras\n",
      "\u001b[1m181/181\u001b[0m \u001b[32m━━━━━━━━━━━━━━━━━━━━\u001b[0m\u001b[37m\u001b[0m \u001b[1m189s\u001b[0m 1s/step - accuracy: 0.7303 - loss: 0.5462 - val_accuracy: 0.7161 - val_loss: 0.5605\n",
      "Epoch 78/200\n",
      "\u001b[1m181/181\u001b[0m \u001b[32m━━━━━━━━━━━━━━━━━━━━\u001b[0m\u001b[37m\u001b[0m \u001b[1m0s\u001b[0m 927ms/step - accuracy: 0.7298 - loss: 0.5478\n",
      "Epoch 78: saving model to model_checkpoint.keras\n",
      "\u001b[1m181/181\u001b[0m \u001b[32m━━━━━━━━━━━━━━━━━━━━\u001b[0m\u001b[37m\u001b[0m \u001b[1m190s\u001b[0m 1s/step - accuracy: 0.7298 - loss: 0.5478 - val_accuracy: 0.7036 - val_loss: 0.5614\n",
      "Epoch 79/200\n",
      "\u001b[1m181/181\u001b[0m \u001b[32m━━━━━━━━━━━━━━━━━━━━\u001b[0m\u001b[37m\u001b[0m \u001b[1m0s\u001b[0m 927ms/step - accuracy: 0.7240 - loss: 0.5498\n",
      "Epoch 79: saving model to model_checkpoint.keras\n",
      "\u001b[1m181/181\u001b[0m \u001b[32m━━━━━━━━━━━━━━━━━━━━\u001b[0m\u001b[37m\u001b[0m \u001b[1m190s\u001b[0m 1s/step - accuracy: 0.7240 - loss: 0.5498 - val_accuracy: 0.6925 - val_loss: 0.5579\n",
      "Epoch 80/200\n",
      "\u001b[1m181/181\u001b[0m \u001b[32m━━━━━━━━━━━━━━━━━━━━\u001b[0m\u001b[37m\u001b[0m \u001b[1m0s\u001b[0m 927ms/step - accuracy: 0.7301 - loss: 0.5471\n",
      "Epoch 80: saving model to model_checkpoint.keras\n",
      "\u001b[1m181/181\u001b[0m \u001b[32m━━━━━━━━━━━━━━━━━━━━\u001b[0m\u001b[37m\u001b[0m \u001b[1m188s\u001b[0m 1s/step - accuracy: 0.7301 - loss: 0.5471 - val_accuracy: 0.7078 - val_loss: 0.5570\n",
      "Epoch 81/200\n",
      "\u001b[1m181/181\u001b[0m \u001b[32m━━━━━━━━━━━━━━━━━━━━\u001b[0m\u001b[37m\u001b[0m \u001b[1m0s\u001b[0m 926ms/step - accuracy: 0.7338 - loss: 0.5428\n",
      "Epoch 81: saving model to model_checkpoint.keras\n",
      "\u001b[1m181/181\u001b[0m \u001b[32m━━━━━━━━━━━━━━━━━━━━\u001b[0m\u001b[37m\u001b[0m \u001b[1m191s\u001b[0m 1s/step - accuracy: 0.7338 - loss: 0.5429 - val_accuracy: 0.7022 - val_loss: 0.5529\n",
      "Epoch 82/200\n",
      "\u001b[1m181/181\u001b[0m \u001b[32m━━━━━━━━━━━━━━━━━━━━\u001b[0m\u001b[37m\u001b[0m \u001b[1m0s\u001b[0m 928ms/step - accuracy: 0.7243 - loss: 0.5434\n",
      "Epoch 82: saving model to model_checkpoint.keras\n",
      "\u001b[1m181/181\u001b[0m \u001b[32m━━━━━━━━━━━━━━━━━━━━\u001b[0m\u001b[37m\u001b[0m \u001b[1m189s\u001b[0m 1s/step - accuracy: 0.7242 - loss: 0.5434 - val_accuracy: 0.7105 - val_loss: 0.5541\n",
      "Epoch 83/200\n",
      "\u001b[1m181/181\u001b[0m \u001b[32m━━━━━━━━━━━━━━━━━━━━\u001b[0m\u001b[37m\u001b[0m \u001b[1m0s\u001b[0m 927ms/step - accuracy: 0.7277 - loss: 0.5478\n",
      "Epoch 83: saving model to model_checkpoint.keras\n",
      "\u001b[1m181/181\u001b[0m \u001b[32m━━━━━━━━━━━━━━━━━━━━\u001b[0m\u001b[37m\u001b[0m \u001b[1m189s\u001b[0m 1s/step - accuracy: 0.7276 - loss: 0.5478 - val_accuracy: 0.7188 - val_loss: 0.5516\n",
      "Epoch 84/200\n",
      "\u001b[1m181/181\u001b[0m \u001b[32m━━━━━━━━━━━━━━━━━━━━\u001b[0m\u001b[37m\u001b[0m \u001b[1m0s\u001b[0m 928ms/step - accuracy: 0.7303 - loss: 0.5460\n",
      "Epoch 84: saving model to model_checkpoint.keras\n",
      "\u001b[1m181/181\u001b[0m \u001b[32m━━━━━━━━━━━━━━━━━━━━\u001b[0m\u001b[37m\u001b[0m \u001b[1m189s\u001b[0m 1s/step - accuracy: 0.7303 - loss: 0.5460 - val_accuracy: 0.6953 - val_loss: 0.5540\n",
      "Epoch 85/200\n",
      "\u001b[1m181/181\u001b[0m \u001b[32m━━━━━━━━━━━━━━━━━━━━\u001b[0m\u001b[37m\u001b[0m \u001b[1m0s\u001b[0m 926ms/step - accuracy: 0.7333 - loss: 0.5362\n",
      "Epoch 85: saving model to model_checkpoint.keras\n",
      "\u001b[1m181/181\u001b[0m \u001b[32m━━━━━━━━━━━━━━━━━━━━\u001b[0m\u001b[37m\u001b[0m \u001b[1m189s\u001b[0m 1s/step - accuracy: 0.7332 - loss: 0.5362 - val_accuracy: 0.6759 - val_loss: 0.5663\n",
      "Epoch 86/200\n",
      "\u001b[1m181/181\u001b[0m \u001b[32m━━━━━━━━━━━━━━━━━━━━\u001b[0m\u001b[37m\u001b[0m \u001b[1m0s\u001b[0m 927ms/step - accuracy: 0.7386 - loss: 0.5357\n",
      "Epoch 86: saving model to model_checkpoint.keras\n",
      "\u001b[1m181/181\u001b[0m \u001b[32m━━━━━━━━━━━━━━━━━━━━\u001b[0m\u001b[37m\u001b[0m \u001b[1m188s\u001b[0m 1s/step - accuracy: 0.7386 - loss: 0.5357 - val_accuracy: 0.7105 - val_loss: 0.5494\n",
      "Epoch 87/200\n",
      "\u001b[1m181/181\u001b[0m \u001b[32m━━━━━━━━━━━━━━━━━━━━\u001b[0m\u001b[37m\u001b[0m \u001b[1m0s\u001b[0m 926ms/step - accuracy: 0.7462 - loss: 0.5329\n",
      "Epoch 87: saving model to model_checkpoint.keras\n",
      "\u001b[1m181/181\u001b[0m \u001b[32m━━━━━━━━━━━━━━━━━━━━\u001b[0m\u001b[37m\u001b[0m \u001b[1m188s\u001b[0m 1s/step - accuracy: 0.7461 - loss: 0.5329 - val_accuracy: 0.7188 - val_loss: 0.5427\n",
      "Epoch 88/200\n",
      "\u001b[1m181/181\u001b[0m \u001b[32m━━━━━━━━━━━━━━━━━━━━\u001b[0m\u001b[37m\u001b[0m \u001b[1m0s\u001b[0m 926ms/step - accuracy: 0.7450 - loss: 0.5283\n",
      "Epoch 88: saving model to model_checkpoint.keras\n",
      "\u001b[1m181/181\u001b[0m \u001b[32m━━━━━━━━━━━━━━━━━━━━\u001b[0m\u001b[37m\u001b[0m \u001b[1m187s\u001b[0m 1s/step - accuracy: 0.7450 - loss: 0.5284 - val_accuracy: 0.7175 - val_loss: 0.5408\n",
      "Epoch 89/200\n",
      "\u001b[1m181/181\u001b[0m \u001b[32m━━━━━━━━━━━━━━━━━━━━\u001b[0m\u001b[37m\u001b[0m \u001b[1m0s\u001b[0m 928ms/step - accuracy: 0.7304 - loss: 0.5395\n",
      "Epoch 89: saving model to model_checkpoint.keras\n",
      "\u001b[1m181/181\u001b[0m \u001b[32m━━━━━━━━━━━━━━━━━━━━\u001b[0m\u001b[37m\u001b[0m \u001b[1m188s\u001b[0m 1s/step - accuracy: 0.7303 - loss: 0.5395 - val_accuracy: 0.7008 - val_loss: 0.5503\n",
      "Epoch 90/200\n",
      "\u001b[1m181/181\u001b[0m \u001b[32m━━━━━━━━━━━━━━━━━━━━\u001b[0m\u001b[37m\u001b[0m \u001b[1m0s\u001b[0m 927ms/step - accuracy: 0.7410 - loss: 0.5243\n",
      "Epoch 90: saving model to model_checkpoint.keras\n",
      "\u001b[1m181/181\u001b[0m \u001b[32m━━━━━━━━━━━━━━━━━━━━\u001b[0m\u001b[37m\u001b[0m \u001b[1m188s\u001b[0m 1s/step - accuracy: 0.7410 - loss: 0.5243 - val_accuracy: 0.7202 - val_loss: 0.5407\n",
      "Epoch 91/200\n",
      "\u001b[1m181/181\u001b[0m \u001b[32m━━━━━━━━━━━━━━━━━━━━\u001b[0m\u001b[37m\u001b[0m \u001b[1m0s\u001b[0m 926ms/step - accuracy: 0.7347 - loss: 0.5258\n",
      "Epoch 91: saving model to model_checkpoint.keras\n",
      "\u001b[1m181/181\u001b[0m \u001b[32m━━━━━━━━━━━━━━━━━━━━\u001b[0m\u001b[37m\u001b[0m \u001b[1m189s\u001b[0m 1s/step - accuracy: 0.7348 - loss: 0.5258 - val_accuracy: 0.7327 - val_loss: 0.5380\n",
      "Epoch 92/200\n",
      "\u001b[1m181/181\u001b[0m \u001b[32m━━━━━━━━━━━━━━━━━━━━\u001b[0m\u001b[37m\u001b[0m \u001b[1m0s\u001b[0m 927ms/step - accuracy: 0.7399 - loss: 0.5228\n",
      "Epoch 92: saving model to model_checkpoint.keras\n",
      "\u001b[1m181/181\u001b[0m \u001b[32m━━━━━━━━━━━━━━━━━━━━\u001b[0m\u001b[37m\u001b[0m \u001b[1m188s\u001b[0m 1s/step - accuracy: 0.7399 - loss: 0.5228 - val_accuracy: 0.7244 - val_loss: 0.5452\n",
      "Epoch 93/200\n",
      "\u001b[1m181/181\u001b[0m \u001b[32m━━━━━━━━━━━━━━━━━━━━\u001b[0m\u001b[37m\u001b[0m \u001b[1m0s\u001b[0m 926ms/step - accuracy: 0.7477 - loss: 0.5249\n",
      "Epoch 93: saving model to model_checkpoint.keras\n",
      "\u001b[1m181/181\u001b[0m \u001b[32m━━━━━━━━━━━━━━━━━━━━\u001b[0m\u001b[37m\u001b[0m \u001b[1m189s\u001b[0m 1s/step - accuracy: 0.7477 - loss: 0.5249 - val_accuracy: 0.7355 - val_loss: 0.5363\n",
      "Epoch 94/200\n",
      "\u001b[1m181/181\u001b[0m \u001b[32m━━━━━━━━━━━━━━━━━━━━\u001b[0m\u001b[37m\u001b[0m \u001b[1m0s\u001b[0m 927ms/step - accuracy: 0.7539 - loss: 0.5237\n",
      "Epoch 94: saving model to model_checkpoint.keras\n",
      "\u001b[1m181/181\u001b[0m \u001b[32m━━━━━━━━━━━━━━━━━━━━\u001b[0m\u001b[37m\u001b[0m \u001b[1m189s\u001b[0m 1s/step - accuracy: 0.7539 - loss: 0.5237 - val_accuracy: 0.7327 - val_loss: 0.5347\n",
      "Epoch 95/200\n",
      "\u001b[1m181/181\u001b[0m \u001b[32m━━━━━━━━━━━━━━━━━━━━\u001b[0m\u001b[37m\u001b[0m \u001b[1m0s\u001b[0m 925ms/step - accuracy: 0.7561 - loss: 0.5127\n",
      "Epoch 95: saving model to model_checkpoint.keras\n",
      "\u001b[1m181/181\u001b[0m \u001b[32m━━━━━━━━━━━━━━━━━━━━\u001b[0m\u001b[37m\u001b[0m \u001b[1m189s\u001b[0m 1s/step - accuracy: 0.7561 - loss: 0.5127 - val_accuracy: 0.7355 - val_loss: 0.5344\n",
      "Epoch 96/200\n",
      "\u001b[1m181/181\u001b[0m \u001b[32m━━━━━━━━━━━━━━━━━━━━\u001b[0m\u001b[37m\u001b[0m \u001b[1m0s\u001b[0m 926ms/step - accuracy: 0.7518 - loss: 0.5233\n",
      "Epoch 96: saving model to model_checkpoint.keras\n",
      "\u001b[1m181/181\u001b[0m \u001b[32m━━━━━━━━━━━━━━━━━━━━\u001b[0m\u001b[37m\u001b[0m \u001b[1m188s\u001b[0m 1s/step - accuracy: 0.7517 - loss: 0.5232 - val_accuracy: 0.7438 - val_loss: 0.5326\n",
      "Epoch 97/200\n",
      "\u001b[1m181/181\u001b[0m \u001b[32m━━━━━━━━━━━━━━━━━━━━\u001b[0m\u001b[37m\u001b[0m \u001b[1m0s\u001b[0m 926ms/step - accuracy: 0.7539 - loss: 0.5172\n",
      "Epoch 97: saving model to model_checkpoint.keras\n",
      "\u001b[1m181/181\u001b[0m \u001b[32m━━━━━━━━━━━━━━━━━━━━\u001b[0m\u001b[37m\u001b[0m \u001b[1m189s\u001b[0m 1s/step - accuracy: 0.7538 - loss: 0.5172 - val_accuracy: 0.7410 - val_loss: 0.5347\n",
      "Epoch 98/200\n",
      "\u001b[1m181/181\u001b[0m \u001b[32m━━━━━━━━━━━━━━━━━━━━\u001b[0m\u001b[37m\u001b[0m \u001b[1m0s\u001b[0m 926ms/step - accuracy: 0.7385 - loss: 0.5254\n",
      "Epoch 98: saving model to model_checkpoint.keras\n",
      "\u001b[1m181/181\u001b[0m \u001b[32m━━━━━━━━━━━━━━━━━━━━\u001b[0m\u001b[37m\u001b[0m \u001b[1m187s\u001b[0m 1s/step - accuracy: 0.7385 - loss: 0.5254 - val_accuracy: 0.7299 - val_loss: 0.5302\n",
      "Epoch 99/200\n",
      "\u001b[1m181/181\u001b[0m \u001b[32m━━━━━━━━━━━━━━━━━━━━\u001b[0m\u001b[37m\u001b[0m \u001b[1m0s\u001b[0m 925ms/step - accuracy: 0.7424 - loss: 0.5197\n",
      "Epoch 99: saving model to model_checkpoint.keras\n",
      "\u001b[1m181/181\u001b[0m \u001b[32m━━━━━━━━━━━━━━━━━━━━\u001b[0m\u001b[37m\u001b[0m \u001b[1m188s\u001b[0m 1s/step - accuracy: 0.7424 - loss: 0.5197 - val_accuracy: 0.7410 - val_loss: 0.5299\n",
      "Epoch 100/200\n",
      "\u001b[1m181/181\u001b[0m \u001b[32m━━━━━━━━━━━━━━━━━━━━\u001b[0m\u001b[37m\u001b[0m \u001b[1m0s\u001b[0m 926ms/step - accuracy: 0.7503 - loss: 0.5163\n",
      "Epoch 100: saving model to model_checkpoint.keras\n",
      "\u001b[1m181/181\u001b[0m \u001b[32m━━━━━━━━━━━━━━━━━━━━\u001b[0m\u001b[37m\u001b[0m \u001b[1m188s\u001b[0m 1s/step - accuracy: 0.7504 - loss: 0.5163 - val_accuracy: 0.7161 - val_loss: 0.5364\n",
      "Epoch 101/200\n",
      "\u001b[1m181/181\u001b[0m \u001b[32m━━━━━━━━━━━━━━━━━━━━\u001b[0m\u001b[37m\u001b[0m \u001b[1m0s\u001b[0m 925ms/step - accuracy: 0.7416 - loss: 0.5237\n",
      "Epoch 101: saving model to model_checkpoint.keras\n",
      "\u001b[1m181/181\u001b[0m \u001b[32m━━━━━━━━━━━━━━━━━━━━\u001b[0m\u001b[37m\u001b[0m \u001b[1m187s\u001b[0m 1s/step - accuracy: 0.7417 - loss: 0.5236 - val_accuracy: 0.7230 - val_loss: 0.5279\n",
      "Epoch 102/200\n",
      "\u001b[1m181/181\u001b[0m \u001b[32m━━━━━━━━━━━━━━━━━━━━\u001b[0m\u001b[37m\u001b[0m \u001b[1m0s\u001b[0m 925ms/step - accuracy: 0.7641 - loss: 0.5027\n",
      "Epoch 102: saving model to model_checkpoint.keras\n",
      "\u001b[1m181/181\u001b[0m \u001b[32m━━━━━━━━━━━━━━━━━━━━\u001b[0m\u001b[37m\u001b[0m \u001b[1m187s\u001b[0m 1s/step - accuracy: 0.7641 - loss: 0.5028 - val_accuracy: 0.7188 - val_loss: 0.5327\n",
      "Epoch 103/200\n",
      "\u001b[1m181/181\u001b[0m \u001b[32m━━━━━━━━━━━━━━━━━━━━\u001b[0m\u001b[37m\u001b[0m \u001b[1m0s\u001b[0m 926ms/step - accuracy: 0.7606 - loss: 0.5030\n",
      "Epoch 103: saving model to model_checkpoint.keras\n",
      "\u001b[1m181/181\u001b[0m \u001b[32m━━━━━━━━━━━━━━━━━━━━\u001b[0m\u001b[37m\u001b[0m \u001b[1m188s\u001b[0m 1s/step - accuracy: 0.7605 - loss: 0.5031 - val_accuracy: 0.7313 - val_loss: 0.5211\n",
      "Epoch 104/200\n",
      "\u001b[1m181/181\u001b[0m \u001b[32m━━━━━━━━━━━━━━━━━━━━\u001b[0m\u001b[37m\u001b[0m \u001b[1m0s\u001b[0m 926ms/step - accuracy: 0.7444 - loss: 0.5128\n",
      "Epoch 104: saving model to model_checkpoint.keras\n",
      "\u001b[1m181/181\u001b[0m \u001b[32m━━━━━━━━━━━━━━━━━━━━\u001b[0m\u001b[37m\u001b[0m \u001b[1m188s\u001b[0m 1s/step - accuracy: 0.7445 - loss: 0.5128 - val_accuracy: 0.7410 - val_loss: 0.5293\n",
      "Epoch 105/200\n",
      "\u001b[1m181/181\u001b[0m \u001b[32m━━━━━━━━━━━━━━━━━━━━\u001b[0m\u001b[37m\u001b[0m \u001b[1m0s\u001b[0m 926ms/step - accuracy: 0.7632 - loss: 0.5070\n",
      "Epoch 105: saving model to model_checkpoint.keras\n",
      "\u001b[1m181/181\u001b[0m \u001b[32m━━━━━━━━━━━━━━━━━━━━\u001b[0m\u001b[37m\u001b[0m \u001b[1m190s\u001b[0m 1s/step - accuracy: 0.7631 - loss: 0.5070 - val_accuracy: 0.7368 - val_loss: 0.5218\n",
      "Epoch 106/200\n",
      "\u001b[1m181/181\u001b[0m \u001b[32m━━━━━━━━━━━━━━━━━━━━\u001b[0m\u001b[37m\u001b[0m \u001b[1m0s\u001b[0m 926ms/step - accuracy: 0.7632 - loss: 0.5090\n",
      "Epoch 106: saving model to model_checkpoint.keras\n",
      "\u001b[1m181/181\u001b[0m \u001b[32m━━━━━━━━━━━━━━━━━━━━\u001b[0m\u001b[37m\u001b[0m \u001b[1m188s\u001b[0m 1s/step - accuracy: 0.7632 - loss: 0.5090 - val_accuracy: 0.7216 - val_loss: 0.5202\n",
      "Epoch 107/200\n",
      "\u001b[1m181/181\u001b[0m \u001b[32m━━━━━━━━━━━━━━━━━━━━\u001b[0m\u001b[37m\u001b[0m \u001b[1m0s\u001b[0m 924ms/step - accuracy: 0.7553 - loss: 0.5077\n",
      "Epoch 107: saving model to model_checkpoint.keras\n",
      "\u001b[1m181/181\u001b[0m \u001b[32m━━━━━━━━━━━━━━━━━━━━\u001b[0m\u001b[37m\u001b[0m \u001b[1m189s\u001b[0m 1s/step - accuracy: 0.7553 - loss: 0.5077 - val_accuracy: 0.7410 - val_loss: 0.5237\n",
      "Epoch 108/200\n",
      "\u001b[1m181/181\u001b[0m \u001b[32m━━━━━━━━━━━━━━━━━━━━\u001b[0m\u001b[37m\u001b[0m \u001b[1m0s\u001b[0m 927ms/step - accuracy: 0.7643 - loss: 0.4977\n",
      "Epoch 108: saving model to model_checkpoint.keras\n",
      "\u001b[1m181/181\u001b[0m \u001b[32m━━━━━━━━━━━━━━━━━━━━\u001b[0m\u001b[37m\u001b[0m \u001b[1m189s\u001b[0m 1s/step - accuracy: 0.7644 - loss: 0.4977 - val_accuracy: 0.7410 - val_loss: 0.5187\n",
      "Epoch 109/200\n",
      "\u001b[1m181/181\u001b[0m \u001b[32m━━━━━━━━━━━━━━━━━━━━\u001b[0m\u001b[37m\u001b[0m \u001b[1m0s\u001b[0m 925ms/step - accuracy: 0.7642 - loss: 0.5037\n",
      "Epoch 109: saving model to model_checkpoint.keras\n",
      "\u001b[1m181/181\u001b[0m \u001b[32m━━━━━━━━━━━━━━━━━━━━\u001b[0m\u001b[37m\u001b[0m \u001b[1m189s\u001b[0m 1s/step - accuracy: 0.7642 - loss: 0.5037 - val_accuracy: 0.7355 - val_loss: 0.5171\n",
      "Epoch 110/200\n",
      "\u001b[1m181/181\u001b[0m \u001b[32m━━━━━━━━━━━━━━━━━━━━\u001b[0m\u001b[37m\u001b[0m \u001b[1m0s\u001b[0m 927ms/step - accuracy: 0.7616 - loss: 0.5049\n",
      "Epoch 110: saving model to model_checkpoint.keras\n",
      "\u001b[1m181/181\u001b[0m \u001b[32m━━━━━━━━━━━━━━━━━━━━\u001b[0m\u001b[37m\u001b[0m \u001b[1m189s\u001b[0m 1s/step - accuracy: 0.7616 - loss: 0.5049 - val_accuracy: 0.7424 - val_loss: 0.5163\n",
      "Epoch 111/200\n",
      "\u001b[1m181/181\u001b[0m \u001b[32m━━━━━━━━━━━━━━━━━━━━\u001b[0m\u001b[37m\u001b[0m \u001b[1m0s\u001b[0m 927ms/step - accuracy: 0.7701 - loss: 0.4959\n",
      "Epoch 111: saving model to model_checkpoint.keras\n",
      "\u001b[1m181/181\u001b[0m \u001b[32m━━━━━━━━━━━━━━━━━━━━\u001b[0m\u001b[37m\u001b[0m \u001b[1m191s\u001b[0m 1s/step - accuracy: 0.7701 - loss: 0.4959 - val_accuracy: 0.7382 - val_loss: 0.5198\n",
      "Epoch 112/200\n",
      "\u001b[1m181/181\u001b[0m \u001b[32m━━━━━━━━━━━━━━━━━━━━\u001b[0m\u001b[37m\u001b[0m \u001b[1m0s\u001b[0m 928ms/step - accuracy: 0.7583 - loss: 0.5037\n",
      "Epoch 112: saving model to model_checkpoint.keras\n",
      "\u001b[1m181/181\u001b[0m \u001b[32m━━━━━━━━━━━━━━━━━━━━\u001b[0m\u001b[37m\u001b[0m \u001b[1m188s\u001b[0m 1s/step - accuracy: 0.7584 - loss: 0.5037 - val_accuracy: 0.7396 - val_loss: 0.5122\n",
      "Epoch 113/200\n",
      "\u001b[1m181/181\u001b[0m \u001b[32m━━━━━━━━━━━━━━━━━━━━\u001b[0m\u001b[37m\u001b[0m \u001b[1m0s\u001b[0m 928ms/step - accuracy: 0.7601 - loss: 0.5007\n",
      "Epoch 113: saving model to model_checkpoint.keras\n",
      "\u001b[1m181/181\u001b[0m \u001b[32m━━━━━━━━━━━━━━━━━━━━\u001b[0m\u001b[37m\u001b[0m \u001b[1m189s\u001b[0m 1s/step - accuracy: 0.7601 - loss: 0.5007 - val_accuracy: 0.7424 - val_loss: 0.5137\n",
      "Epoch 114/200\n",
      "\u001b[1m181/181\u001b[0m \u001b[32m━━━━━━━━━━━━━━━━━━━━\u001b[0m\u001b[37m\u001b[0m \u001b[1m0s\u001b[0m 928ms/step - accuracy: 0.7567 - loss: 0.5005\n",
      "Epoch 114: saving model to model_checkpoint.keras\n",
      "\u001b[1m181/181\u001b[0m \u001b[32m━━━━━━━━━━━━━━━━━━━━\u001b[0m\u001b[37m\u001b[0m \u001b[1m189s\u001b[0m 1s/step - accuracy: 0.7567 - loss: 0.5005 - val_accuracy: 0.7535 - val_loss: 0.5100\n",
      "Epoch 115/200\n",
      "\u001b[1m181/181\u001b[0m \u001b[32m━━━━━━━━━━━━━━━━━━━━\u001b[0m\u001b[37m\u001b[0m \u001b[1m0s\u001b[0m 928ms/step - accuracy: 0.7727 - loss: 0.4918\n",
      "Epoch 115: saving model to model_checkpoint.keras\n",
      "\u001b[1m181/181\u001b[0m \u001b[32m━━━━━━━━━━━━━━━━━━━━\u001b[0m\u001b[37m\u001b[0m \u001b[1m190s\u001b[0m 1s/step - accuracy: 0.7727 - loss: 0.4918 - val_accuracy: 0.7341 - val_loss: 0.5080\n",
      "Epoch 116/200\n",
      "\u001b[1m181/181\u001b[0m \u001b[32m━━━━━━━━━━━━━━━━━━━━\u001b[0m\u001b[37m\u001b[0m \u001b[1m0s\u001b[0m 928ms/step - accuracy: 0.7758 - loss: 0.4835\n",
      "Epoch 116: saving model to model_checkpoint.keras\n",
      "\u001b[1m181/181\u001b[0m \u001b[32m━━━━━━━━━━━━━━━━━━━━\u001b[0m\u001b[37m\u001b[0m \u001b[1m191s\u001b[0m 1s/step - accuracy: 0.7758 - loss: 0.4835 - val_accuracy: 0.7410 - val_loss: 0.5117\n",
      "Epoch 117/200\n",
      "\u001b[1m181/181\u001b[0m \u001b[32m━━━━━━━━━━━━━━━━━━━━\u001b[0m\u001b[37m\u001b[0m \u001b[1m0s\u001b[0m 928ms/step - accuracy: 0.7653 - loss: 0.4936\n",
      "Epoch 117: saving model to model_checkpoint.keras\n",
      "\u001b[1m181/181\u001b[0m \u001b[32m━━━━━━━━━━━━━━━━━━━━\u001b[0m\u001b[37m\u001b[0m \u001b[1m189s\u001b[0m 1s/step - accuracy: 0.7653 - loss: 0.4937 - val_accuracy: 0.7521 - val_loss: 0.5093\n",
      "Epoch 118/200\n",
      "\u001b[1m181/181\u001b[0m \u001b[32m━━━━━━━━━━━━━━━━━━━━\u001b[0m\u001b[37m\u001b[0m \u001b[1m0s\u001b[0m 926ms/step - accuracy: 0.7755 - loss: 0.4906\n",
      "Epoch 118: saving model to model_checkpoint.keras\n",
      "\u001b[1m181/181\u001b[0m \u001b[32m━━━━━━━━━━━━━━━━━━━━\u001b[0m\u001b[37m\u001b[0m \u001b[1m188s\u001b[0m 1s/step - accuracy: 0.7754 - loss: 0.4906 - val_accuracy: 0.7438 - val_loss: 0.5047\n",
      "Epoch 119/200\n",
      "\u001b[1m181/181\u001b[0m \u001b[32m━━━━━━━━━━━━━━━━━━━━\u001b[0m\u001b[37m\u001b[0m \u001b[1m0s\u001b[0m 926ms/step - accuracy: 0.7514 - loss: 0.5012\n",
      "Epoch 119: saving model to model_checkpoint.keras\n",
      "\u001b[1m181/181\u001b[0m \u001b[32m━━━━━━━━━━━━━━━━━━━━\u001b[0m\u001b[37m\u001b[0m \u001b[1m189s\u001b[0m 1s/step - accuracy: 0.7515 - loss: 0.5011 - val_accuracy: 0.7424 - val_loss: 0.5075\n",
      "Epoch 120/200\n",
      "\u001b[1m181/181\u001b[0m \u001b[32m━━━━━━━━━━━━━━━━━━━━\u001b[0m\u001b[37m\u001b[0m \u001b[1m0s\u001b[0m 928ms/step - accuracy: 0.7667 - loss: 0.4946\n",
      "Epoch 120: saving model to model_checkpoint.keras\n",
      "\u001b[1m181/181\u001b[0m \u001b[32m━━━━━━━━━━━━━━━━━━━━\u001b[0m\u001b[37m\u001b[0m \u001b[1m189s\u001b[0m 1s/step - accuracy: 0.7667 - loss: 0.4946 - val_accuracy: 0.7313 - val_loss: 0.5044\n",
      "Epoch 121/200\n",
      "\u001b[1m181/181\u001b[0m \u001b[32m━━━━━━━━━━━━━━━━━━━━\u001b[0m\u001b[37m\u001b[0m \u001b[1m0s\u001b[0m 927ms/step - accuracy: 0.7727 - loss: 0.4789\n",
      "Epoch 121: saving model to model_checkpoint.keras\n",
      "\u001b[1m181/181\u001b[0m \u001b[32m━━━━━━━━━━━━━━━━━━━━\u001b[0m\u001b[37m\u001b[0m \u001b[1m189s\u001b[0m 1s/step - accuracy: 0.7727 - loss: 0.4789 - val_accuracy: 0.7479 - val_loss: 0.5037\n",
      "Epoch 122/200\n",
      "\u001b[1m181/181\u001b[0m \u001b[32m━━━━━━━━━━━━━━━━━━━━\u001b[0m\u001b[37m\u001b[0m \u001b[1m0s\u001b[0m 928ms/step - accuracy: 0.7794 - loss: 0.4844\n",
      "Epoch 122: saving model to model_checkpoint.keras\n",
      "\u001b[1m181/181\u001b[0m \u001b[32m━━━━━━━━━━━━━━━━━━━━\u001b[0m\u001b[37m\u001b[0m \u001b[1m188s\u001b[0m 1s/step - accuracy: 0.7793 - loss: 0.4844 - val_accuracy: 0.7452 - val_loss: 0.5073\n",
      "Epoch 123/200\n",
      "\u001b[1m181/181\u001b[0m \u001b[32m━━━━━━━━━━━━━━━━━━━━\u001b[0m\u001b[37m\u001b[0m \u001b[1m0s\u001b[0m 928ms/step - accuracy: 0.7823 - loss: 0.4785\n",
      "Epoch 123: saving model to model_checkpoint.keras\n",
      "\u001b[1m181/181\u001b[0m \u001b[32m━━━━━━━━━━━━━━━━━━━━\u001b[0m\u001b[37m\u001b[0m \u001b[1m188s\u001b[0m 1s/step - accuracy: 0.7823 - loss: 0.4785 - val_accuracy: 0.7465 - val_loss: 0.5047\n",
      "Epoch 124/200\n",
      "\u001b[1m181/181\u001b[0m \u001b[32m━━━━━━━━━━━━━━━━━━━━\u001b[0m\u001b[37m\u001b[0m \u001b[1m0s\u001b[0m 927ms/step - accuracy: 0.7856 - loss: 0.4758\n",
      "Epoch 124: saving model to model_checkpoint.keras\n",
      "\u001b[1m181/181\u001b[0m \u001b[32m━━━━━━━━━━━━━━━━━━━━\u001b[0m\u001b[37m\u001b[0m \u001b[1m189s\u001b[0m 1s/step - accuracy: 0.7857 - loss: 0.4758 - val_accuracy: 0.7410 - val_loss: 0.5030\n",
      "Epoch 125/200\n",
      "\u001b[1m181/181\u001b[0m \u001b[32m━━━━━━━━━━━━━━━━━━━━\u001b[0m\u001b[37m\u001b[0m \u001b[1m0s\u001b[0m 928ms/step - accuracy: 0.7676 - loss: 0.4895\n",
      "Epoch 125: saving model to model_checkpoint.keras\n",
      "\u001b[1m181/181\u001b[0m \u001b[32m━━━━━━━━━━━━━━━━━━━━\u001b[0m\u001b[37m\u001b[0m \u001b[1m191s\u001b[0m 1s/step - accuracy: 0.7676 - loss: 0.4895 - val_accuracy: 0.7396 - val_loss: 0.5026\n",
      "Epoch 126/200\n",
      "\u001b[1m181/181\u001b[0m \u001b[32m━━━━━━━━━━━━━━━━━━━━\u001b[0m\u001b[37m\u001b[0m \u001b[1m0s\u001b[0m 925ms/step - accuracy: 0.7748 - loss: 0.4797\n",
      "Epoch 126: saving model to model_checkpoint.keras\n",
      "\u001b[1m181/181\u001b[0m \u001b[32m━━━━━━━━━━━━━━━━━━━━\u001b[0m\u001b[37m\u001b[0m \u001b[1m189s\u001b[0m 1s/step - accuracy: 0.7748 - loss: 0.4797 - val_accuracy: 0.7382 - val_loss: 0.5005\n",
      "Epoch 127/200\n",
      "\u001b[1m181/181\u001b[0m \u001b[32m━━━━━━━━━━━━━━━━━━━━\u001b[0m\u001b[37m\u001b[0m \u001b[1m0s\u001b[0m 926ms/step - accuracy: 0.7764 - loss: 0.4791\n",
      "Epoch 127: saving model to model_checkpoint.keras\n",
      "\u001b[1m181/181\u001b[0m \u001b[32m━━━━━━━━━━━━━━━━━━━━\u001b[0m\u001b[37m\u001b[0m \u001b[1m189s\u001b[0m 1s/step - accuracy: 0.7764 - loss: 0.4791 - val_accuracy: 0.7548 - val_loss: 0.5003\n",
      "Epoch 128/200\n",
      "\u001b[1m181/181\u001b[0m \u001b[32m━━━━━━━━━━━━━━━━━━━━\u001b[0m\u001b[37m\u001b[0m \u001b[1m0s\u001b[0m 925ms/step - accuracy: 0.7735 - loss: 0.4759\n",
      "Epoch 128: saving model to model_checkpoint.keras\n",
      "\u001b[1m181/181\u001b[0m \u001b[32m━━━━━━━━━━━━━━━━━━━━\u001b[0m\u001b[37m\u001b[0m \u001b[1m189s\u001b[0m 1s/step - accuracy: 0.7735 - loss: 0.4759 - val_accuracy: 0.7438 - val_loss: 0.4950\n",
      "Epoch 129/200\n",
      "\u001b[1m181/181\u001b[0m \u001b[32m━━━━━━━━━━━━━━━━━━━━\u001b[0m\u001b[37m\u001b[0m \u001b[1m0s\u001b[0m 928ms/step - accuracy: 0.7681 - loss: 0.4794\n",
      "Epoch 129: saving model to model_checkpoint.keras\n",
      "\u001b[1m181/181\u001b[0m \u001b[32m━━━━━━━━━━━━━━━━━━━━\u001b[0m\u001b[37m\u001b[0m \u001b[1m190s\u001b[0m 1s/step - accuracy: 0.7682 - loss: 0.4794 - val_accuracy: 0.7438 - val_loss: 0.5004\n",
      "Epoch 130/200\n",
      "\u001b[1m181/181\u001b[0m \u001b[32m━━━━━━━━━━━━━━━━━━━━\u001b[0m\u001b[37m\u001b[0m \u001b[1m0s\u001b[0m 930ms/step - accuracy: 0.7789 - loss: 0.4687\n",
      "Epoch 130: saving model to model_checkpoint.keras\n",
      "\u001b[1m181/181\u001b[0m \u001b[32m━━━━━━━━━━━━━━━━━━━━\u001b[0m\u001b[37m\u001b[0m \u001b[1m190s\u001b[0m 1s/step - accuracy: 0.7788 - loss: 0.4687 - val_accuracy: 0.7285 - val_loss: 0.5085\n",
      "Epoch 131/200\n",
      "\u001b[1m181/181\u001b[0m \u001b[32m━━━━━━━━━━━━━━━━━━━━\u001b[0m\u001b[37m\u001b[0m \u001b[1m0s\u001b[0m 928ms/step - accuracy: 0.7757 - loss: 0.4784\n",
      "Epoch 131: saving model to model_checkpoint.keras\n",
      "\u001b[1m181/181\u001b[0m \u001b[32m━━━━━━━━━━━━━━━━━━━━\u001b[0m\u001b[37m\u001b[0m \u001b[1m190s\u001b[0m 1s/step - accuracy: 0.7757 - loss: 0.4784 - val_accuracy: 0.7493 - val_loss: 0.4961\n",
      "Epoch 132/200\n",
      "\u001b[1m181/181\u001b[0m \u001b[32m━━━━━━━━━━━━━━━━━━━━\u001b[0m\u001b[37m\u001b[0m \u001b[1m0s\u001b[0m 929ms/step - accuracy: 0.7744 - loss: 0.4795\n",
      "Epoch 132: saving model to model_checkpoint.keras\n",
      "\u001b[1m181/181\u001b[0m \u001b[32m━━━━━━━━━━━━━━━━━━━━\u001b[0m\u001b[37m\u001b[0m \u001b[1m189s\u001b[0m 1s/step - accuracy: 0.7745 - loss: 0.4795 - val_accuracy: 0.7507 - val_loss: 0.4976\n",
      "Epoch 133/200\n",
      "\u001b[1m181/181\u001b[0m \u001b[32m━━━━━━━━━━━━━━━━━━━━\u001b[0m\u001b[37m\u001b[0m \u001b[1m0s\u001b[0m 928ms/step - accuracy: 0.7686 - loss: 0.4760\n",
      "Epoch 133: saving model to model_checkpoint.keras\n",
      "\u001b[1m181/181\u001b[0m \u001b[32m━━━━━━━━━━━━━━━━━━━━\u001b[0m\u001b[37m\u001b[0m \u001b[1m190s\u001b[0m 1s/step - accuracy: 0.7686 - loss: 0.4759 - val_accuracy: 0.7521 - val_loss: 0.4932\n",
      "Epoch 134/200\n",
      "\u001b[1m181/181\u001b[0m \u001b[32m━━━━━━━━━━━━━━━━━━━━\u001b[0m\u001b[37m\u001b[0m \u001b[1m0s\u001b[0m 928ms/step - accuracy: 0.7729 - loss: 0.4732\n",
      "Epoch 134: saving model to model_checkpoint.keras\n",
      "\u001b[1m181/181\u001b[0m \u001b[32m━━━━━━━━━━━━━━━━━━━━\u001b[0m\u001b[37m\u001b[0m \u001b[1m191s\u001b[0m 1s/step - accuracy: 0.7730 - loss: 0.4732 - val_accuracy: 0.7493 - val_loss: 0.4962\n",
      "Epoch 135/200\n",
      "\u001b[1m181/181\u001b[0m \u001b[32m━━━━━━━━━━━━━━━━━━━━\u001b[0m\u001b[37m\u001b[0m \u001b[1m0s\u001b[0m 929ms/step - accuracy: 0.7894 - loss: 0.4694\n",
      "Epoch 135: saving model to model_checkpoint.keras\n",
      "\u001b[1m181/181\u001b[0m \u001b[32m━━━━━━━━━━━━━━━━━━━━\u001b[0m\u001b[37m\u001b[0m \u001b[1m188s\u001b[0m 1s/step - accuracy: 0.7893 - loss: 0.4694 - val_accuracy: 0.7590 - val_loss: 0.4872\n",
      "Epoch 136/200\n",
      "\u001b[1m181/181\u001b[0m \u001b[32m━━━━━━━━━━━━━━━━━━━━\u001b[0m\u001b[37m\u001b[0m \u001b[1m0s\u001b[0m 929ms/step - accuracy: 0.7890 - loss: 0.4619\n",
      "Epoch 136: saving model to model_checkpoint.keras\n",
      "\u001b[1m181/181\u001b[0m \u001b[32m━━━━━━━━━━━━━━━━━━━━\u001b[0m\u001b[37m\u001b[0m \u001b[1m190s\u001b[0m 1s/step - accuracy: 0.7889 - loss: 0.4619 - val_accuracy: 0.7535 - val_loss: 0.4894\n",
      "Epoch 137/200\n",
      "\u001b[1m181/181\u001b[0m \u001b[32m━━━━━━━━━━━━━━━━━━━━\u001b[0m\u001b[37m\u001b[0m \u001b[1m0s\u001b[0m 927ms/step - accuracy: 0.7730 - loss: 0.4751\n",
      "Epoch 137: saving model to model_checkpoint.keras\n",
      "\u001b[1m181/181\u001b[0m \u001b[32m━━━━━━━━━━━━━━━━━━━━\u001b[0m\u001b[37m\u001b[0m \u001b[1m189s\u001b[0m 1s/step - accuracy: 0.7730 - loss: 0.4751 - val_accuracy: 0.7645 - val_loss: 0.4904\n",
      "Epoch 138/200\n",
      "\u001b[1m181/181\u001b[0m \u001b[32m━━━━━━━━━━━━━━━━━━━━\u001b[0m\u001b[37m\u001b[0m \u001b[1m0s\u001b[0m 929ms/step - accuracy: 0.7772 - loss: 0.4745\n",
      "Epoch 138: saving model to model_checkpoint.keras\n",
      "\u001b[1m181/181\u001b[0m \u001b[32m━━━━━━━━━━━━━━━━━━━━\u001b[0m\u001b[37m\u001b[0m \u001b[1m188s\u001b[0m 1s/step - accuracy: 0.7772 - loss: 0.4745 - val_accuracy: 0.7742 - val_loss: 0.4884\n",
      "Epoch 139/200\n",
      "\u001b[1m181/181\u001b[0m \u001b[32m━━━━━━━━━━━━━━━━━━━━\u001b[0m\u001b[37m\u001b[0m \u001b[1m0s\u001b[0m 928ms/step - accuracy: 0.7834 - loss: 0.4613\n",
      "Epoch 139: saving model to model_checkpoint.keras\n",
      "\u001b[1m181/181\u001b[0m \u001b[32m━━━━━━━━━━━━━━━━━━━━\u001b[0m\u001b[37m\u001b[0m \u001b[1m189s\u001b[0m 1s/step - accuracy: 0.7834 - loss: 0.4613 - val_accuracy: 0.7590 - val_loss: 0.4846\n",
      "Epoch 140/200\n",
      "\u001b[1m181/181\u001b[0m \u001b[32m━━━━━━━━━━━━━━━━━━━━\u001b[0m\u001b[37m\u001b[0m \u001b[1m0s\u001b[0m 936ms/step - accuracy: 0.7811 - loss: 0.4640\n",
      "Epoch 140: saving model to model_checkpoint.keras\n",
      "\u001b[1m181/181\u001b[0m \u001b[32m━━━━━━━━━━━━━━━━━━━━\u001b[0m\u001b[37m\u001b[0m \u001b[1m204s\u001b[0m 1s/step - accuracy: 0.7811 - loss: 0.4640 - val_accuracy: 0.7576 - val_loss: 0.4862\n",
      "Epoch 141/200\n",
      "\u001b[1m181/181\u001b[0m \u001b[32m━━━━━━━━━━━━━━━━━━━━\u001b[0m\u001b[37m\u001b[0m \u001b[1m0s\u001b[0m 930ms/step - accuracy: 0.7800 - loss: 0.4659\n",
      "Epoch 141: saving model to model_checkpoint.keras\n",
      "\u001b[1m181/181\u001b[0m \u001b[32m━━━━━━━━━━━━━━━━━━━━\u001b[0m\u001b[37m\u001b[0m \u001b[1m191s\u001b[0m 1s/step - accuracy: 0.7801 - loss: 0.4658 - val_accuracy: 0.7590 - val_loss: 0.4905\n",
      "Epoch 142/200\n",
      "\u001b[1m181/181\u001b[0m \u001b[32m━━━━━━━━━━━━━━━━━━━━\u001b[0m\u001b[37m\u001b[0m \u001b[1m0s\u001b[0m 929ms/step - accuracy: 0.7892 - loss: 0.4575\n",
      "Epoch 142: saving model to model_checkpoint.keras\n",
      "\u001b[1m181/181\u001b[0m \u001b[32m━━━━━━━━━━━━━━━━━━━━\u001b[0m\u001b[37m\u001b[0m \u001b[1m189s\u001b[0m 1s/step - accuracy: 0.7892 - loss: 0.4576 - val_accuracy: 0.7576 - val_loss: 0.4843\n",
      "Epoch 143/200\n",
      "\u001b[1m181/181\u001b[0m \u001b[32m━━━━━━━━━━━━━━━━━━━━\u001b[0m\u001b[37m\u001b[0m \u001b[1m0s\u001b[0m 928ms/step - accuracy: 0.7873 - loss: 0.4551\n",
      "Epoch 143: saving model to model_checkpoint.keras\n",
      "\u001b[1m181/181\u001b[0m \u001b[32m━━━━━━━━━━━━━━━━━━━━\u001b[0m\u001b[37m\u001b[0m \u001b[1m189s\u001b[0m 1s/step - accuracy: 0.7874 - loss: 0.4551 - val_accuracy: 0.7576 - val_loss: 0.4831\n",
      "Epoch 144/200\n",
      "\u001b[1m181/181\u001b[0m \u001b[32m━━━━━━━━━━━━━━━━━━━━\u001b[0m\u001b[37m\u001b[0m \u001b[1m0s\u001b[0m 926ms/step - accuracy: 0.7830 - loss: 0.4689\n",
      "Epoch 144: saving model to model_checkpoint.keras\n",
      "\u001b[1m181/181\u001b[0m \u001b[32m━━━━━━━━━━━━━━━━━━━━\u001b[0m\u001b[37m\u001b[0m \u001b[1m189s\u001b[0m 1s/step - accuracy: 0.7830 - loss: 0.4688 - val_accuracy: 0.7645 - val_loss: 0.4862\n",
      "Epoch 145/200\n",
      "\u001b[1m181/181\u001b[0m \u001b[32m━━━━━━━━━━━━━━━━━━━━\u001b[0m\u001b[37m\u001b[0m \u001b[1m0s\u001b[0m 938ms/step - accuracy: 0.7706 - loss: 0.4662\n",
      "Epoch 145: saving model to model_checkpoint.keras\n",
      "\u001b[1m181/181\u001b[0m \u001b[32m━━━━━━━━━━━━━━━━━━━━\u001b[0m\u001b[37m\u001b[0m \u001b[1m205s\u001b[0m 1s/step - accuracy: 0.7706 - loss: 0.4662 - val_accuracy: 0.7687 - val_loss: 0.4745\n",
      "Epoch 146/200\n",
      "\u001b[1m181/181\u001b[0m \u001b[32m━━━━━━━━━━━━━━━━━━━━\u001b[0m\u001b[37m\u001b[0m \u001b[1m0s\u001b[0m 942ms/step - accuracy: 0.7802 - loss: 0.4653\n",
      "Epoch 146: saving model to model_checkpoint.keras\n",
      "\u001b[1m181/181\u001b[0m \u001b[32m━━━━━━━━━━━━━━━━━━━━\u001b[0m\u001b[37m\u001b[0m \u001b[1m192s\u001b[0m 1s/step - accuracy: 0.7802 - loss: 0.4653 - val_accuracy: 0.7604 - val_loss: 0.4789\n",
      "Epoch 147/200\n",
      "\u001b[1m181/181\u001b[0m \u001b[32m━━━━━━━━━━━━━━━━━━━━\u001b[0m\u001b[37m\u001b[0m \u001b[1m0s\u001b[0m 939ms/step - accuracy: 0.7753 - loss: 0.4687\n",
      "Epoch 147: saving model to model_checkpoint.keras\n",
      "\u001b[1m181/181\u001b[0m \u001b[32m━━━━━━━━━━━━━━━━━━━━\u001b[0m\u001b[37m\u001b[0m \u001b[1m190s\u001b[0m 1s/step - accuracy: 0.7754 - loss: 0.4686 - val_accuracy: 0.7576 - val_loss: 0.4758\n",
      "Epoch 148/200\n",
      "\u001b[1m181/181\u001b[0m \u001b[32m━━━━━━━━━━━━━━━━━━━━\u001b[0m\u001b[37m\u001b[0m \u001b[1m0s\u001b[0m 940ms/step - accuracy: 0.7954 - loss: 0.4573\n",
      "Epoch 148: saving model to model_checkpoint.keras\n",
      "\u001b[1m181/181\u001b[0m \u001b[32m━━━━━━━━━━━━━━━━━━━━\u001b[0m\u001b[37m\u001b[0m \u001b[1m191s\u001b[0m 1s/step - accuracy: 0.7954 - loss: 0.4573 - val_accuracy: 0.7756 - val_loss: 0.4781\n",
      "Epoch 149/200\n",
      "\u001b[1m181/181\u001b[0m \u001b[32m━━━━━━━━━━━━━━━━━━━━\u001b[0m\u001b[37m\u001b[0m \u001b[1m0s\u001b[0m 939ms/step - accuracy: 0.7849 - loss: 0.4597\n",
      "Epoch 149: saving model to model_checkpoint.keras\n",
      "\u001b[1m181/181\u001b[0m \u001b[32m━━━━━━━━━━━━━━━━━━━━\u001b[0m\u001b[37m\u001b[0m \u001b[1m190s\u001b[0m 1s/step - accuracy: 0.7850 - loss: 0.4596 - val_accuracy: 0.7604 - val_loss: 0.4797\n",
      "Epoch 150/200\n",
      "\u001b[1m181/181\u001b[0m \u001b[32m━━━━━━━━━━━━━━━━━━━━\u001b[0m\u001b[37m\u001b[0m \u001b[1m0s\u001b[0m 940ms/step - accuracy: 0.7882 - loss: 0.4480\n",
      "Epoch 150: saving model to model_checkpoint.keras\n",
      "\u001b[1m181/181\u001b[0m \u001b[32m━━━━━━━━━━━━━━━━━━━━\u001b[0m\u001b[37m\u001b[0m \u001b[1m189s\u001b[0m 1s/step - accuracy: 0.7883 - loss: 0.4480 - val_accuracy: 0.7604 - val_loss: 0.4692\n",
      "Epoch 151/200\n",
      "\u001b[1m181/181\u001b[0m \u001b[32m━━━━━━━━━━━━━━━━━━━━\u001b[0m\u001b[37m\u001b[0m \u001b[1m0s\u001b[0m 940ms/step - accuracy: 0.7976 - loss: 0.4416\n",
      "Epoch 151: saving model to model_checkpoint.keras\n",
      "\u001b[1m181/181\u001b[0m \u001b[32m━━━━━━━━━━━━━━━━━━━━\u001b[0m\u001b[37m\u001b[0m \u001b[1m191s\u001b[0m 1s/step - accuracy: 0.7976 - loss: 0.4417 - val_accuracy: 0.7604 - val_loss: 0.4741\n",
      "Epoch 152/200\n",
      "\u001b[1m181/181\u001b[0m \u001b[32m━━━━━━━━━━━━━━━━━━━━\u001b[0m\u001b[37m\u001b[0m \u001b[1m0s\u001b[0m 941ms/step - accuracy: 0.7886 - loss: 0.4524\n",
      "Epoch 152: saving model to model_checkpoint.keras\n",
      "\u001b[1m181/181\u001b[0m \u001b[32m━━━━━━━━━━━━━━━━━━━━\u001b[0m\u001b[37m\u001b[0m \u001b[1m192s\u001b[0m 1s/step - accuracy: 0.7886 - loss: 0.4524 - val_accuracy: 0.7521 - val_loss: 0.4704\n",
      "Epoch 153/200\n",
      "\u001b[1m181/181\u001b[0m \u001b[32m━━━━━━━━━━━━━━━━━━━━\u001b[0m\u001b[37m\u001b[0m \u001b[1m0s\u001b[0m 940ms/step - accuracy: 0.8022 - loss: 0.4448\n",
      "Epoch 153: saving model to model_checkpoint.keras\n",
      "\u001b[1m181/181\u001b[0m \u001b[32m━━━━━━━━━━━━━━━━━━━━\u001b[0m\u001b[37m\u001b[0m \u001b[1m190s\u001b[0m 1s/step - accuracy: 0.8022 - loss: 0.4448 - val_accuracy: 0.7756 - val_loss: 0.4703\n",
      "Epoch 154/200\n",
      "\u001b[1m181/181\u001b[0m \u001b[32m━━━━━━━━━━━━━━━━━━━━\u001b[0m\u001b[37m\u001b[0m \u001b[1m0s\u001b[0m 941ms/step - accuracy: 0.7879 - loss: 0.4557\n",
      "Epoch 154: saving model to model_checkpoint.keras\n",
      "\u001b[1m181/181\u001b[0m \u001b[32m━━━━━━━━━━━━━━━━━━━━\u001b[0m\u001b[37m\u001b[0m \u001b[1m190s\u001b[0m 1s/step - accuracy: 0.7879 - loss: 0.4557 - val_accuracy: 0.7507 - val_loss: 0.4683\n",
      "Epoch 155/200\n",
      "\u001b[1m181/181\u001b[0m \u001b[32m━━━━━━━━━━━━━━━━━━━━\u001b[0m\u001b[37m\u001b[0m \u001b[1m0s\u001b[0m 941ms/step - accuracy: 0.8026 - loss: 0.4410\n",
      "Epoch 155: saving model to model_checkpoint.keras\n",
      "\u001b[1m181/181\u001b[0m \u001b[32m━━━━━━━━━━━━━━━━━━━━\u001b[0m\u001b[37m\u001b[0m \u001b[1m191s\u001b[0m 1s/step - accuracy: 0.8026 - loss: 0.4410 - val_accuracy: 0.7798 - val_loss: 0.4728\n",
      "Epoch 156/200\n",
      "\u001b[1m181/181\u001b[0m \u001b[32m━━━━━━━━━━━━━━━━━━━━\u001b[0m\u001b[37m\u001b[0m \u001b[1m0s\u001b[0m 942ms/step - accuracy: 0.7987 - loss: 0.4512\n",
      "Epoch 156: saving model to model_checkpoint.keras\n",
      "\u001b[1m181/181\u001b[0m \u001b[32m━━━━━━━━━━━━━━━━━━━━\u001b[0m\u001b[37m\u001b[0m \u001b[1m191s\u001b[0m 1s/step - accuracy: 0.7987 - loss: 0.4511 - val_accuracy: 0.7812 - val_loss: 0.4719\n",
      "Epoch 157/200\n",
      "\u001b[1m181/181\u001b[0m \u001b[32m━━━━━━━━━━━━━━━━━━━━\u001b[0m\u001b[37m\u001b[0m \u001b[1m0s\u001b[0m 941ms/step - accuracy: 0.7973 - loss: 0.4491\n",
      "Epoch 157: saving model to model_checkpoint.keras\n",
      "\u001b[1m181/181\u001b[0m \u001b[32m━━━━━━━━━━━━━━━━━━━━\u001b[0m\u001b[37m\u001b[0m \u001b[1m190s\u001b[0m 1s/step - accuracy: 0.7973 - loss: 0.4491 - val_accuracy: 0.7756 - val_loss: 0.4671\n",
      "Epoch 158/200\n",
      "\u001b[1m181/181\u001b[0m \u001b[32m━━━━━━━━━━━━━━━━━━━━\u001b[0m\u001b[37m\u001b[0m \u001b[1m0s\u001b[0m 941ms/step - accuracy: 0.8051 - loss: 0.4438\n",
      "Epoch 158: saving model to model_checkpoint.keras\n",
      "\u001b[1m181/181\u001b[0m \u001b[32m━━━━━━━━━━━━━━━━━━━━\u001b[0m\u001b[37m\u001b[0m \u001b[1m190s\u001b[0m 1s/step - accuracy: 0.8050 - loss: 0.4439 - val_accuracy: 0.7645 - val_loss: 0.4647\n",
      "Epoch 159/200\n",
      "\u001b[1m181/181\u001b[0m \u001b[32m━━━━━━━━━━━━━━━━━━━━\u001b[0m\u001b[37m\u001b[0m \u001b[1m0s\u001b[0m 940ms/step - accuracy: 0.7976 - loss: 0.4385\n",
      "Epoch 159: saving model to model_checkpoint.keras\n",
      "\u001b[1m181/181\u001b[0m \u001b[32m━━━━━━━━━━━━━━━━━━━━\u001b[0m\u001b[37m\u001b[0m \u001b[1m190s\u001b[0m 1s/step - accuracy: 0.7975 - loss: 0.4385 - val_accuracy: 0.7576 - val_loss: 0.4692\n",
      "Epoch 160/200\n",
      "\u001b[1m181/181\u001b[0m \u001b[32m━━━━━━━━━━━━━━━━━━━━\u001b[0m\u001b[37m\u001b[0m \u001b[1m0s\u001b[0m 939ms/step - accuracy: 0.7915 - loss: 0.4490\n",
      "Epoch 160: saving model to model_checkpoint.keras\n",
      "\u001b[1m181/181\u001b[0m \u001b[32m━━━━━━━━━━━━━━━━━━━━\u001b[0m\u001b[37m\u001b[0m \u001b[1m191s\u001b[0m 1s/step - accuracy: 0.7915 - loss: 0.4490 - val_accuracy: 0.7673 - val_loss: 0.4681\n",
      "Epoch 161/200\n",
      "\u001b[1m181/181\u001b[0m \u001b[32m━━━━━━━━━━━━━━━━━━━━\u001b[0m\u001b[37m\u001b[0m \u001b[1m0s\u001b[0m 932ms/step - accuracy: 0.7985 - loss: 0.4424\n",
      "Epoch 161: saving model to model_checkpoint.keras\n",
      "\u001b[1m181/181\u001b[0m \u001b[32m━━━━━━━━━━━━━━━━━━━━\u001b[0m\u001b[37m\u001b[0m \u001b[1m190s\u001b[0m 1s/step - accuracy: 0.7985 - loss: 0.4423 - val_accuracy: 0.7825 - val_loss: 0.4641\n",
      "Epoch 162/200\n",
      "\u001b[1m181/181\u001b[0m \u001b[32m━━━━━━━━━━━━━━━━━━━━\u001b[0m\u001b[37m\u001b[0m \u001b[1m0s\u001b[0m 928ms/step - accuracy: 0.7959 - loss: 0.4422\n",
      "Epoch 162: saving model to model_checkpoint.keras\n",
      "\u001b[1m181/181\u001b[0m \u001b[32m━━━━━━━━━━━━━━━━━━━━\u001b[0m\u001b[37m\u001b[0m \u001b[1m188s\u001b[0m 1s/step - accuracy: 0.7959 - loss: 0.4421 - val_accuracy: 0.7770 - val_loss: 0.4723\n",
      "Epoch 163/200\n",
      "\u001b[1m181/181\u001b[0m \u001b[32m━━━━━━━━━━━━━━━━━━━━\u001b[0m\u001b[37m\u001b[0m \u001b[1m0s\u001b[0m 928ms/step - accuracy: 0.7874 - loss: 0.4522\n",
      "Epoch 163: saving model to model_checkpoint.keras\n",
      "\u001b[1m181/181\u001b[0m \u001b[32m━━━━━━━━━━━━━━━━━━━━\u001b[0m\u001b[37m\u001b[0m \u001b[1m189s\u001b[0m 1s/step - accuracy: 0.7874 - loss: 0.4522 - val_accuracy: 0.7729 - val_loss: 0.4652\n",
      "Epoch 164/200\n",
      "\u001b[1m181/181\u001b[0m \u001b[32m━━━━━━━━━━━━━━━━━━━━\u001b[0m\u001b[37m\u001b[0m \u001b[1m0s\u001b[0m 929ms/step - accuracy: 0.7965 - loss: 0.4423\n",
      "Epoch 164: saving model to model_checkpoint.keras\n",
      "\u001b[1m181/181\u001b[0m \u001b[32m━━━━━━━━━━━━━━━━━━━━\u001b[0m\u001b[37m\u001b[0m \u001b[1m188s\u001b[0m 1s/step - accuracy: 0.7966 - loss: 0.4423 - val_accuracy: 0.7839 - val_loss: 0.4654\n",
      "Epoch 165/200\n",
      "\u001b[1m181/181\u001b[0m \u001b[32m━━━━━━━━━━━━━━━━━━━━\u001b[0m\u001b[37m\u001b[0m \u001b[1m0s\u001b[0m 928ms/step - accuracy: 0.7937 - loss: 0.4447\n",
      "Epoch 165: saving model to model_checkpoint.keras\n",
      "\u001b[1m181/181\u001b[0m \u001b[32m━━━━━━━━━━━━━━━━━━━━\u001b[0m\u001b[37m\u001b[0m \u001b[1m188s\u001b[0m 1s/step - accuracy: 0.7937 - loss: 0.4447 - val_accuracy: 0.7784 - val_loss: 0.4592\n",
      "Epoch 166/200\n",
      "\u001b[1m181/181\u001b[0m \u001b[32m━━━━━━━━━━━━━━━━━━━━\u001b[0m\u001b[37m\u001b[0m \u001b[1m0s\u001b[0m 929ms/step - accuracy: 0.8027 - loss: 0.4358\n",
      "Epoch 166: saving model to model_checkpoint.keras\n",
      "\u001b[1m181/181\u001b[0m \u001b[32m━━━━━━━━━━━━━━━━━━━━\u001b[0m\u001b[37m\u001b[0m \u001b[1m188s\u001b[0m 1s/step - accuracy: 0.8028 - loss: 0.4358 - val_accuracy: 0.7798 - val_loss: 0.4591\n",
      "Epoch 167/200\n",
      "\u001b[1m181/181\u001b[0m \u001b[32m━━━━━━━━━━━━━━━━━━━━\u001b[0m\u001b[37m\u001b[0m \u001b[1m0s\u001b[0m 928ms/step - accuracy: 0.8000 - loss: 0.4331\n",
      "Epoch 167: saving model to model_checkpoint.keras\n",
      "\u001b[1m181/181\u001b[0m \u001b[32m━━━━━━━━━━━━━━━━━━━━\u001b[0m\u001b[37m\u001b[0m \u001b[1m187s\u001b[0m 1s/step - accuracy: 0.8001 - loss: 0.4331 - val_accuracy: 0.7742 - val_loss: 0.4587\n",
      "Epoch 168/200\n",
      "\u001b[1m181/181\u001b[0m \u001b[32m━━━━━━━━━━━━━━━━━━━━\u001b[0m\u001b[37m\u001b[0m \u001b[1m0s\u001b[0m 929ms/step - accuracy: 0.8114 - loss: 0.4338\n",
      "Epoch 168: saving model to model_checkpoint.keras\n",
      "\u001b[1m181/181\u001b[0m \u001b[32m━━━━━━━━━━━━━━━━━━━━\u001b[0m\u001b[37m\u001b[0m \u001b[1m188s\u001b[0m 1s/step - accuracy: 0.8114 - loss: 0.4338 - val_accuracy: 0.7715 - val_loss: 0.4533\n",
      "Epoch 169/200\n",
      "\u001b[1m181/181\u001b[0m \u001b[32m━━━━━━━━━━━━━━━━━━━━\u001b[0m\u001b[37m\u001b[0m \u001b[1m0s\u001b[0m 928ms/step - accuracy: 0.8069 - loss: 0.4297\n",
      "Epoch 169: saving model to model_checkpoint.keras\n",
      "\u001b[1m181/181\u001b[0m \u001b[32m━━━━━━━━━━━━━━━━━━━━\u001b[0m\u001b[37m\u001b[0m \u001b[1m187s\u001b[0m 1s/step - accuracy: 0.8068 - loss: 0.4297 - val_accuracy: 0.7521 - val_loss: 0.4628\n",
      "Epoch 170/200\n",
      "\u001b[1m181/181\u001b[0m \u001b[32m━━━━━━━━━━━━━━━━━━━━\u001b[0m\u001b[37m\u001b[0m \u001b[1m0s\u001b[0m 929ms/step - accuracy: 0.8105 - loss: 0.4217\n",
      "Epoch 170: saving model to model_checkpoint.keras\n",
      "\u001b[1m181/181\u001b[0m \u001b[32m━━━━━━━━━━━━━━━━━━━━\u001b[0m\u001b[37m\u001b[0m \u001b[1m189s\u001b[0m 1s/step - accuracy: 0.8105 - loss: 0.4218 - val_accuracy: 0.7576 - val_loss: 0.4592\n",
      "Epoch 171/200\n",
      "\u001b[1m181/181\u001b[0m \u001b[32m━━━━━━━━━━━━━━━━━━━━\u001b[0m\u001b[37m\u001b[0m \u001b[1m0s\u001b[0m 929ms/step - accuracy: 0.8013 - loss: 0.4282\n",
      "Epoch 171: saving model to model_checkpoint.keras\n",
      "\u001b[1m181/181\u001b[0m \u001b[32m━━━━━━━━━━━━━━━━━━━━\u001b[0m\u001b[37m\u001b[0m \u001b[1m190s\u001b[0m 1s/step - accuracy: 0.8013 - loss: 0.4283 - val_accuracy: 0.7839 - val_loss: 0.4551\n",
      "Epoch 172/200\n",
      "\u001b[1m181/181\u001b[0m \u001b[32m━━━━━━━━━━━━━━━━━━━━\u001b[0m\u001b[37m\u001b[0m \u001b[1m0s\u001b[0m 929ms/step - accuracy: 0.8088 - loss: 0.4258\n",
      "Epoch 172: saving model to model_checkpoint.keras\n",
      "\u001b[1m181/181\u001b[0m \u001b[32m━━━━━━━━━━━━━━━━━━━━\u001b[0m\u001b[37m\u001b[0m \u001b[1m189s\u001b[0m 1s/step - accuracy: 0.8087 - loss: 0.4258 - val_accuracy: 0.7715 - val_loss: 0.4550\n",
      "Epoch 173/200\n",
      "\u001b[1m181/181\u001b[0m \u001b[32m━━━━━━━━━━━━━━━━━━━━\u001b[0m\u001b[37m\u001b[0m \u001b[1m0s\u001b[0m 929ms/step - accuracy: 0.8084 - loss: 0.4220\n",
      "Epoch 173: saving model to model_checkpoint.keras\n",
      "\u001b[1m181/181\u001b[0m \u001b[32m━━━━━━━━━━━━━━━━━━━━\u001b[0m\u001b[37m\u001b[0m \u001b[1m189s\u001b[0m 1s/step - accuracy: 0.8084 - loss: 0.4220 - val_accuracy: 0.7798 - val_loss: 0.4523\n",
      "Epoch 174/200\n",
      "\u001b[1m181/181\u001b[0m \u001b[32m━━━━━━━━━━━━━━━━━━━━\u001b[0m\u001b[37m\u001b[0m \u001b[1m0s\u001b[0m 928ms/step - accuracy: 0.8107 - loss: 0.4269\n",
      "Epoch 174: saving model to model_checkpoint.keras\n",
      "\u001b[1m181/181\u001b[0m \u001b[32m━━━━━━━━━━━━━━━━━━━━\u001b[0m\u001b[37m\u001b[0m \u001b[1m188s\u001b[0m 1s/step - accuracy: 0.8107 - loss: 0.4269 - val_accuracy: 0.7798 - val_loss: 0.4512\n",
      "Epoch 175/200\n",
      "\u001b[1m181/181\u001b[0m \u001b[32m━━━━━━━━━━━━━━━━━━━━\u001b[0m\u001b[37m\u001b[0m \u001b[1m0s\u001b[0m 929ms/step - accuracy: 0.8191 - loss: 0.4145\n",
      "Epoch 175: saving model to model_checkpoint.keras\n",
      "\u001b[1m181/181\u001b[0m \u001b[32m━━━━━━━━━━━━━━━━━━━━\u001b[0m\u001b[37m\u001b[0m \u001b[1m188s\u001b[0m 1s/step - accuracy: 0.8191 - loss: 0.4146 - val_accuracy: 0.7784 - val_loss: 0.4512\n",
      "Epoch 176/200\n",
      "\u001b[1m181/181\u001b[0m \u001b[32m━━━━━━━━━━━━━━━━━━━━\u001b[0m\u001b[37m\u001b[0m \u001b[1m0s\u001b[0m 928ms/step - accuracy: 0.8094 - loss: 0.4279\n",
      "Epoch 176: saving model to model_checkpoint.keras\n",
      "\u001b[1m181/181\u001b[0m \u001b[32m━━━━━━━━━━━━━━━━━━━━\u001b[0m\u001b[37m\u001b[0m \u001b[1m189s\u001b[0m 1s/step - accuracy: 0.8094 - loss: 0.4279 - val_accuracy: 0.7715 - val_loss: 0.4513\n",
      "Epoch 177/200\n",
      "\u001b[1m181/181\u001b[0m \u001b[32m━━━━━━━━━━━━━━━━━━━━\u001b[0m\u001b[37m\u001b[0m \u001b[1m0s\u001b[0m 929ms/step - accuracy: 0.7994 - loss: 0.4309\n",
      "Epoch 177: saving model to model_checkpoint.keras\n",
      "\u001b[1m181/181\u001b[0m \u001b[32m━━━━━━━━━━━━━━━━━━━━\u001b[0m\u001b[37m\u001b[0m \u001b[1m190s\u001b[0m 1s/step - accuracy: 0.7994 - loss: 0.4308 - val_accuracy: 0.7756 - val_loss: 0.4445\n",
      "Epoch 178/200\n",
      "\u001b[1m181/181\u001b[0m \u001b[32m━━━━━━━━━━━━━━━━━━━━\u001b[0m\u001b[37m\u001b[0m \u001b[1m0s\u001b[0m 930ms/step - accuracy: 0.8117 - loss: 0.4212\n",
      "Epoch 178: saving model to model_checkpoint.keras\n",
      "\u001b[1m181/181\u001b[0m \u001b[32m━━━━━━━━━━━━━━━━━━━━\u001b[0m\u001b[37m\u001b[0m \u001b[1m189s\u001b[0m 1s/step - accuracy: 0.8116 - loss: 0.4213 - val_accuracy: 0.7756 - val_loss: 0.4444\n",
      "Epoch 179/200\n",
      "\u001b[1m181/181\u001b[0m \u001b[32m━━━━━━━━━━━━━━━━━━━━\u001b[0m\u001b[37m\u001b[0m \u001b[1m0s\u001b[0m 930ms/step - accuracy: 0.8089 - loss: 0.4241\n",
      "Epoch 179: saving model to model_checkpoint.keras\n",
      "\u001b[1m181/181\u001b[0m \u001b[32m━━━━━━━━━━━━━━━━━━━━\u001b[0m\u001b[37m\u001b[0m \u001b[1m189s\u001b[0m 1s/step - accuracy: 0.8090 - loss: 0.4240 - val_accuracy: 0.7964 - val_loss: 0.4503\n",
      "Epoch 180/200\n",
      "\u001b[1m181/181\u001b[0m \u001b[32m━━━━━━━━━━━━━━━━━━━━\u001b[0m\u001b[37m\u001b[0m \u001b[1m0s\u001b[0m 930ms/step - accuracy: 0.8127 - loss: 0.4195\n",
      "Epoch 180: saving model to model_checkpoint.keras\n",
      "\u001b[1m181/181\u001b[0m \u001b[32m━━━━━━━━━━━━━━━━━━━━\u001b[0m\u001b[37m\u001b[0m \u001b[1m189s\u001b[0m 1s/step - accuracy: 0.8127 - loss: 0.4195 - val_accuracy: 0.7798 - val_loss: 0.4523\n",
      "Epoch 181/200\n",
      "\u001b[1m181/181\u001b[0m \u001b[32m━━━━━━━━━━━━━━━━━━━━\u001b[0m\u001b[37m\u001b[0m \u001b[1m0s\u001b[0m 930ms/step - accuracy: 0.7970 - loss: 0.4269\n",
      "Epoch 181: saving model to model_checkpoint.keras\n",
      "\u001b[1m181/181\u001b[0m \u001b[32m━━━━━━━━━━━━━━━━━━━━\u001b[0m\u001b[37m\u001b[0m \u001b[1m190s\u001b[0m 1s/step - accuracy: 0.7970 - loss: 0.4269 - val_accuracy: 0.7978 - val_loss: 0.4447\n",
      "Epoch 182/200\n",
      "\u001b[1m181/181\u001b[0m \u001b[32m━━━━━━━━━━━━━━━━━━━━\u001b[0m\u001b[37m\u001b[0m \u001b[1m0s\u001b[0m 931ms/step - accuracy: 0.8174 - loss: 0.4155\n",
      "Epoch 182: saving model to model_checkpoint.keras\n",
      "\u001b[1m181/181\u001b[0m \u001b[32m━━━━━━━━━━━━━━━━━━━━\u001b[0m\u001b[37m\u001b[0m \u001b[1m190s\u001b[0m 1s/step - accuracy: 0.8174 - loss: 0.4155 - val_accuracy: 0.7798 - val_loss: 0.4496\n",
      "Epoch 183/200\n",
      "\u001b[1m181/181\u001b[0m \u001b[32m━━━━━━━━━━━━━━━━━━━━\u001b[0m\u001b[37m\u001b[0m \u001b[1m0s\u001b[0m 931ms/step - accuracy: 0.8118 - loss: 0.4164\n",
      "Epoch 183: saving model to model_checkpoint.keras\n",
      "\u001b[1m181/181\u001b[0m \u001b[32m━━━━━━━━━━━━━━━━━━━━\u001b[0m\u001b[37m\u001b[0m \u001b[1m191s\u001b[0m 1s/step - accuracy: 0.8118 - loss: 0.4164 - val_accuracy: 0.7812 - val_loss: 0.4457\n",
      "Epoch 184/200\n",
      "\u001b[1m181/181\u001b[0m \u001b[32m━━━━━━━━━━━━━━━━━━━━\u001b[0m\u001b[37m\u001b[0m \u001b[1m0s\u001b[0m 931ms/step - accuracy: 0.8025 - loss: 0.4202\n",
      "Epoch 184: saving model to model_checkpoint.keras\n",
      "\u001b[1m181/181\u001b[0m \u001b[32m━━━━━━━━━━━━━━━━━━━━\u001b[0m\u001b[37m\u001b[0m \u001b[1m189s\u001b[0m 1s/step - accuracy: 0.8026 - loss: 0.4202 - val_accuracy: 0.7895 - val_loss: 0.4454\n",
      "Epoch 185/200\n",
      "\u001b[1m181/181\u001b[0m \u001b[32m━━━━━━━━━━━━━━━━━━━━\u001b[0m\u001b[37m\u001b[0m \u001b[1m0s\u001b[0m 929ms/step - accuracy: 0.8111 - loss: 0.4210\n",
      "Epoch 185: saving model to model_checkpoint.keras\n",
      "\u001b[1m181/181\u001b[0m \u001b[32m━━━━━━━━━━━━━━━━━━━━\u001b[0m\u001b[37m\u001b[0m \u001b[1m191s\u001b[0m 1s/step - accuracy: 0.8112 - loss: 0.4210 - val_accuracy: 0.7701 - val_loss: 0.4433\n",
      "Epoch 186/200\n",
      "\u001b[1m181/181\u001b[0m \u001b[32m━━━━━━━━━━━━━━━━━━━━\u001b[0m\u001b[37m\u001b[0m \u001b[1m0s\u001b[0m 930ms/step - accuracy: 0.8124 - loss: 0.4099\n",
      "Epoch 186: saving model to model_checkpoint.keras\n",
      "\u001b[1m181/181\u001b[0m \u001b[32m━━━━━━━━━━━━━━━━━━━━\u001b[0m\u001b[37m\u001b[0m \u001b[1m190s\u001b[0m 1s/step - accuracy: 0.8124 - loss: 0.4099 - val_accuracy: 0.7922 - val_loss: 0.4564\n",
      "Epoch 187/200\n",
      "\u001b[1m181/181\u001b[0m \u001b[32m━━━━━━━━━━━━━━━━━━━━\u001b[0m\u001b[37m\u001b[0m \u001b[1m0s\u001b[0m 937ms/step - accuracy: 0.8123 - loss: 0.4135\n",
      "Epoch 187: saving model to model_checkpoint.keras\n",
      "\u001b[1m181/181\u001b[0m \u001b[32m━━━━━━━━━━━━━━━━━━━━\u001b[0m\u001b[37m\u001b[0m \u001b[1m202s\u001b[0m 1s/step - accuracy: 0.8123 - loss: 0.4135 - val_accuracy: 0.7715 - val_loss: 0.4391\n",
      "Epoch 188/200\n",
      "\u001b[1m181/181\u001b[0m \u001b[32m━━━━━━━━━━━━━━━━━━━━\u001b[0m\u001b[37m\u001b[0m \u001b[1m0s\u001b[0m 931ms/step - accuracy: 0.8112 - loss: 0.4160\n",
      "Epoch 188: saving model to model_checkpoint.keras\n",
      "\u001b[1m181/181\u001b[0m \u001b[32m━━━━━━━━━━━━━━━━━━━━\u001b[0m\u001b[37m\u001b[0m \u001b[1m189s\u001b[0m 1s/step - accuracy: 0.8113 - loss: 0.4159 - val_accuracy: 0.8061 - val_loss: 0.4347\n",
      "Epoch 189/200\n",
      "\u001b[1m181/181\u001b[0m \u001b[32m━━━━━━━━━━━━━━━━━━━━\u001b[0m\u001b[37m\u001b[0m \u001b[1m0s\u001b[0m 928ms/step - accuracy: 0.8124 - loss: 0.4161\n",
      "Epoch 189: saving model to model_checkpoint.keras\n",
      "\u001b[1m181/181\u001b[0m \u001b[32m━━━━━━━━━━━━━━━━━━━━\u001b[0m\u001b[37m\u001b[0m \u001b[1m189s\u001b[0m 1s/step - accuracy: 0.8124 - loss: 0.4161 - val_accuracy: 0.7729 - val_loss: 0.4371\n",
      "Epoch 190/200\n",
      "\u001b[1m181/181\u001b[0m \u001b[32m━━━━━━━━━━━━━━━━━━━━\u001b[0m\u001b[37m\u001b[0m \u001b[1m0s\u001b[0m 929ms/step - accuracy: 0.8157 - loss: 0.4125\n",
      "Epoch 190: saving model to model_checkpoint.keras\n",
      "\u001b[1m181/181\u001b[0m \u001b[32m━━━━━━━━━━━━━━━━━━━━\u001b[0m\u001b[37m\u001b[0m \u001b[1m189s\u001b[0m 1s/step - accuracy: 0.8158 - loss: 0.4125 - val_accuracy: 0.7715 - val_loss: 0.4346\n",
      "Epoch 191/200\n",
      "\u001b[1m181/181\u001b[0m \u001b[32m━━━━━━━━━━━━━━━━━━━━\u001b[0m\u001b[37m\u001b[0m \u001b[1m0s\u001b[0m 928ms/step - accuracy: 0.8220 - loss: 0.4074\n",
      "Epoch 191: saving model to model_checkpoint.keras\n",
      "\u001b[1m181/181\u001b[0m \u001b[32m━━━━━━━━━━━━━━━━━━━━\u001b[0m\u001b[37m\u001b[0m \u001b[1m189s\u001b[0m 1s/step - accuracy: 0.8220 - loss: 0.4073 - val_accuracy: 0.7839 - val_loss: 0.4409\n",
      "Epoch 192/200\n",
      "\u001b[1m181/181\u001b[0m \u001b[32m━━━━━━━━━━━━━━━━━━━━\u001b[0m\u001b[37m\u001b[0m \u001b[1m0s\u001b[0m 928ms/step - accuracy: 0.8156 - loss: 0.4093\n",
      "Epoch 192: saving model to model_checkpoint.keras\n",
      "\u001b[1m181/181\u001b[0m \u001b[32m━━━━━━━━━━━━━━━━━━━━\u001b[0m\u001b[37m\u001b[0m \u001b[1m189s\u001b[0m 1s/step - accuracy: 0.8156 - loss: 0.4093 - val_accuracy: 0.8047 - val_loss: 0.4386\n",
      "Epoch 193/200\n",
      "\u001b[1m181/181\u001b[0m \u001b[32m━━━━━━━━━━━━━━━━━━━━\u001b[0m\u001b[37m\u001b[0m \u001b[1m0s\u001b[0m 927ms/step - accuracy: 0.8110 - loss: 0.4130\n",
      "Epoch 193: saving model to model_checkpoint.keras\n",
      "\u001b[1m181/181\u001b[0m \u001b[32m━━━━━━━━━━━━━━━━━━━━\u001b[0m\u001b[37m\u001b[0m \u001b[1m188s\u001b[0m 1s/step - accuracy: 0.8109 - loss: 0.4130 - val_accuracy: 0.7909 - val_loss: 0.4299\n",
      "Epoch 194/200\n",
      "\u001b[1m181/181\u001b[0m \u001b[32m━━━━━━━━━━━━━━━━━━━━\u001b[0m\u001b[37m\u001b[0m \u001b[1m0s\u001b[0m 929ms/step - accuracy: 0.8287 - loss: 0.3974\n",
      "Epoch 194: saving model to model_checkpoint.keras\n",
      "\u001b[1m181/181\u001b[0m \u001b[32m━━━━━━━━━━━━━━━━━━━━\u001b[0m\u001b[37m\u001b[0m \u001b[1m189s\u001b[0m 1s/step - accuracy: 0.8287 - loss: 0.3974 - val_accuracy: 0.8061 - val_loss: 0.4345\n",
      "Epoch 195/200\n",
      "\u001b[1m181/181\u001b[0m \u001b[32m━━━━━━━━━━━━━━━━━━━━\u001b[0m\u001b[37m\u001b[0m \u001b[1m0s\u001b[0m 927ms/step - accuracy: 0.8219 - loss: 0.4001\n",
      "Epoch 195: saving model to model_checkpoint.keras\n",
      "\u001b[1m181/181\u001b[0m \u001b[32m━━━━━━━━━━━━━━━━━━━━\u001b[0m\u001b[37m\u001b[0m \u001b[1m189s\u001b[0m 1s/step - accuracy: 0.8219 - loss: 0.4001 - val_accuracy: 0.7756 - val_loss: 0.4416\n",
      "Epoch 196/200\n",
      "\u001b[1m181/181\u001b[0m \u001b[32m━━━━━━━━━━━━━━━━━━━━\u001b[0m\u001b[37m\u001b[0m \u001b[1m0s\u001b[0m 929ms/step - accuracy: 0.8227 - loss: 0.4062\n",
      "Epoch 196: saving model to model_checkpoint.keras\n",
      "\u001b[1m181/181\u001b[0m \u001b[32m━━━━━━━━━━━━━━━━━━━━\u001b[0m\u001b[37m\u001b[0m \u001b[1m188s\u001b[0m 1s/step - accuracy: 0.8227 - loss: 0.4062 - val_accuracy: 0.7909 - val_loss: 0.4340\n",
      "Epoch 197/200\n",
      "\u001b[1m181/181\u001b[0m \u001b[32m━━━━━━━━━━━━━━━━━━━━\u001b[0m\u001b[37m\u001b[0m \u001b[1m0s\u001b[0m 928ms/step - accuracy: 0.8150 - loss: 0.4121\n",
      "Epoch 197: saving model to model_checkpoint.keras\n",
      "\u001b[1m181/181\u001b[0m \u001b[32m━━━━━━━━━━━━━━━━━━━━\u001b[0m\u001b[37m\u001b[0m \u001b[1m189s\u001b[0m 1s/step - accuracy: 0.8150 - loss: 0.4121 - val_accuracy: 0.8006 - val_loss: 0.4279\n",
      "Epoch 198/200\n",
      "\u001b[1m181/181\u001b[0m \u001b[32m━━━━━━━━━━━━━━━━━━━━\u001b[0m\u001b[37m\u001b[0m \u001b[1m0s\u001b[0m 928ms/step - accuracy: 0.8167 - loss: 0.3976\n",
      "Epoch 198: saving model to model_checkpoint.keras\n",
      "\u001b[1m181/181\u001b[0m \u001b[32m━━━━━━━━━━━━━━━━━━━━\u001b[0m\u001b[37m\u001b[0m \u001b[1m187s\u001b[0m 1s/step - accuracy: 0.8167 - loss: 0.3977 - val_accuracy: 0.7950 - val_loss: 0.4340\n",
      "Epoch 199/200\n",
      "\u001b[1m181/181\u001b[0m \u001b[32m━━━━━━━━━━━━━━━━━━━━\u001b[0m\u001b[37m\u001b[0m \u001b[1m0s\u001b[0m 930ms/step - accuracy: 0.8068 - loss: 0.4113\n",
      "Epoch 199: saving model to model_checkpoint.keras\n",
      "\u001b[1m181/181\u001b[0m \u001b[32m━━━━━━━━━━━━━━━━━━━━\u001b[0m\u001b[37m\u001b[0m \u001b[1m189s\u001b[0m 1s/step - accuracy: 0.8069 - loss: 0.4113 - val_accuracy: 0.7839 - val_loss: 0.4299\n",
      "Epoch 200/200\n",
      "\u001b[1m181/181\u001b[0m \u001b[32m━━━━━━━━━━━━━━━━━━━━\u001b[0m\u001b[37m\u001b[0m \u001b[1m0s\u001b[0m 928ms/step - accuracy: 0.8194 - loss: 0.4080\n",
      "Epoch 200: saving model to model_checkpoint.keras\n",
      "\u001b[1m181/181\u001b[0m \u001b[32m━━━━━━━━━━━━━━━━━━━━\u001b[0m\u001b[37m\u001b[0m \u001b[1m188s\u001b[0m 1s/step - accuracy: 0.8194 - loss: 0.4080 - val_accuracy: 0.7909 - val_loss: 0.4280\n"
     ]
    }
   ],
   "source": [
    "# Training with the checkpoint callback\n",
    "history = model.fit(\n",
    "    x_train_max,\n",
    "    y_train,\n",
    "    validation_split=0.2,\n",
    "    epochs=200,\n",
    "    batch_size=32,\n",
    "    callbacks=callbacks,\n",
    "    verbose=1\n",
    ")"
   ]
  },
  {
   "cell_type": "code",
   "execution_count": 24,
   "id": "d7fcb4d5",
   "metadata": {
    "execution": {
     "iopub.execute_input": "2024-09-18T23:48:08.699747Z",
     "iopub.status.busy": "2024-09-18T23:48:08.699369Z",
     "iopub.status.idle": "2024-09-18T23:48:09.342643Z",
     "shell.execute_reply": "2024-09-18T23:48:09.341662Z"
    },
    "papermill": {
     "duration": 3.714739,
     "end_time": "2024-09-18T23:48:09.344735",
     "exception": false,
     "start_time": "2024-09-18T23:48:05.629996",
     "status": "completed"
    },
    "tags": []
   },
   "outputs": [
    {
     "data": {
      "image/png": "[encoded data removed]",
      "text/plain": [
       "<Figure size 640x480 with 1 Axes>"
      ]
     },
     "metadata": {},
     "output_type": "display_data"
    },
    {
     "data": {
      "image/png": "[encoded data removed]",
      "text/plain": [
       "<Figure size 640x480 with 1 Axes>"
      ]
     },
     "metadata": {},
     "output_type": "display_data"
    }
   ],
   "source": [
    "import matplotlib.pyplot as plt\n",
    "\n",
    "# Plotting loss over epochs\n",
    "plt.plot(history.history['loss'], label='Training Loss')\n",
    "plt.plot(history.history['val_loss'], label='Validation Loss')\n",
    "plt.title('Loss vs Epochs')\n",
    "plt.xlabel('Epochs')\n",
    "plt.ylabel('Loss')\n",
    "plt.legend()\n",
    "plt.show()\n",
    "\n",
    "# Plotting accuracy over epochs\n",
    "plt.plot(history.history['accuracy'], label='Training Accuracy')\n",
    "plt.plot(history.history['val_accuracy'], label='Validation Accuracy')\n",
    "plt.title('Accuracy vs Epochs')\n",
    "plt.xlabel('Epochs')\n",
    "plt.ylabel('Accuracy')\n",
    "plt.legend()\n",
    "plt.show()\n"
   ]
  },
  {
   "cell_type": "code",
   "execution_count": 25,
   "id": "27b94104",
   "metadata": {
    "execution": {
     "iopub.execute_input": "2024-09-18T23:48:15.604680Z",
     "iopub.status.busy": "2024-09-18T23:48:15.604260Z",
     "iopub.status.idle": "2024-09-18T23:48:42.396758Z",
     "shell.execute_reply": "2024-09-18T23:48:42.395874Z"
    },
    "papermill": {
     "duration": 29.936653,
     "end_time": "2024-09-18T23:48:42.398783",
     "exception": false,
     "start_time": "2024-09-18T23:48:12.462130",
     "status": "completed"
    },
    "tags": []
   },
   "outputs": [
    {
     "name": "stdout",
     "output_type": "stream",
     "text": [
      "\u001b[1m57/57\u001b[0m \u001b[32m━━━━━━━━━━━━━━━━━━━━\u001b[0m\u001b[37m\u001b[0m \u001b[1m27s\u001b[0m 467ms/step - accuracy: 0.8174 - loss: 0.4104\n",
      "Test Loss: 0.4193688929080963\n",
      "Test Accuracy: 0.7993348240852356\n"
     ]
    }
   ],
   "source": [
    "# Evaluate the model on the test data\n",
    "test_loss, test_accuracy = model.evaluate(x_test_max, y_test)\n",
    "print(f\"Test Loss: {test_loss}\")\n",
    "print(f\"Test Accuracy: {test_accuracy}\")\n"
   ]
  },
  {
   "cell_type": "code",
   "execution_count": 26,
   "id": "1c5fb628",
   "metadata": {
    "execution": {
     "iopub.execute_input": "2024-09-18T23:48:48.611624Z",
     "iopub.status.busy": "2024-09-18T23:48:48.611232Z",
     "iopub.status.idle": "2024-09-18T23:49:12.546355Z",
     "shell.execute_reply": "2024-09-18T23:49:12.545517Z"
    },
    "papermill": {
     "duration": 27.005062,
     "end_time": "2024-09-18T23:49:12.548520",
     "exception": false,
     "start_time": "2024-09-18T23:48:45.543458",
     "status": "completed"
    },
    "tags": []
   },
   "outputs": [
    {
     "name": "stdout",
     "output_type": "stream",
     "text": [
      "\u001b[1m57/57\u001b[0m \u001b[32m━━━━━━━━━━━━━━━━━━━━\u001b[0m\u001b[37m\u001b[0m \u001b[1m23s\u001b[0m 392ms/step\n"
     ]
    }
   ],
   "source": [
    "from sklearn.metrics import confusion_matrix, classification_report, f1_score, precision_score, recall_score\n",
    "import seaborn as sns\n",
    "\n",
    "# Generate predictions on the test set\n",
    "y_pred = model.predict(x_test_max)\n",
    "y_pred_classes = (y_pred > 0.5).astype(\"int32\")"
   ]
  },
  {
   "cell_type": "code",
   "execution_count": 27,
   "id": "94bee23a",
   "metadata": {
    "execution": {
     "iopub.execute_input": "2024-09-18T23:49:18.827664Z",
     "iopub.status.busy": "2024-09-18T23:49:18.826964Z",
     "iopub.status.idle": "2024-09-18T23:49:18.832946Z",
     "shell.execute_reply": "2024-09-18T23:49:18.832014Z"
    },
    "papermill": {
     "duration": 3.069911,
     "end_time": "2024-09-18T23:49:18.834916",
     "exception": false,
     "start_time": "2024-09-18T23:49:15.765005",
     "status": "completed"
    },
    "tags": []
   },
   "outputs": [],
   "source": [
    "from sklearn.metrics import confusion_matrix\n",
    "import seaborn as sns\n",
    "import matplotlib.pyplot as plt\n",
    "\n",
    "# Get the validation data from the training split\n",
    "val_split = 0.2\n",
    "split_idx = int((1 - val_split) * len(x_train_max))\n",
    "x_val = x_train_max[split_idx:]\n",
    "y_val = y_train[split_idx:]"
   ]
  },
  {
   "cell_type": "code",
   "execution_count": 28,
   "id": "20fe8745",
   "metadata": {
    "execution": {
     "iopub.execute_input": "2024-09-18T23:49:25.107708Z",
     "iopub.status.busy": "2024-09-18T23:49:25.107007Z",
     "iopub.status.idle": "2024-09-18T23:51:25.684100Z",
     "shell.execute_reply": "2024-09-18T23:51:25.683274Z"
    },
    "papermill": {
     "duration": 123.678355,
     "end_time": "2024-09-18T23:51:25.686001",
     "exception": false,
     "start_time": "2024-09-18T23:49:22.007646",
     "status": "completed"
    },
    "tags": []
   },
   "outputs": [
    {
     "name": "stdout",
     "output_type": "stream",
     "text": [
      "\u001b[1m226/226\u001b[0m \u001b[32m━━━━━━━━━━━━━━━━━━━━\u001b[0m\u001b[37m\u001b[0m \u001b[1m83s\u001b[0m 367ms/step\n",
      "\u001b[1m46/46\u001b[0m \u001b[32m━━━━━━━━━━━━━━━━━━━━\u001b[0m\u001b[37m\u001b[0m \u001b[1m16s\u001b[0m 357ms/step\n",
      "\u001b[1m57/57\u001b[0m \u001b[32m━━━━━━━━━━━━━━━━━━━━\u001b[0m\u001b[37m\u001b[0m \u001b[1m21s\u001b[0m 361ms/step\n"
     ]
    }
   ],
   "source": [
    "# Predict on training set\n",
    "y_train_pred = model.predict(x_train_max)\n",
    "y_train_pred_classes = (y_train_pred > 0.5).astype(\"int32\")\n",
    "\n",
    "# Predict on validation set\n",
    "y_val_pred = model.predict(x_val)\n",
    "y_val_pred_classes = (y_val_pred > 0.5).astype(\"int32\")\n",
    "\n",
    "# Predict on test set\n",
    "y_test_pred = model.predict(x_test_max)\n",
    "y_test_pred_classes = (y_test_pred > 0.5).astype(\"int32\")"
   ]
  },
  {
   "cell_type": "code",
   "execution_count": 29,
   "id": "9e789b04",
   "metadata": {
    "execution": {
     "iopub.execute_input": "2024-09-18T23:51:32.037021Z",
     "iopub.status.busy": "2024-09-18T23:51:32.036619Z",
     "iopub.status.idle": "2024-09-18T23:51:32.042723Z",
     "shell.execute_reply": "2024-09-18T23:51:32.041789Z"
    },
    "papermill": {
     "duration": 3.194567,
     "end_time": "2024-09-18T23:51:32.044654",
     "exception": false,
     "start_time": "2024-09-18T23:51:28.850087",
     "status": "completed"
    },
    "tags": []
   },
   "outputs": [],
   "source": [
    "\n",
    "# Function to plot confusion matrix\n",
    "def plot_confusion_matrix(y_true, y_pred, title):\n",
    "    cm = confusion_matrix(y_true, y_pred)\n",
    "    plt.figure(figsize=(6,6))\n",
    "    sns.heatmap(cm, annot=True, fmt=\"d\", cmap=\"Blues\", cbar=False)\n",
    "    plt.title(f'Confusion Matrix - {title}')\n",
    "    plt.xlabel('Predicted Label')\n",
    "    plt.ylabel('True Label')\n",
    "    plt.show()\n"
   ]
  },
  {
   "cell_type": "code",
   "execution_count": 30,
   "id": "a6b8cff9",
   "metadata": {
    "execution": {
     "iopub.execute_input": "2024-09-18T23:51:38.346904Z",
     "iopub.status.busy": "2024-09-18T23:51:38.346019Z",
     "iopub.status.idle": "2024-09-18T23:51:38.539834Z",
     "shell.execute_reply": "2024-09-18T23:51:38.538896Z"
    },
    "papermill": {
     "duration": 3.371503,
     "end_time": "2024-09-18T23:51:38.542191",
     "exception": false,
     "start_time": "2024-09-18T23:51:35.170688",
     "status": "completed"
    },
    "tags": []
   },
   "outputs": [
    {
     "data": {
      "image/png": "[encoded data removed]",
      "text/plain": [
       "<Figure size 600x600 with 1 Axes>"
      ]
     },
     "metadata": {},
     "output_type": "display_data"
    }
   ],
   "source": [
    "# Plot confusion matrix for training set\n",
    "plot_confusion_matrix(y_train, y_train_pred_classes, \"Training Set\")"
   ]
  },
  {
   "cell_type": "code",
   "execution_count": 31,
   "id": "e2451d91",
   "metadata": {
    "execution": {
     "iopub.execute_input": "2024-09-18T23:51:44.891302Z",
     "iopub.status.busy": "2024-09-18T23:51:44.890505Z",
     "iopub.status.idle": "2024-09-18T23:51:45.068219Z",
     "shell.execute_reply": "2024-09-18T23:51:45.067284Z"
    },
    "papermill": {
     "duration": 3.351461,
     "end_time": "2024-09-18T23:51:45.070275",
     "exception": false,
     "start_time": "2024-09-18T23:51:41.718814",
     "status": "completed"
    },
    "tags": []
   },
   "outputs": [
    {
     "data": {
      "image/png": "[encoded data removed]",
      "text/plain": [
       "<Figure size 600x600 with 1 Axes>"
      ]
     },
     "metadata": {},
     "output_type": "display_data"
    }
   ],
   "source": [
    "# Plot confusion matrix for validation set\n",
    "plot_confusion_matrix(y_val, y_val_pred_classes, \"Validation Set\")"
   ]
  },
  {
   "cell_type": "code",
   "execution_count": 32,
   "id": "54280835",
   "metadata": {
    "execution": {
     "iopub.execute_input": "2024-09-18T23:51:51.293944Z",
     "iopub.status.busy": "2024-09-18T23:51:51.293540Z",
     "iopub.status.idle": "2024-09-18T23:51:51.472415Z",
     "shell.execute_reply": "2024-09-18T23:51:51.471540Z"
    },
    "papermill": {
     "duration": 3.287029,
     "end_time": "2024-09-18T23:51:51.474442",
     "exception": false,
     "start_time": "2024-09-18T23:51:48.187413",
     "status": "completed"
    },
    "tags": []
   },
   "outputs": [
    {
     "data": {
      "image/png": "[encoded data removed]",
      "text/plain": [
       "<Figure size 600x600 with 1 Axes>"
      ]
     },
     "metadata": {},
     "output_type": "display_data"
    }
   ],
   "source": [
    "# Plot confusion matrix for test set\n",
    "plot_confusion_matrix(y_test, y_test_pred_classes, \"Test Set\")"
   ]
  },
  {
   "cell_type": "code",
   "execution_count": 33,
   "id": "35e8c209",
   "metadata": {
    "execution": {
     "iopub.execute_input": "2024-09-18T23:51:57.749420Z",
     "iopub.status.busy": "2024-09-18T23:51:57.748671Z",
     "iopub.status.idle": "2024-09-18T23:51:57.770281Z",
     "shell.execute_reply": "2024-09-18T23:51:57.769274Z"
    },
    "papermill": {
     "duration": 3.117928,
     "end_time": "2024-09-18T23:51:57.772472",
     "exception": false,
     "start_time": "2024-09-18T23:51:54.654544",
     "status": "completed"
    },
    "tags": []
   },
   "outputs": [
    {
     "name": "stdout",
     "output_type": "stream",
     "text": [
      "              precision    recall  f1-score   support\n",
      "\n",
      "   Undamaged       0.74      0.91      0.82       882\n",
      "     Damaged       0.89      0.70      0.78       922\n",
      "\n",
      "    accuracy                           0.80      1804\n",
      "   macro avg       0.82      0.81      0.80      1804\n",
      "weighted avg       0.82      0.80      0.80      1804\n",
      "\n",
      "F1 Score: 0.7834549878345499\n",
      "Precision: 0.8919667590027701\n",
      "Recall: 0.6984815618221258\n"
     ]
    }
   ],
   "source": [
    "\n",
    "# Classification report for precision, recall, and F1-score\n",
    "report = classification_report(y_test, y_pred_classes, target_names=['Undamaged', 'Damaged'])\n",
    "print(report)\n",
    "\n",
    "# Calculate F1 Score, Precision, and Recall\n",
    "f1 = f1_score(y_test, y_test_pred_classes)\n",
    "precision = precision_score(y_test, y_pred_classes)\n",
    "recall = recall_score(y_test, y_pred_classes)\n",
    "\n",
    "print(f\"F1 Score: {f1}\")\n",
    "print(f\"Precision: {precision}\")\n",
    "print(f\"Recall: {recall}\")\n"
   ]
  },
  {
   "cell_type": "code",
   "execution_count": null,
   "id": "74d66630",
   "metadata": {
    "papermill": {
     "duration": 3.092549,
     "end_time": "2024-09-18T23:52:04.038786",
     "exception": false,
     "start_time": "2024-09-18T23:52:00.946237",
     "status": "completed"
    },
    "tags": []
   },
   "outputs": [],
   "source": []
  }
 ],
 "metadata": {
  "kaggle": {
   "accelerator": "nvidiaTeslaT4",
   "dataSources": [
    {
     "datasetId": 5570761,
     "sourceId": 9212826,
     "sourceType": "datasetVersion"
    }
   ],
   "dockerImageVersionId": 30762,
   "isGpuEnabled": true,
   "isInternetEnabled": true,
   "language": "python",
   "sourceType": "notebook"
  },
  "kernelspec": {
   "display_name": "Python 3",
   "language": "python",
   "name": "python3"
  },
  "language_info": {
   "codemirror_mode": {
    "name": "ipython",
    "version": 3
   },
   "file_extension": ".py",
   "mimetype": "text/x-python",
   "name": "python",
   "nbconvert_exporter": "python",
   "pygments_lexer": "ipython3",
   "version": "3.10.14"
  },
  "papermill": {
   "default_parameters": {},
   "duration": 38349.968414,
   "end_time": "2024-09-18T23:52:09.954384",
   "environment_variables": {},
   "exception": null,
   "input_path": "__notebook__.ipynb",
   "output_path": "__notebook__.ipynb",
   "parameters": {},
   "start_time": "2024-09-18T13:12:59.985970",
   "version": "2.6.0"
  }
 },
 "nbformat": 4,
 "nbformat_minor": 5
}
