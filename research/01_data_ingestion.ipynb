{
 "cells": [
  {
   "cell_type": "code",
   "execution_count": 1,
   "metadata": {},
   "outputs": [],
   "source": [
    "import os"
   ]
  },
  {
   "cell_type": "code",
   "execution_count": 2,
   "metadata": {},
   "outputs": [
    {
     "data": {
      "text/plain": [
       "'c:\\\\Users\\\\adibh\\\\OneDrive\\\\Desktop\\\\transformer_shm\\\\research'"
      ]
     },
     "execution_count": 2,
     "metadata": {},
     "output_type": "execute_result"
    }
   ],
   "source": [
    "%pwd"
   ]
  },
  {
   "cell_type": "code",
   "execution_count": 3,
   "metadata": {},
   "outputs": [],
   "source": [
    "os.chdir(\"../\")"
   ]
  },
  {
   "cell_type": "code",
   "execution_count": 4,
   "metadata": {},
   "outputs": [
    {
     "data": {
      "text/plain": [
       "'c:\\\\Users\\\\adibh\\\\OneDrive\\\\Desktop\\\\transformer_shm'"
      ]
     },
     "execution_count": 4,
     "metadata": {},
     "output_type": "execute_result"
    }
   ],
   "source": [
    "%pwd"
   ]
  },
  {
   "cell_type": "code",
   "execution_count": 5,
   "metadata": {},
   "outputs": [],
   "source": [
    "from dataclasses import dataclass\n",
    "from pathlib import Path"
   ]
  },
  {
   "cell_type": "code",
   "execution_count": 6,
   "metadata": {},
   "outputs": [
    {
     "name": "stdout",
     "output_type": "stream",
     "text": [
      " Volume in drive C is OS\n",
      " Volume Serial Number is 9084-38E5\n",
      "\n",
      " Directory of c:\\Users\\adibh\\OneDrive\\Desktop\\transformer_shm\n",
      "\n",
      "08-12-2024  07:37    <DIR>          .\n",
      "07-12-2024  19:15    <DIR>          ..\n",
      "19-10-2024  12:53             3,312 .gitignore\n",
      "19-10-2024  12:00    <DIR>          artifacts\n",
      "21-10-2024  13:15                 0 main.py\n",
      "07-12-2024  21:22                 0 params.yaml\n",
      "07-12-2024  20:10             4,844 README.md\n",
      "08-12-2024  07:48               254 requirements.txt\n",
      "08-12-2024  07:37    <DIR>          research\n",
      "19-10-2024  11:58               672 setup.py\n",
      "07-12-2024  21:28    <DIR>          src\n",
      "19-10-2024  12:03    <DIR>          templates\n",
      "07-12-2024  21:50    <DIR>          venv\n",
      "               6 File(s)          9,082 bytes\n",
      "               7 Dir(s)  34,512,191,488 bytes free\n"
     ]
    }
   ],
   "source": [
    "ls"
   ]
  },
  {
   "cell_type": "code",
   "execution_count": 9,
   "metadata": {},
   "outputs": [],
   "source": [
    "from dataclasses import dataclass\n",
    "from pathlib import Path\n",
    "\n",
    "@dataclass(frozen=True)\n",
    "class DataIngestionConfig:\n",
    "    root_dir: Path\n",
    "    source_URL: str\n",
    "    local_data_file: Path\n",
    "    unzip_dir: Path"
   ]
  },
  {
   "cell_type": "code",
   "execution_count": 11,
   "metadata": {},
   "outputs": [
    {
     "data": {
      "text/plain": [
       "'c:\\\\Users\\\\adibh\\\\OneDrive\\\\Desktop\\\\transformer_shm'"
      ]
     },
     "execution_count": 11,
     "metadata": {},
     "output_type": "execute_result"
    }
   ],
   "source": [
    "%pwd"
   ]
  },
  {
   "cell_type": "code",
   "execution_count": null,
   "metadata": {},
   "outputs": [],
   "source": []
  },
  {
   "cell_type": "code",
   "execution_count": 26,
   "metadata": {},
   "outputs": [
    {
     "data": {
      "text/plain": [
       "'c:\\\\Users\\\\adibh\\\\OneDrive\\\\Desktop\\\\transformer_shm'"
      ]
     },
     "execution_count": 26,
     "metadata": {},
     "output_type": "execute_result"
    }
   ],
   "source": [
    "%pwd\n",
    "\n"
   ]
  },
  {
   "cell_type": "code",
   "execution_count": null,
   "metadata": {},
   "outputs": [
    {
     "name": "stdout",
     "output_type": "stream",
     "text": [
      " Volume in drive C is OS\n",
      " Volume Serial Number is 9084-38E5\n",
      "\n",
      " Directory of c:\\Users\\adibh\\OneDrive\\Desktop\\transformer_shm\n",
      "\n",
      "08-12-2024  08:24    <DIR>          .\n",
      "07-12-2024  19:15    <DIR>          ..\n",
      "08-12-2024  08:06             3,326 .gitignore\n",
      "08-12-2024  07:57    <DIR>          artifacts\n",
      "21-10-2024  13:15                 0 main.py\n",
      "07-12-2024  21:22                 0 params.yaml\n",
      "07-12-2024  20:10             4,844 README.md\n"
     ]
    },
    {
     "name": "stdout",
     "output_type": "stream",
     "text": [
      "08-12-2024  07:48               254 requirements.txt\n",
      "08-12-2024  07:37    <DIR>          research\n",
      "19-10-2024  11:58               672 setup.py\n",
      "08-12-2024  08:42    <DIR>          src\n",
      "19-10-2024  12:03    <DIR>          templates\n",
      "07-12-2024  21:50    <DIR>          venv\n",
      "               6 File(s)          9,096 bytes\n",
      "               7 Dir(s)  34,496,131,072 bytes free\n"
     ]
    },
    {
     "name": "stderr",
     "output_type": "stream",
     "text": [
      "C:\\Users\\adibh\\.pyenv\\pyenv-win\\versions\\3.10.11\\lib\\threading.py:957: ResourceWarning: unclosed file <_io.BufferedWriter name=4>\n",
      "  del self._target, self._args, self._kwargs\n",
      "ResourceWarning: Enable tracemalloc to get the object allocation traceback\n",
      "C:\\Users\\adibh\\.pyenv\\pyenv-win\\versions\\3.10.11\\lib\\threading.py:957: ResourceWarning: unclosed file <_io.BufferedReader name=5>\n",
      "  del self._target, self._args, self._kwargs\n",
      "ResourceWarning: Enable tracemalloc to get the object allocation traceback\n",
      "C:\\Users\\adibh\\.pyenv\\pyenv-win\\versions\\3.10.11\\lib\\threading.py:957: ResourceWarning: unclosed file <_io.BufferedReader name=6>\n",
      "  del self._target, self._args, self._kwargs\n",
      "ResourceWarning: Enable tracemalloc to get the object allocation traceback\n"
     ]
    }
   ],
   "source": [
    "ls"
   ]
  },
  {
   "cell_type": "code",
   "execution_count": 37,
   "metadata": {},
   "outputs": [],
   "source": [
    "from transformerSHM.constants import *"
   ]
  },
  {
   "cell_type": "code",
   "execution_count": 38,
   "metadata": {},
   "outputs": [],
   "source": [
    "from transformerSHM.utils.common import read_yaml,create_directories"
   ]
  }
 ],
 "metadata": {
  "kernelspec": {
   "display_name": "venv",
   "language": "python",
   "name": "python3"
  },
  "language_info": {
   "codemirror_mode": {
    "name": "ipython",
    "version": 3
   },
   "file_extension": ".py",
   "mimetype": "text/x-python",
   "name": "python",
   "nbconvert_exporter": "python",
   "pygments_lexer": "ipython3",
   "version": "3.10.11"
  }
 },
 "nbformat": 4,
 "nbformat_minor": 2
}
